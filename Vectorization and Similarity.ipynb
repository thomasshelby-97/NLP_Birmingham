{
 "cells": [
  {
   "cell_type": "markdown",
   "id": "6f913a30",
   "metadata": {},
   "source": [
    "## Vectorization of Tokens and Similarity of Documents"
   ]
  },
  {
   "cell_type": "code",
   "execution_count": 2,
   "id": "cb1f0307",
   "metadata": {},
   "outputs": [
    {
     "name": "stdout",
     "output_type": "stream",
     "text": [
      "Requirement already satisfied: gensim in d:\\coding\\lib\\site-packages (4.1.2)\n",
      "Requirement already satisfied: numpy>=1.17.0 in d:\\coding\\lib\\site-packages (from gensim) (1.21.5)\n",
      "Requirement already satisfied: smart-open>=1.8.1 in d:\\coding\\lib\\site-packages (from gensim) (6.3.0)\n",
      "Requirement already satisfied: scipy>=0.18.1 in d:\\coding\\lib\\site-packages (from gensim) (1.7.3)\n"
     ]
    }
   ],
   "source": [
    "!pip install gensim"
   ]
  },
  {
   "cell_type": "code",
   "execution_count": 58,
   "id": "1fdbe613",
   "metadata": {},
   "outputs": [],
   "source": [
    "import gensim\n",
    "import spacy"
   ]
  },
  {
   "cell_type": "code",
   "execution_count": 59,
   "id": "791cd7fe",
   "metadata": {},
   "outputs": [],
   "source": [
    "# Creating an object\n",
    "\n",
    "nlp = spacy.load('en_core_web_sm')"
   ]
  },
  {
   "cell_type": "markdown",
   "id": "7837912e",
   "metadata": {},
   "source": [
    "### Creating a list of texts"
   ]
  },
  {
   "cell_type": "code",
   "execution_count": 60,
   "id": "83d97833",
   "metadata": {},
   "outputs": [],
   "source": [
    "doc_1 = '''Chat GPT is a highly popular AI-based program that people use for generating dialogues. The chatbot has a language-based model that the developer fine-tunes for human interaction in a conversational manner.  It’s a simulated chatbot primarily designed for customer service; people use it for various other purposes. But what is it? If you are new to this Chat GPT, this guide is for you, so continue reading.  What’s Chat GPT? Chat GPT is an AI chatbot auto-generative system created by Open AI for online customer care. It is a pre-trained generative chat, which makes use of (NLP) Natural Language Processing. The source of its data is textbooks, websites, and various articles, which it uses to model its own language for responding to human interaction. This chatbot system provides information and responses to inquiries through AI. The popular version of chat GPT is the GPT-3 model'''"
   ]
  },
  {
   "cell_type": "code",
   "execution_count": 61,
   "id": "5c3351dd",
   "metadata": {},
   "outputs": [
    {
     "data": {
      "text/plain": [
       "'Chat GPT is a highly popular AI-based program that people use for generating dialogues. The chatbot has a language-based model that the developer fine-tunes for human interaction in a conversational manner.  It’s a simulated chatbot primarily designed for customer service; people use it for various other purposes. But what is it? If you are new to this Chat GPT, this guide is for you, so continue reading.  What’s Chat GPT? Chat GPT is an AI chatbot auto-generative system created by Open AI for online customer care. It is a pre-trained generative chat, which makes use of (NLP) Natural Language Processing. The source of its data is textbooks, websites, and various articles, which it uses to model its own language for responding to human interaction. This chatbot system provides information and responses to inquiries through AI. The popular version of chat GPT is the GPT-3 model'"
      ]
     },
     "execution_count": 61,
     "metadata": {},
     "output_type": "execute_result"
    }
   ],
   "source": [
    "doc_1"
   ]
  },
  {
   "cell_type": "code",
   "execution_count": 62,
   "id": "7432efcd",
   "metadata": {},
   "outputs": [],
   "source": [
    "doc_2 = '''What is Chat GPT and why is everyone talking about it? On Twitter, blogs, and at the office, Chat GPT has taken over the conversation in marketing. However, not everyone is a fan. So what is Chat GPT? Who better to ask than Chat GPT itself? ChatGPT is a variant of the GPT (Generative Pre-training Transformer) language model specifically designed for generating text in a chatbot-like manner. It is trained on a large dataset of human-human conversations and can generate natural language responses to input prompts. In other words, it is a smart AI technology that will spit out factual, informative and well-written responses to given prompts. The technology presents endless potential with many applications to marketing including customer service, eCommerce, entertainment, resourcing and more! Along with these benefits, many professionals are questioning what such a helpful tool means for working freelancers and industry professionals'''"
   ]
  },
  {
   "cell_type": "code",
   "execution_count": 63,
   "id": "ac94ac14",
   "metadata": {},
   "outputs": [
    {
     "data": {
      "text/plain": [
       "'What is Chat GPT and why is everyone talking about it? On Twitter, blogs, and at the office, Chat GPT has taken over the conversation in marketing. However, not everyone is a fan. So what is Chat GPT? Who better to ask than Chat GPT itself? ChatGPT is a variant of the GPT (Generative Pre-training Transformer) language model specifically designed for generating text in a chatbot-like manner. It is trained on a large dataset of human-human conversations and can generate natural language responses to input prompts. In other words, it is a smart AI technology that will spit out factual, informative and well-written responses to given prompts. The technology presents endless potential with many applications to marketing including customer service, eCommerce, entertainment, resourcing and more! Along with these benefits, many professionals are questioning what such a helpful tool means for working freelancers and industry professionals'"
      ]
     },
     "execution_count": 63,
     "metadata": {},
     "output_type": "execute_result"
    }
   ],
   "source": [
    "doc_2"
   ]
  },
  {
   "cell_type": "code",
   "execution_count": 64,
   "id": "8e8e0ec2",
   "metadata": {},
   "outputs": [],
   "source": [
    "doc_3 = '''ChatGPT is a large language learning model that was designed to imitate human conversation. It can remember things you have said to it in the past and is capable of correcting itself when wrong. It writes in a human-like way and has a wealth of knowledge because it was trained on all sorts of text from the internet, such as Wikipedia, blog posts, books, and academic articles. It's easy to learn how to use ChatGPT, but what is more challenging is finding out what its biggest problems are. Here are some that are worth knowing about. 1. ChatGPT Isn't Always Right It fails at basic math, can't seem to answer simple logic questions, and will even go as far as to argue completely incorrect facts. As social media users can attest, ChatGPT can get it wrong on more than one occasion'''"
   ]
  },
  {
   "cell_type": "code",
   "execution_count": 65,
   "id": "a5ec8242",
   "metadata": {},
   "outputs": [
    {
     "data": {
      "text/plain": [
       "\"ChatGPT is a large language learning model that was designed to imitate human conversation. It can remember things you have said to it in the past and is capable of correcting itself when wrong. It writes in a human-like way and has a wealth of knowledge because it was trained on all sorts of text from the internet, such as Wikipedia, blog posts, books, and academic articles. It's easy to learn how to use ChatGPT, but what is more challenging is finding out what its biggest problems are. Here are some that are worth knowing about. 1. ChatGPT Isn't Always Right It fails at basic math, can't seem to answer simple logic questions, and will even go as far as to argue completely incorrect facts. As social media users can attest, ChatGPT can get it wrong on more than one occasion\""
      ]
     },
     "execution_count": 65,
     "metadata": {},
     "output_type": "execute_result"
    }
   ],
   "source": [
    "doc_3"
   ]
  },
  {
   "cell_type": "code",
   "execution_count": 66,
   "id": "30517268",
   "metadata": {},
   "outputs": [],
   "source": [
    "doc_4 = '''Texting, chatting and online messaging can be used for much more than simply communicating with your friends. Online communication can help young people build and develop social skills and gives them a platform to share their skills and help each other out. Messaging and texting are among the most popular methods of communication among children and teenagers. A study by Common Sense Media in 2018 found that 70% of teenagers report using social media multiple times a day. Messaging and texting can be much more than ways to communicate. They can also be tools that help young people learn and master important skills. '''"
   ]
  },
  {
   "cell_type": "code",
   "execution_count": 67,
   "id": "7b8cbae6",
   "metadata": {},
   "outputs": [
    {
     "data": {
      "text/plain": [
       "'Texting, chatting and online messaging can be used for much more than simply communicating with your friends. Online communication can help young people build and develop social skills and gives them a platform to share their skills and help each other out. Messaging and texting are among the most popular methods of communication among children and teenagers. A study by Common Sense Media in 2018 found that 70% of teenagers report using social media multiple times a day. Messaging and texting can be much more than ways to communicate. They can also be tools that help young people learn and master important skills. '"
      ]
     },
     "execution_count": 67,
     "metadata": {},
     "output_type": "execute_result"
    }
   ],
   "source": [
    "doc_4"
   ]
  },
  {
   "cell_type": "code",
   "execution_count": 68,
   "id": "2a33739e",
   "metadata": {},
   "outputs": [
    {
     "name": "stdout",
     "output_type": "stream",
     "text": [
      "['Chat GPT is a highly popular AI-based program that people use for generating dialogues. The chatbot has a language-based model that the developer fine-tunes for human interaction in a conversational manner.  It’s a simulated chatbot primarily designed for customer service; people use it for various other purposes. But what is it? If you are new to this Chat GPT, this guide is for you, so continue reading.  What’s Chat GPT? Chat GPT is an AI chatbot auto-generative system created by Open AI for online customer care. It is a pre-trained generative chat, which makes use of (NLP) Natural Language Processing. The source of its data is textbooks, websites, and various articles, which it uses to model its own language for responding to human interaction. This chatbot system provides information and responses to inquiries through AI. The popular version of chat GPT is the GPT-3 model', 'What is Chat GPT and why is everyone talking about it? On Twitter, blogs, and at the office, Chat GPT has taken over the conversation in marketing. However, not everyone is a fan. So what is Chat GPT? Who better to ask than Chat GPT itself? ChatGPT is a variant of the GPT (Generative Pre-training Transformer) language model specifically designed for generating text in a chatbot-like manner. It is trained on a large dataset of human-human conversations and can generate natural language responses to input prompts. In other words, it is a smart AI technology that will spit out factual, informative and well-written responses to given prompts. The technology presents endless potential with many applications to marketing including customer service, eCommerce, entertainment, resourcing and more! Along with these benefits, many professionals are questioning what such a helpful tool means for working freelancers and industry professionals', \"ChatGPT is a large language learning model that was designed to imitate human conversation. It can remember things you have said to it in the past and is capable of correcting itself when wrong. It writes in a human-like way and has a wealth of knowledge because it was trained on all sorts of text from the internet, such as Wikipedia, blog posts, books, and academic articles. It's easy to learn how to use ChatGPT, but what is more challenging is finding out what its biggest problems are. Here are some that are worth knowing about. 1. ChatGPT Isn't Always Right It fails at basic math, can't seem to answer simple logic questions, and will even go as far as to argue completely incorrect facts. As social media users can attest, ChatGPT can get it wrong on more than one occasion\", 'Texting, chatting and online messaging can be used for much more than simply communicating with your friends. Online communication can help young people build and develop social skills and gives them a platform to share their skills and help each other out. Messaging and texting are among the most popular methods of communication among children and teenagers. A study by Common Sense Media in 2018 found that 70% of teenagers report using social media multiple times a day. Messaging and texting can be much more than ways to communicate. They can also be tools that help young people learn and master important skills. ']\n"
     ]
    }
   ],
   "source": [
    "# Creating a list\n",
    "\n",
    "docs = [doc_1, doc_2, doc_3, doc_4]\n",
    "print (docs)"
   ]
  },
  {
   "cell_type": "markdown",
   "id": "c54f0418",
   "metadata": {},
   "source": [
    "### Choosing the tokens"
   ]
  },
  {
   "cell_type": "code",
   "execution_count": 69,
   "id": "4c604017",
   "metadata": {},
   "outputs": [],
   "source": [
    "# Creating a list of all tokens\n",
    "\n",
    "texts = []\n",
    "for document in docs:\n",
    "    doc = nlp(document)\n",
    "    text = [] # list of tokens in the document\n",
    "    for token in doc:\n",
    "        if not token.is_stop and not token.is_punct and not token.like_num:\n",
    "            text.append(token.lemma_)\n",
    "    texts.append(text)    "
   ]
  },
  {
   "cell_type": "code",
   "execution_count": 70,
   "id": "7826e874",
   "metadata": {},
   "outputs": [
    {
     "name": "stdout",
     "output_type": "stream",
     "text": [
      "[['Chat', 'GPT', 'highly', 'popular', 'AI', 'base', 'program', 'people', 'use', 'generating', 'dialogue', 'chatbot', 'language', 'base', 'model', 'developer', 'fine', 'tune', 'human', 'interaction', 'conversational', 'manner', ' ', 'simulated', 'chatbot', 'primarily', 'design', 'customer', 'service', 'people', 'use', 'purpose', 'new', 'Chat', 'GPT', 'guide', 'continue', 'read', ' ', 'Chat', 'GPT', 'Chat', 'GPT', 'AI', 'chatbot', 'auto', 'generative', 'system', 'create', 'Open', 'AI', 'online', 'customer', 'care', 'pre', 'train', 'generative', 'chat', 'make', 'use', 'NLP', 'Natural', 'Language', 'Processing', 'source', 'data', 'textbook', 'website', 'article', 'use', 'model', 'language', 'respond', 'human', 'interaction', 'chatbot', 'system', 'provide', 'information', 'response', 'inquiry', 'AI', 'popular', 'version', 'chat', 'GPT', 'GPT-3', 'model'], ['Chat', 'GPT', 'talk', 'Twitter', 'blog', 'office', 'Chat', 'GPT', 'take', 'conversation', 'marketing', 'fan', 'Chat', 'GPT', 'well', 'ask', 'Chat', 'GPT', 'ChatGPT', 'variant', 'GPT', 'Generative', 'pre', 'training', 'Transformer', 'language', 'model', 'specifically', 'design', 'generate', 'text', 'chatbot', 'like', 'manner', 'train', 'large', 'dataset', 'human', 'human', 'conversation', 'generate', 'natural', 'language', 'response', 'input', 'prompt', 'word', 'smart', 'AI', 'technology', 'spit', 'factual', 'informative', 'write', 'response', 'give', 'prompt', 'technology', 'present', 'endless', 'potential', 'application', 'marketing', 'include', 'customer', 'service', 'eCommerce', 'entertainment', 'resource', 'benefit', 'professional', 'question', 'helpful', 'tool', 'mean', 'work', 'freelancer', 'industry', 'professional'], ['ChatGPT', 'large', 'language', 'learning', 'model', 'design', 'imitate', 'human', 'conversation', 'remember', 'thing', 'say', 'past', 'capable', 'correct', 'wrong', 'write', 'human', 'like', 'way', 'wealth', 'knowledge', 'train', 'sort', 'text', 'internet', 'Wikipedia', 'blog', 'post', 'book', 'academic', 'article', 'easy', 'learn', 'use', 'chatgpt', 'challenging', 'find', 'big', 'problem', 'worth', 'know', 'ChatGPT', 'right', 'fail', 'basic', 'math', 'answer', 'simple', 'logic', 'question', 'far', 'argue', 'completely', 'incorrect', 'fact', 'social', 'medium', 'user', 'attest', 'ChatGPT', 'wrong', 'occasion'], ['texting', 'chat', 'online', 'messaging', 'simply', 'communicate', 'friend', 'online', 'communication', 'help', 'young', 'people', 'build', 'develop', 'social', 'skill', 'give', 'platform', 'share', 'skill', 'help', 'messaging', 'texting', 'popular', 'method', 'communication', 'child', 'teenager', 'study', 'Common', 'Sense', 'medium', 'find', 'teenager', 'report', 'social', 'medium', 'multiple', 'time', 'day', 'messaging', 'texting', 'way', 'communicate', 'tool', 'help', 'young', 'people', 'learn', 'master', 'important', 'skill']]\n"
     ]
    }
   ],
   "source": [
    "print (texts)"
   ]
  },
  {
   "cell_type": "code",
   "execution_count": 71,
   "id": "92146c50",
   "metadata": {},
   "outputs": [
    {
     "name": "stdout",
     "output_type": "stream",
     "text": [
      "4\n"
     ]
    }
   ],
   "source": [
    "print (len(texts)) # List consists of 4 elements"
   ]
  },
  {
   "cell_type": "code",
   "execution_count": 72,
   "id": "c58fb037",
   "metadata": {},
   "outputs": [
    {
     "name": "stdout",
     "output_type": "stream",
     "text": [
      "88\n"
     ]
    }
   ],
   "source": [
    "print (len(texts[0])) # no of elements in the 1st list"
   ]
  },
  {
   "cell_type": "code",
   "execution_count": 73,
   "id": "5384fb0c",
   "metadata": {},
   "outputs": [
    {
     "name": "stdout",
     "output_type": "stream",
     "text": [
      "79\n"
     ]
    }
   ],
   "source": [
    "print (len(texts[1])) # no of elements in the 2nd list"
   ]
  },
  {
   "cell_type": "code",
   "execution_count": 74,
   "id": "9b2d4c4c",
   "metadata": {},
   "outputs": [
    {
     "name": "stdout",
     "output_type": "stream",
     "text": [
      "63\n"
     ]
    }
   ],
   "source": [
    "print (len(texts[2])) # no of elements in the 3rd list"
   ]
  },
  {
   "cell_type": "code",
   "execution_count": 75,
   "id": "8fd7e3fa",
   "metadata": {},
   "outputs": [
    {
     "name": "stdout",
     "output_type": "stream",
     "text": [
      "52\n"
     ]
    }
   ],
   "source": [
    "print (len(texts[3])) # no of elements in the 4th list"
   ]
  },
  {
   "cell_type": "markdown",
   "id": "75787ff9",
   "metadata": {},
   "source": [
    "### Creation of corpus"
   ]
  },
  {
   "cell_type": "markdown",
   "id": "8b7a72cc",
   "metadata": {},
   "source": [
    "**Corpus is a collection of tokens in a dictionary format.**"
   ]
  },
  {
   "cell_type": "code",
   "execution_count": 76,
   "id": "1bcca3f4",
   "metadata": {},
   "outputs": [
    {
     "name": "stdout",
     "output_type": "stream",
     "text": [
      "Dictionary(177 unique tokens: [' ', 'AI', 'Chat', 'GPT', 'GPT-3']...)\n"
     ]
    }
   ],
   "source": [
    "from gensim.corpora import Dictionary\n",
    "\n",
    "dict_1 = Dictionary(texts)\n",
    "print (dict_1)"
   ]
  },
  {
   "cell_type": "markdown",
   "id": "8379b14b",
   "metadata": {},
   "source": [
    "### Providing an ID to each token"
   ]
  },
  {
   "cell_type": "code",
   "execution_count": 77,
   "id": "f6d851cb",
   "metadata": {},
   "outputs": [
    {
     "name": "stdout",
     "output_type": "stream",
     "text": [
      "{' ': 0, 'AI': 1, 'Chat': 2, 'GPT': 3, 'GPT-3': 4, 'Language': 5, 'NLP': 6, 'Natural': 7, 'Open': 8, 'Processing': 9, 'article': 10, 'auto': 11, 'base': 12, 'care': 13, 'chat': 14, 'chatbot': 15, 'continue': 16, 'conversational': 17, 'create': 18, 'customer': 19, 'data': 20, 'design': 21, 'developer': 22, 'dialogue': 23, 'fine': 24, 'generating': 25, 'generative': 26, 'guide': 27, 'highly': 28, 'human': 29, 'information': 30, 'inquiry': 31, 'interaction': 32, 'language': 33, 'make': 34, 'manner': 35, 'model': 36, 'new': 37, 'online': 38, 'people': 39, 'popular': 40, 'pre': 41, 'primarily': 42, 'program': 43, 'provide': 44, 'purpose': 45, 'read': 46, 'respond': 47, 'response': 48, 'service': 49, 'simulated': 50, 'source': 51, 'system': 52, 'textbook': 53, 'train': 54, 'tune': 55, 'use': 56, 'version': 57, 'website': 58, 'ChatGPT': 59, 'Generative': 60, 'Transformer': 61, 'Twitter': 62, 'application': 63, 'ask': 64, 'benefit': 65, 'blog': 66, 'conversation': 67, 'dataset': 68, 'eCommerce': 69, 'endless': 70, 'entertainment': 71, 'factual': 72, 'fan': 73, 'freelancer': 74, 'generate': 75, 'give': 76, 'helpful': 77, 'include': 78, 'industry': 79, 'informative': 80, 'input': 81, 'large': 82, 'like': 83, 'marketing': 84, 'mean': 85, 'natural': 86, 'office': 87, 'potential': 88, 'present': 89, 'professional': 90, 'prompt': 91, 'question': 92, 'resource': 93, 'smart': 94, 'specifically': 95, 'spit': 96, 'take': 97, 'talk': 98, 'technology': 99, 'text': 100, 'tool': 101, 'training': 102, 'variant': 103, 'well': 104, 'word': 105, 'work': 106, 'write': 107, 'Wikipedia': 108, 'academic': 109, 'answer': 110, 'argue': 111, 'attest': 112, 'basic': 113, 'big': 114, 'book': 115, 'capable': 116, 'challenging': 117, 'chatgpt': 118, 'completely': 119, 'correct': 120, 'easy': 121, 'fact': 122, 'fail': 123, 'far': 124, 'find': 125, 'imitate': 126, 'incorrect': 127, 'internet': 128, 'know': 129, 'knowledge': 130, 'learn': 131, 'learning': 132, 'logic': 133, 'math': 134, 'medium': 135, 'occasion': 136, 'past': 137, 'post': 138, 'problem': 139, 'remember': 140, 'right': 141, 'say': 142, 'simple': 143, 'social': 144, 'sort': 145, 'thing': 146, 'user': 147, 'way': 148, 'wealth': 149, 'worth': 150, 'wrong': 151, 'Common': 152, 'Sense': 153, 'build': 154, 'child': 155, 'communicate': 156, 'communication': 157, 'day': 158, 'develop': 159, 'friend': 160, 'help': 161, 'important': 162, 'master': 163, 'messaging': 164, 'method': 165, 'multiple': 166, 'platform': 167, 'report': 168, 'share': 169, 'simply': 170, 'skill': 171, 'study': 172, 'teenager': 173, 'texting': 174, 'time': 175, 'young': 176}\n"
     ]
    }
   ],
   "source": [
    "print (dict_1.token2id)"
   ]
  },
  {
   "cell_type": "code",
   "execution_count": 78,
   "id": "7499f8a2",
   "metadata": {},
   "outputs": [
    {
     "data": {
      "text/plain": [
       "177"
      ]
     },
     "execution_count": 78,
     "metadata": {},
     "output_type": "execute_result"
    }
   ],
   "source": [
    "len(dict_1)"
   ]
  },
  {
   "cell_type": "markdown",
   "id": "4049685f",
   "metadata": {},
   "source": [
    "### Bag of Words"
   ]
  },
  {
   "cell_type": "code",
   "execution_count": 79,
   "id": "9406c6af",
   "metadata": {},
   "outputs": [],
   "source": [
    "bow_vec = []\n",
    "for token in texts:\n",
    "    bow_vec.append(dict_1.doc2bow(token))"
   ]
  },
  {
   "cell_type": "code",
   "execution_count": 80,
   "id": "ad911eee",
   "metadata": {},
   "outputs": [
    {
     "name": "stdout",
     "output_type": "stream",
     "text": [
      "[[(0, 2), (1, 4), (2, 4), (3, 5), (4, 1), (5, 1), (6, 1), (7, 1), (8, 1), (9, 1), (10, 1), (11, 1), (12, 2), (13, 1), (14, 2), (15, 4), (16, 1), (17, 1), (18, 1), (19, 2), (20, 1), (21, 1), (22, 1), (23, 1), (24, 1), (25, 1), (26, 2), (27, 1), (28, 1), (29, 2), (30, 1), (31, 1), (32, 2), (33, 2), (34, 1), (35, 1), (36, 3), (37, 1), (38, 1), (39, 2), (40, 2), (41, 1), (42, 1), (43, 1), (44, 1), (45, 1), (46, 1), (47, 1), (48, 1), (49, 1), (50, 1), (51, 1), (52, 2), (53, 1), (54, 1), (55, 1), (56, 4), (57, 1), (58, 1)], [(1, 1), (2, 4), (3, 5), (15, 1), (19, 1), (21, 1), (29, 2), (33, 2), (35, 1), (36, 1), (41, 1), (48, 2), (49, 1), (54, 1), (59, 1), (60, 1), (61, 1), (62, 1), (63, 1), (64, 1), (65, 1), (66, 1), (67, 2), (68, 1), (69, 1), (70, 1), (71, 1), (72, 1), (73, 1), (74, 1), (75, 2), (76, 1), (77, 1), (78, 1), (79, 1), (80, 1), (81, 1), (82, 1), (83, 1), (84, 2), (85, 1), (86, 1), (87, 1), (88, 1), (89, 1), (90, 2), (91, 2), (92, 1), (93, 1), (94, 1), (95, 1), (96, 1), (97, 1), (98, 1), (99, 2), (100, 1), (101, 1), (102, 1), (103, 1), (104, 1), (105, 1), (106, 1), (107, 1)], [(10, 1), (21, 1), (29, 2), (33, 1), (36, 1), (54, 1), (56, 1), (59, 3), (66, 1), (67, 1), (82, 1), (83, 1), (92, 1), (100, 1), (107, 1), (108, 1), (109, 1), (110, 1), (111, 1), (112, 1), (113, 1), (114, 1), (115, 1), (116, 1), (117, 1), (118, 1), (119, 1), (120, 1), (121, 1), (122, 1), (123, 1), (124, 1), (125, 1), (126, 1), (127, 1), (128, 1), (129, 1), (130, 1), (131, 1), (132, 1), (133, 1), (134, 1), (135, 1), (136, 1), (137, 1), (138, 1), (139, 1), (140, 1), (141, 1), (142, 1), (143, 1), (144, 1), (145, 1), (146, 1), (147, 1), (148, 1), (149, 1), (150, 1), (151, 2)], [(14, 1), (38, 2), (39, 2), (40, 1), (76, 1), (101, 1), (125, 1), (131, 1), (135, 2), (144, 2), (148, 1), (152, 1), (153, 1), (154, 1), (155, 1), (156, 2), (157, 2), (158, 1), (159, 1), (160, 1), (161, 3), (162, 1), (163, 1), (164, 3), (165, 1), (166, 1), (167, 1), (168, 1), (169, 1), (170, 1), (171, 3), (172, 1), (173, 2), (174, 3), (175, 1), (176, 2)]]\n"
     ]
    }
   ],
   "source": [
    "print (bow_vec)"
   ]
  },
  {
   "cell_type": "markdown",
   "id": "f1e5f53c",
   "metadata": {},
   "source": [
    "### Creating bag of words Matrix"
   ]
  },
  {
   "cell_type": "code",
   "execution_count": 81,
   "id": "415ef528",
   "metadata": {},
   "outputs": [],
   "source": [
    "from gensim.matutils import corpus2dense\n",
    "\n",
    "bow_mat = corpus2dense(bow_vec, num_terms = len(dict_1))"
   ]
  },
  {
   "cell_type": "code",
   "execution_count": 82,
   "id": "2e011ef6",
   "metadata": {},
   "outputs": [
    {
     "name": "stdout",
     "output_type": "stream",
     "text": [
      "[[2. 0. 0. 0.]\n",
      " [4. 1. 0. 0.]\n",
      " [4. 4. 0. 0.]\n",
      " [5. 5. 0. 0.]\n",
      " [1. 0. 0. 0.]\n",
      " [1. 0. 0. 0.]\n",
      " [1. 0. 0. 0.]\n",
      " [1. 0. 0. 0.]\n",
      " [1. 0. 0. 0.]\n",
      " [1. 0. 0. 0.]\n",
      " [1. 0. 1. 0.]\n",
      " [1. 0. 0. 0.]\n",
      " [2. 0. 0. 0.]\n",
      " [1. 0. 0. 0.]\n",
      " [2. 0. 0. 1.]\n",
      " [4. 1. 0. 0.]\n",
      " [1. 0. 0. 0.]\n",
      " [1. 0. 0. 0.]\n",
      " [1. 0. 0. 0.]\n",
      " [2. 1. 0. 0.]\n",
      " [1. 0. 0. 0.]\n",
      " [1. 1. 1. 0.]\n",
      " [1. 0. 0. 0.]\n",
      " [1. 0. 0. 0.]\n",
      " [1. 0. 0. 0.]\n",
      " [1. 0. 0. 0.]\n",
      " [2. 0. 0. 0.]\n",
      " [1. 0. 0. 0.]\n",
      " [1. 0. 0. 0.]\n",
      " [2. 2. 2. 0.]\n",
      " [1. 0. 0. 0.]\n",
      " [1. 0. 0. 0.]\n",
      " [2. 0. 0. 0.]\n",
      " [2. 2. 1. 0.]\n",
      " [1. 0. 0. 0.]\n",
      " [1. 1. 0. 0.]\n",
      " [3. 1. 1. 0.]\n",
      " [1. 0. 0. 0.]\n",
      " [1. 0. 0. 2.]\n",
      " [2. 0. 0. 2.]\n",
      " [2. 0. 0. 1.]\n",
      " [1. 1. 0. 0.]\n",
      " [1. 0. 0. 0.]\n",
      " [1. 0. 0. 0.]\n",
      " [1. 0. 0. 0.]\n",
      " [1. 0. 0. 0.]\n",
      " [1. 0. 0. 0.]\n",
      " [1. 0. 0. 0.]\n",
      " [1. 2. 0. 0.]\n",
      " [1. 1. 0. 0.]\n",
      " [1. 0. 0. 0.]\n",
      " [1. 0. 0. 0.]\n",
      " [2. 0. 0. 0.]\n",
      " [1. 0. 0. 0.]\n",
      " [1. 1. 1. 0.]\n",
      " [1. 0. 0. 0.]\n",
      " [4. 0. 1. 0.]\n",
      " [1. 0. 0. 0.]\n",
      " [1. 0. 0. 0.]\n",
      " [0. 1. 3. 0.]\n",
      " [0. 1. 0. 0.]\n",
      " [0. 1. 0. 0.]\n",
      " [0. 1. 0. 0.]\n",
      " [0. 1. 0. 0.]\n",
      " [0. 1. 0. 0.]\n",
      " [0. 1. 0. 0.]\n",
      " [0. 1. 1. 0.]\n",
      " [0. 2. 1. 0.]\n",
      " [0. 1. 0. 0.]\n",
      " [0. 1. 0. 0.]\n",
      " [0. 1. 0. 0.]\n",
      " [0. 1. 0. 0.]\n",
      " [0. 1. 0. 0.]\n",
      " [0. 1. 0. 0.]\n",
      " [0. 1. 0. 0.]\n",
      " [0. 2. 0. 0.]\n",
      " [0. 1. 0. 1.]\n",
      " [0. 1. 0. 0.]\n",
      " [0. 1. 0. 0.]\n",
      " [0. 1. 0. 0.]\n",
      " [0. 1. 0. 0.]\n",
      " [0. 1. 0. 0.]\n",
      " [0. 1. 1. 0.]\n",
      " [0. 1. 1. 0.]\n",
      " [0. 2. 0. 0.]\n",
      " [0. 1. 0. 0.]\n",
      " [0. 1. 0. 0.]\n",
      " [0. 1. 0. 0.]\n",
      " [0. 1. 0. 0.]\n",
      " [0. 1. 0. 0.]\n",
      " [0. 2. 0. 0.]\n",
      " [0. 2. 0. 0.]\n",
      " [0. 1. 1. 0.]\n",
      " [0. 1. 0. 0.]\n",
      " [0. 1. 0. 0.]\n",
      " [0. 1. 0. 0.]\n",
      " [0. 1. 0. 0.]\n",
      " [0. 1. 0. 0.]\n",
      " [0. 1. 0. 0.]\n",
      " [0. 2. 0. 0.]\n",
      " [0. 1. 1. 0.]\n",
      " [0. 1. 0. 1.]\n",
      " [0. 1. 0. 0.]\n",
      " [0. 1. 0. 0.]\n",
      " [0. 1. 0. 0.]\n",
      " [0. 1. 0. 0.]\n",
      " [0. 1. 0. 0.]\n",
      " [0. 1. 1. 0.]\n",
      " [0. 0. 1. 0.]\n",
      " [0. 0. 1. 0.]\n",
      " [0. 0. 1. 0.]\n",
      " [0. 0. 1. 0.]\n",
      " [0. 0. 1. 0.]\n",
      " [0. 0. 1. 0.]\n",
      " [0. 0. 1. 0.]\n",
      " [0. 0. 1. 0.]\n",
      " [0. 0. 1. 0.]\n",
      " [0. 0. 1. 0.]\n",
      " [0. 0. 1. 0.]\n",
      " [0. 0. 1. 0.]\n",
      " [0. 0. 1. 0.]\n",
      " [0. 0. 1. 0.]\n",
      " [0. 0. 1. 0.]\n",
      " [0. 0. 1. 0.]\n",
      " [0. 0. 1. 0.]\n",
      " [0. 0. 1. 1.]\n",
      " [0. 0. 1. 0.]\n",
      " [0. 0. 1. 0.]\n",
      " [0. 0. 1. 0.]\n",
      " [0. 0. 1. 0.]\n",
      " [0. 0. 1. 0.]\n",
      " [0. 0. 1. 1.]\n",
      " [0. 0. 1. 0.]\n",
      " [0. 0. 1. 0.]\n",
      " [0. 0. 1. 0.]\n",
      " [0. 0. 1. 2.]\n",
      " [0. 0. 1. 0.]\n",
      " [0. 0. 1. 0.]\n",
      " [0. 0. 1. 0.]\n",
      " [0. 0. 1. 0.]\n",
      " [0. 0. 1. 0.]\n",
      " [0. 0. 1. 0.]\n",
      " [0. 0. 1. 0.]\n",
      " [0. 0. 1. 0.]\n",
      " [0. 0. 1. 2.]\n",
      " [0. 0. 1. 0.]\n",
      " [0. 0. 1. 0.]\n",
      " [0. 0. 1. 0.]\n",
      " [0. 0. 1. 1.]\n",
      " [0. 0. 1. 0.]\n",
      " [0. 0. 1. 0.]\n",
      " [0. 0. 2. 0.]\n",
      " [0. 0. 0. 1.]\n",
      " [0. 0. 0. 1.]\n",
      " [0. 0. 0. 1.]\n",
      " [0. 0. 0. 1.]\n",
      " [0. 0. 0. 2.]\n",
      " [0. 0. 0. 2.]\n",
      " [0. 0. 0. 1.]\n",
      " [0. 0. 0. 1.]\n",
      " [0. 0. 0. 1.]\n",
      " [0. 0. 0. 3.]\n",
      " [0. 0. 0. 1.]\n",
      " [0. 0. 0. 1.]\n",
      " [0. 0. 0. 3.]\n",
      " [0. 0. 0. 1.]\n",
      " [0. 0. 0. 1.]\n",
      " [0. 0. 0. 1.]\n",
      " [0. 0. 0. 1.]\n",
      " [0. 0. 0. 1.]\n",
      " [0. 0. 0. 1.]\n",
      " [0. 0. 0. 3.]\n",
      " [0. 0. 0. 1.]\n",
      " [0. 0. 0. 2.]\n",
      " [0. 0. 0. 3.]\n",
      " [0. 0. 0. 1.]\n",
      " [0. 0. 0. 2.]]\n"
     ]
    }
   ],
   "source": [
    "print (bow_mat)"
   ]
  },
  {
   "cell_type": "code",
   "execution_count": 83,
   "id": "dca9d40c",
   "metadata": {},
   "outputs": [
    {
     "name": "stdout",
     "output_type": "stream",
     "text": [
      "(177, 4)\n"
     ]
    }
   ],
   "source": [
    "print (bow_mat.shape)"
   ]
  },
  {
   "cell_type": "markdown",
   "id": "da9c52f5",
   "metadata": {},
   "source": [
    "### TFIDF Vectorization"
   ]
  },
  {
   "cell_type": "markdown",
   "id": "9fa56489",
   "metadata": {},
   "source": [
    "**TF - Term Frequency, IDF - Inverse Document Frequency.**"
   ]
  },
  {
   "cell_type": "code",
   "execution_count": 84,
   "id": "191d18b0",
   "metadata": {},
   "outputs": [
    {
     "name": "stdout",
     "output_type": "stream",
     "text": [
      "TfidfModel(num_docs=4, num_nnz=217)\n"
     ]
    }
   ],
   "source": [
    "from gensim.models import TfidfModel\n",
    "\n",
    "tfidf = TfidfModel(bow_vec)\n",
    "print (tfidf)"
   ]
  },
  {
   "cell_type": "code",
   "execution_count": 85,
   "id": "9cd02ec3",
   "metadata": {},
   "outputs": [],
   "source": [
    "tfidf_vec = []\n",
    "for vec in bow_vec:\n",
    "    tfidf_vec.append(tfidf[vec])"
   ]
  },
  {
   "cell_type": "code",
   "execution_count": 86,
   "id": "35885f60",
   "metadata": {},
   "outputs": [
    {
     "name": "stdout",
     "output_type": "stream",
     "text": [
      "[[(0, 0.22010177428784267), (1, 0.22010177428784267), (2, 0.22010177428784267), (3, 0.2751272178598033), (4, 0.11005088714392133), (5, 0.11005088714392133), (6, 0.11005088714392133), (7, 0.11005088714392133), (8, 0.11005088714392133), (9, 0.11005088714392133), (10, 0.05502544357196067), (11, 0.11005088714392133), (12, 0.22010177428784267), (13, 0.11005088714392133), (14, 0.11005088714392133), (15, 0.22010177428784267), (16, 0.11005088714392133), (17, 0.11005088714392133), (18, 0.11005088714392133), (19, 0.11005088714392133), (20, 0.11005088714392133), (21, 0.02283762249681568), (22, 0.11005088714392133), (23, 0.11005088714392133), (24, 0.11005088714392133), (25, 0.11005088714392133), (26, 0.22010177428784267), (27, 0.11005088714392133), (28, 0.11005088714392133), (29, 0.04567524499363136), (30, 0.11005088714392133), (31, 0.11005088714392133), (32, 0.22010177428784267), (33, 0.04567524499363136), (34, 0.11005088714392133), (35, 0.05502544357196067), (36, 0.06851286749044704), (37, 0.11005088714392133), (38, 0.05502544357196067), (39, 0.11005088714392133), (40, 0.11005088714392133), (41, 0.05502544357196067), (42, 0.11005088714392133), (43, 0.11005088714392133), (44, 0.11005088714392133), (45, 0.11005088714392133), (46, 0.11005088714392133), (47, 0.11005088714392133), (48, 0.05502544357196067), (49, 0.05502544357196067), (50, 0.11005088714392133), (51, 0.11005088714392133), (52, 0.22010177428784267), (53, 0.11005088714392133), (54, 0.02283762249681568), (55, 0.11005088714392133), (56, 0.22010177428784267), (57, 0.11005088714392133), (58, 0.11005088714392133)], [(1, 0.059560242081286505), (2, 0.23824096832514602), (3, 0.29780121040643254), (15, 0.059560242081286505), (19, 0.059560242081286505), (21, 0.024719733929859704), (29, 0.04943946785971941), (33, 0.04943946785971941), (35, 0.059560242081286505), (36, 0.024719733929859704), (41, 0.059560242081286505), (48, 0.11912048416257301), (49, 0.059560242081286505), (54, 0.024719733929859704), (59, 0.059560242081286505), (60, 0.11912048416257301), (61, 0.11912048416257301), (62, 0.11912048416257301), (63, 0.11912048416257301), (64, 0.11912048416257301), (65, 0.11912048416257301), (66, 0.059560242081286505), (67, 0.11912048416257301), (68, 0.11912048416257301), (69, 0.11912048416257301), (70, 0.11912048416257301), (71, 0.11912048416257301), (72, 0.11912048416257301), (73, 0.11912048416257301), (74, 0.11912048416257301), (75, 0.23824096832514602), (76, 0.059560242081286505), (77, 0.11912048416257301), (78, 0.11912048416257301), (79, 0.11912048416257301), (80, 0.11912048416257301), (81, 0.11912048416257301), (82, 0.059560242081286505), (83, 0.059560242081286505), (84, 0.23824096832514602), (85, 0.11912048416257301), (86, 0.11912048416257301), (87, 0.11912048416257301), (88, 0.11912048416257301), (89, 0.11912048416257301), (90, 0.23824096832514602), (91, 0.23824096832514602), (92, 0.059560242081286505), (93, 0.11912048416257301), (94, 0.11912048416257301), (95, 0.11912048416257301), (96, 0.11912048416257301), (97, 0.11912048416257301), (98, 0.11912048416257301), (99, 0.23824096832514602), (100, 0.059560242081286505), (101, 0.059560242081286505), (102, 0.11912048416257301), (103, 0.11912048416257301), (104, 0.11912048416257301), (105, 0.11912048416257301), (106, 0.11912048416257301), (107, 0.059560242081286505)], [(10, 0.07209783804407377), (21, 0.02992330640522346), (29, 0.05984661281044692), (33, 0.02992330640522346), (36, 0.02992330640522346), (54, 0.02992330640522346), (56, 0.07209783804407377), (59, 0.2162935141322213), (66, 0.07209783804407377), (67, 0.07209783804407377), (82, 0.07209783804407377), (83, 0.07209783804407377), (92, 0.07209783804407377), (100, 0.07209783804407377), (107, 0.07209783804407377), (108, 0.14419567608814754), (109, 0.14419567608814754), (110, 0.14419567608814754), (111, 0.14419567608814754), (112, 0.14419567608814754), (113, 0.14419567608814754), (114, 0.14419567608814754), (115, 0.14419567608814754), (116, 0.14419567608814754), (117, 0.14419567608814754), (118, 0.14419567608814754), (119, 0.14419567608814754), (120, 0.14419567608814754), (121, 0.14419567608814754), (122, 0.14419567608814754), (123, 0.14419567608814754), (124, 0.14419567608814754), (125, 0.07209783804407377), (126, 0.14419567608814754), (127, 0.14419567608814754), (128, 0.14419567608814754), (129, 0.14419567608814754), (130, 0.14419567608814754), (131, 0.07209783804407377), (132, 0.14419567608814754), (133, 0.14419567608814754), (134, 0.14419567608814754), (135, 0.07209783804407377), (136, 0.14419567608814754), (137, 0.14419567608814754), (138, 0.14419567608814754), (139, 0.14419567608814754), (140, 0.14419567608814754), (141, 0.14419567608814754), (142, 0.14419567608814754), (143, 0.14419567608814754), (144, 0.07209783804407377), (145, 0.14419567608814754), (146, 0.14419567608814754), (147, 0.14419567608814754), (148, 0.07209783804407377), (149, 0.14419567608814754), (150, 0.14419567608814754), (151, 0.2883913521762951)], [(14, 0.05783149319662402), (38, 0.11566298639324804), (39, 0.11566298639324804), (40, 0.05783149319662402), (76, 0.05783149319662402), (101, 0.05783149319662402), (125, 0.05783149319662402), (131, 0.05783149319662402), (135, 0.11566298639324804), (144, 0.11566298639324804), (148, 0.05783149319662402), (152, 0.11566298639324804), (153, 0.11566298639324804), (154, 0.11566298639324804), (155, 0.11566298639324804), (156, 0.23132597278649608), (157, 0.23132597278649608), (158, 0.11566298639324804), (159, 0.11566298639324804), (160, 0.11566298639324804), (161, 0.34698895917974415), (162, 0.11566298639324804), (163, 0.11566298639324804), (164, 0.34698895917974415), (165, 0.11566298639324804), (166, 0.11566298639324804), (167, 0.11566298639324804), (168, 0.11566298639324804), (169, 0.11566298639324804), (170, 0.11566298639324804), (171, 0.34698895917974415), (172, 0.11566298639324804), (173, 0.23132597278649608), (174, 0.34698895917974415), (175, 0.11566298639324804), (176, 0.23132597278649608)]]\n"
     ]
    }
   ],
   "source": [
    "print(tfidf_vec)"
   ]
  },
  {
   "cell_type": "code",
   "execution_count": 87,
   "id": "3b42bcc4",
   "metadata": {},
   "outputs": [
    {
     "name": "stdout",
     "output_type": "stream",
     "text": [
      "4\n"
     ]
    }
   ],
   "source": [
    "print (len(tfidf_vec))"
   ]
  },
  {
   "cell_type": "markdown",
   "id": "3749d0f9",
   "metadata": {},
   "source": [
    "### Similarity of documents"
   ]
  },
  {
   "cell_type": "code",
   "execution_count": 88,
   "id": "a50d9e96",
   "metadata": {},
   "outputs": [
    {
     "name": "stdout",
     "output_type": "stream",
     "text": [
      "MatrixSimilarity<4 docs, 177 features>\n"
     ]
    }
   ],
   "source": [
    "from gensim.similarities import MatrixSimilarity\n",
    "\n",
    "ms = MatrixSimilarity(tfidf_vec, num_features = len(dict_1))\n",
    "print (ms)"
   ]
  },
  {
   "cell_type": "code",
   "execution_count": 89,
   "id": "bb25e2c9",
   "metadata": {},
   "outputs": [
    {
     "name": "stdout",
     "output_type": "stream",
     "text": [
      "[1.         0.19086944 0.02735323 0.03182203]\n"
     ]
    }
   ],
   "source": [
    "print (ms[tfidf_vec[0]])"
   ]
  },
  {
   "cell_type": "code",
   "execution_count": 90,
   "id": "c48073a9",
   "metadata": {},
   "outputs": [
    {
     "name": "stdout",
     "output_type": "stream",
     "text": [
      "[0.19086944 1.         0.05389308 0.00688892]\n"
     ]
    }
   ],
   "source": [
    "print (ms[tfidf_vec[1]])"
   ]
  },
  {
   "cell_type": "code",
   "execution_count": 91,
   "id": "9c0bf242",
   "metadata": {},
   "outputs": [
    {
     "name": "stdout",
     "output_type": "stream",
     "text": [
      "[0.02735323 0.05389308 1.         0.02918668]\n"
     ]
    }
   ],
   "source": [
    "print (ms[tfidf_vec[2]])"
   ]
  },
  {
   "cell_type": "code",
   "execution_count": null,
   "id": "2152972f",
   "metadata": {},
   "outputs": [],
   "source": []
  }
 ],
 "metadata": {
  "kernelspec": {
   "display_name": "Python 3 (ipykernel)",
   "language": "python",
   "name": "python3"
  },
  "language_info": {
   "codemirror_mode": {
    "name": "ipython",
    "version": 3
   },
   "file_extension": ".py",
   "mimetype": "text/x-python",
   "name": "python",
   "nbconvert_exporter": "python",
   "pygments_lexer": "ipython3",
   "version": "3.9.12"
  }
 },
 "nbformat": 4,
 "nbformat_minor": 5
}
