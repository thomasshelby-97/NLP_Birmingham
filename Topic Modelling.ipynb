{
 "cells": [
  {
   "cell_type": "markdown",
   "id": "10797353",
   "metadata": {},
   "source": [
    "## Topic Modelling"
   ]
  },
  {
   "cell_type": "markdown",
   "id": "449d67d6",
   "metadata": {},
   "source": [
    "Topic modeling is a method for unsupervised classification of documents, similar to clustering on numeric data, which finds some natural groups of items (topics) even when we’re not sure what we’re looking for.\n",
    "\n",
    "A document can be a part of multiple topics, kind of like in fuzzy clustering (soft clustering) in which each data point belongs to more than one cluster\n",
    "\n",
    "Topic modeling provides methods for automatically organizing, understanding, searching, and summarizing large electronic archives.\n",
    "It can help with the following:\n",
    "\n",
    "1. Discovering the hidden themes in the collection.\n",
    "2. Classifying the documents into the discovered themes.\n",
    "3. Using the classification to organize/summarize/search the documents.\n",
    "\n",
    "\n",
    "For example, let’s say a document belongs to the topics food, dogs and health. So if a user queries “dog food”, they might find the above-mentioned document relevant because it covers those topics(among other topics). We are able to figure its relevance with respect to the query without even going through the entire document.\n",
    "\n",
    "Therefore, by annotating the document, based on the topics predicted by the modeling method, we are able to optimize our search process\n",
    "\n",
    "**We are going to make use of LDA (Latent Dirichlet Allocation).**"
   ]
  },
  {
   "cell_type": "markdown",
   "id": "9b362cdd",
   "metadata": {},
   "source": [
    "It is one of the most popular topic modeling methods. Each document is made up of various words, and each topic also has various words belonging to it. The aim of LDA is to find topics a document belongs to, based on the words in it."
   ]
  },
  {
   "cell_type": "code",
   "execution_count": 4,
   "id": "af77cc22",
   "metadata": {},
   "outputs": [
    {
     "name": "stdout",
     "output_type": "stream",
     "text": [
      "Collecting pyldavisNote: you may need to restart the kernel to use updated packages.\n",
      "\n",
      "  Using cached pyLDAvis-3.3.1.tar.gz (1.7 MB)\n",
      "  Installing build dependencies: started\n",
      "  Installing build dependencies: finished with status 'done'\n",
      "  Getting requirements to build wheel: started\n",
      "  Getting requirements to build wheel: finished with status 'done'\n",
      "  Installing backend dependencies: started\n",
      "  Installing backend dependencies: finished with status 'done'\n",
      "  Preparing metadata (pyproject.toml): started\n",
      "  Preparing metadata (pyproject.toml): finished with status 'done'\n",
      "Requirement already satisfied: scipy in d:\\coding\\lib\\site-packages (from pyldavis) (1.7.3)\n",
      "Collecting sklearn\n",
      "  Using cached sklearn-0.0.post1.tar.gz (3.6 kB)\n",
      "  Preparing metadata (setup.py): started\n",
      "  Preparing metadata (setup.py): finished with status 'done'\n",
      "Requirement already satisfied: future in d:\\coding\\lib\\site-packages (from pyldavis) (0.18.2)\n",
      "Requirement already satisfied: jinja2 in d:\\coding\\lib\\site-packages (from pyldavis) (2.11.3)\n",
      "Requirement already satisfied: joblib in d:\\coding\\lib\\site-packages (from pyldavis) (1.1.0)\n",
      "Requirement already satisfied: gensim in d:\\coding\\lib\\site-packages (from pyldavis) (4.1.2)\n",
      "Requirement already satisfied: scikit-learn in d:\\coding\\lib\\site-packages (from pyldavis) (1.0.2)\n",
      "Requirement already satisfied: pandas>=1.2.0 in d:\\coding\\lib\\site-packages (from pyldavis) (1.4.2)\n",
      "Collecting funcy\n",
      "  Downloading funcy-1.18-py2.py3-none-any.whl (33 kB)\n",
      "Requirement already satisfied: setuptools in d:\\coding\\lib\\site-packages (from pyldavis) (67.2.0)\n",
      "Requirement already satisfied: numexpr in d:\\coding\\lib\\site-packages (from pyldavis) (2.8.1)\n",
      "Requirement already satisfied: numpy>=1.20.0 in d:\\coding\\lib\\site-packages (from pyldavis) (1.21.5)\n",
      "Requirement already satisfied: pytz>=2020.1 in d:\\coding\\lib\\site-packages (from pandas>=1.2.0->pyldavis) (2021.3)\n",
      "Requirement already satisfied: python-dateutil>=2.8.1 in d:\\coding\\lib\\site-packages (from pandas>=1.2.0->pyldavis) (2.8.2)\n",
      "Requirement already satisfied: smart-open>=1.8.1 in d:\\coding\\lib\\site-packages (from gensim->pyldavis) (6.3.0)\n",
      "Requirement already satisfied: MarkupSafe>=0.23 in d:\\coding\\lib\\site-packages (from jinja2->pyldavis) (2.0.1)\n",
      "Requirement already satisfied: packaging in d:\\coding\\lib\\site-packages (from numexpr->pyldavis) (21.3)\n",
      "Requirement already satisfied: threadpoolctl>=2.0.0 in d:\\coding\\lib\\site-packages (from scikit-learn->pyldavis) (2.2.0)\n",
      "Requirement already satisfied: six>=1.5 in d:\\coding\\lib\\site-packages (from python-dateutil>=2.8.1->pandas>=1.2.0->pyldavis) (1.16.0)\n",
      "Requirement already satisfied: pyparsing!=3.0.5,>=2.0.2 in d:\\coding\\lib\\site-packages (from packaging->numexpr->pyldavis) (3.0.4)\n",
      "Building wheels for collected packages: pyldavis, sklearn\n",
      "  Building wheel for pyldavis (pyproject.toml): started\n",
      "  Building wheel for pyldavis (pyproject.toml): finished with status 'done'\n",
      "  Created wheel for pyldavis: filename=pyLDAvis-3.3.1-py2.py3-none-any.whl size=136904 sha256=79a9597f22b2642aab8f5a09248f625e717863b81f594e2a880cc97d378f28ad\n",
      "  Stored in directory: c:\\users\\abina\\appdata\\local\\pip\\cache\\wheels\\57\\a4\\86\\d10c6c2e0bf149fbc0afb0aa5a6528ac35b30a133a0270c477\n",
      "  Building wheel for sklearn (setup.py): started\n",
      "  Building wheel for sklearn (setup.py): finished with status 'done'\n",
      "  Created wheel for sklearn: filename=sklearn-0.0.post1-py3-none-any.whl size=2954 sha256=746623510136d996dc18962bb4c789e189292bd870a3678df62f8e3eb031ddf9\n",
      "  Stored in directory: c:\\users\\abina\\appdata\\local\\pip\\cache\\wheels\\f8\\e0\\3d\\9d0c2020c44a519b9f02ab4fa6d2a4a996c98d79ab2f569fa1\n",
      "Successfully built pyldavis sklearn\n",
      "Installing collected packages: sklearn, funcy, pyldavis\n",
      "Successfully installed funcy-1.18 pyldavis-3.3.1 sklearn-0.0.post1\n"
     ]
    }
   ],
   "source": [
    "pip install pyldavis"
   ]
  },
  {
   "cell_type": "code",
   "execution_count": 5,
   "id": "c39b92ec",
   "metadata": {},
   "outputs": [],
   "source": [
    "import pyLDAvis"
   ]
  },
  {
   "cell_type": "code",
   "execution_count": 6,
   "id": "548abd4f",
   "metadata": {},
   "outputs": [],
   "source": [
    "import pyLDAvis.gensim_models"
   ]
  },
  {
   "cell_type": "code",
   "execution_count": 7,
   "id": "af068770",
   "metadata": {},
   "outputs": [
    {
     "name": "stderr",
     "output_type": "stream",
     "text": [
      "D:\\Coding\\lib\\site-packages\\scipy\\sparse\\sparsetools.py:21: DeprecationWarning: `scipy.sparse.sparsetools` is deprecated!\n",
      "scipy.sparse.sparsetools is a private module for scipy.sparse, and should not be used.\n",
      "  _deprecated()\n"
     ]
    }
   ],
   "source": [
    "import spacy\n",
    "import gensim"
   ]
  },
  {
   "cell_type": "code",
   "execution_count": 8,
   "id": "7077ba0d",
   "metadata": {},
   "outputs": [
    {
     "name": "stderr",
     "output_type": "stream",
     "text": [
      "D:\\Coding\\lib\\site-packages\\spacy\\util.py:877: UserWarning: [W095] Model 'en_core_web_sm' (3.4.1) was trained with spaCy v3.4 and may not be 100% compatible with the current version (3.5.0). If you see errors or degraded performance, download a newer compatible model or retrain your custom model with the current spaCy version. For more details and available updates, run: python -m spacy validate\n",
      "  warnings.warn(warn_msg)\n"
     ]
    }
   ],
   "source": [
    "nlp = spacy.load('en_core_web_sm')"
   ]
  },
  {
   "cell_type": "markdown",
   "id": "97420815",
   "metadata": {},
   "source": [
    "### Accessing the texts"
   ]
  },
  {
   "cell_type": "code",
   "execution_count": 9,
   "id": "ec22ab88",
   "metadata": {},
   "outputs": [],
   "source": [
    "text_1 = ('''Chess, one of the oldest and most popular board games, played by two opponents on a checkered board with specially designed pieces of contrasting colours, commonly white and black. White moves first, after which the players alternate turns in accordance with fixed rules, each player attempting to force the opponent’s principal piece, the King, into checkmate—a position where it is unable to avoid capture. Chess first appeared in India about the 6th century AD and by the 10th century had spread from Asia to the Middle East and Europe. Since at least the 15th century, chess has been known as the “royal game” because of its popularity among the nobility. Rules and set design slowly evolved until both reached today’s standard in the early 19th century. Once an intellectual diversion favoured by the upper classes, chess went through an explosive growth in interest during the 20th century as professional and state-sponsored players competed for an officially recognized world championship title and increasingly lucrative tournament prizes. Organized chess tournaments, postal correspondence games, and Internet chess now attract men, women, and children around the world. This article provides an in-depth review of the history and the theory of the game by noted author and international grandmaster Andrew Soltis. For a chronological list of world champions since the mid-19th century, featuring direct links to biographical articles, see the table of world chess champions. Chess is played on a board of 64 squares arranged in eight vertical rows called files and eight horizontal rows called ranks. These squares alternate between two colours: one light, such as white, beige, or yellow; and the other dark, such as black or green. The board is set between the two opponents so that each player has a light-coloured square at the right-hand corner. Individual moves and entire games can be recorded using one of several forms of notation. By far the most widely used form, algebraic (or coordinate) notation, identifies each square from the point of view of the player with the light-coloured pieces, called White. The eight ranks are numbered 1 through 8 beginning with the rank closest to White. The files are labeled a through h beginning with the file at White’s left hand. Each square has a name consisting of its letter and number, such as b3 or g8. Additionally, files a through d are referred to as the queenside, and files e through h as the kingside''')"
   ]
  },
  {
   "cell_type": "code",
   "execution_count": 10,
   "id": "ede9a5fe",
   "metadata": {},
   "outputs": [
    {
     "data": {
      "text/plain": [
       "'Chess, one of the oldest and most popular board games, played by two opponents on a checkered board with specially designed pieces of contrasting colours, commonly white and black. White moves first, after which the players alternate turns in accordance with fixed rules, each player attempting to force the opponent’s principal piece, the King, into checkmate—a position where it is unable to avoid capture. Chess first appeared in India about the 6th century AD and by the 10th century had spread from Asia to the Middle East and Europe. Since at least the 15th century, chess has been known as the “royal game” because of its popularity among the nobility. Rules and set design slowly evolved until both reached today’s standard in the early 19th century. Once an intellectual diversion favoured by the upper classes, chess went through an explosive growth in interest during the 20th century as professional and state-sponsored players competed for an officially recognized world championship title and increasingly lucrative tournament prizes. Organized chess tournaments, postal correspondence games, and Internet chess now attract men, women, and children around the world. This article provides an in-depth review of the history and the theory of the game by noted author and international grandmaster Andrew Soltis. For a chronological list of world champions since the mid-19th century, featuring direct links to biographical articles, see the table of world chess champions. Chess is played on a board of 64 squares arranged in eight vertical rows called files and eight horizontal rows called ranks. These squares alternate between two colours: one light, such as white, beige, or yellow; and the other dark, such as black or green. The board is set between the two opponents so that each player has a light-coloured square at the right-hand corner. Individual moves and entire games can be recorded using one of several forms of notation. By far the most widely used form, algebraic (or coordinate) notation, identifies each square from the point of view of the player with the light-coloured pieces, called White. The eight ranks are numbered 1 through 8 beginning with the rank closest to White. The files are labeled a through h beginning with the file at White’s left hand. Each square has a name consisting of its letter and number, such as b3 or g8. Additionally, files a through d are referred to as the queenside, and files e through h as the kingside'"
      ]
     },
     "execution_count": 10,
     "metadata": {},
     "output_type": "execute_result"
    }
   ],
   "source": [
    "text_1"
   ]
  },
  {
   "cell_type": "code",
   "execution_count": 11,
   "id": "b67e1e73",
   "metadata": {},
   "outputs": [],
   "source": [
    "text_2 = ('''This article documents the progress of significant human–computer chess matches. Chess computers were first able to beat strong chess players in the late 1980s. Their most famous success was the victory of Deep Blue over then World Chess Champion Garry Kasparov in 1997, but there was some controversy over whether the match conditions favored the computer. In 2002–2003, three human–computer matches were drawn, but, whereas Deep Blue was a specialized machine, these were chess programs running on commercially available computers. Chess programs running on commercially available desktop computers won decisive victories against human players in matches in 2005 and 2006. The second of these, against then world champion Vladimir Kramnik is (as of 2019) the last major human-computer match. Since that time, chess programs running on commercial hardware—more recently including mobile phones—have been able to defeat even the strongest human players. MANIAC (1956)In 1956 MANIAC, developed at Los Alamos Scientific Laboratory, became the first computer to defeat a human in a chess-like game. Playing with the simplified Los Alamos rules, it defeated a novice in 23 moves.[1] Mac Hack VI (1966–1968). In 1966 MIT student Richard Greenblatt wrote the chess program Mac Hack VI using MIDAS macro assembly language on a Digital Equipment Corporation PDP-6 computer with 16K of memory. Mac Hack VI evaluated 10 positions per second. In 1967, several MIT students and professors (organized by Seymour Papert) challenged Dr. Hubert Dreyfus to play a game of chess against Mac Hack VI. Dreyfus, a professor of philosophy at MIT, wrote the book What Computers Can’t Do, questioning the computer's ability to serve as a model for the human brain. He also asserted that no computer program could defeat even a 10-year-old child at chess. Dreyfus accepted the challenge. Herbert A. Simon, an artificial intelligence pioneer, watched the game. He said, \"it was a wonderful game—a real cliffhanger between two woodpushers with bursts of insights and fiendish plans ... great moments of drama and disaster that go in such games.\" The computer was beating Dreyfus when he found a move which could have captured the enemy queen. The only way the computer could get out of this was to keep Dreyfus in checks with its own queen until it could fork the queen and king, and then exchange them. That is what the computer did. Soon, Dreyfus was losing. Finally, the computer checkmated Dreyfus in the middle of the board. In the spring of 1967, Mac Hack VI played in the Boston Amateur championship, winning two games and drawing two games. Mac Hack VI beat a 1510 United States Chess Federation player. This was the first time a computer won a game in a human tournament. At the end of 1968, Mac Hack VI achieved a rating of 1529. The average rating in the USCF was near 1500.[2] Chess x.x (1968–1978) In 1968, Northwestern University students Larry Atkin, David Slate and Keith Gorlen began work on Chess (Northwestern University). On 14 April 1970 an exhibition game was played against Australian Champion Fred Flatow, the program running on a Control Data Corporation 6600 model. Flatow won easily. On 25 July 1976, Chess 4.5 scored 5–0 in the Class B (1600–1799) section of the 4th Paul Masson chess tournament in Saratoga, California. This was the first time a computer won a human tournament. Chess 4.5 was rated 1722. Chess 4.5 running on a Control Data Corporation CDC Cyber 175 supercomputer (2.1 megaflops) looked at less than 1500 positions per second. On 20 February 1977, Chess 4.5 won the 84th Minnesota Open Championship with 5 wins and 1 loss. It defeated expert Charles Fenner rated 2016. On 30 April 1978, Chess 4.6 scored 5–0 at the Twin Cities Open in Minneapolis. Chess 4.6 was rated 2040.[3] International Master Edward Lasker stated that year, \"My contention that computers cannot play like a master, I retract. They play absolutely alarmingly. I know, because I have lost games to 4.7.\"[4] David Levy's bet (1978) Main article: David Levy (chess player) § Computer chess bet For a long time in the 1970s and 1980s, it remained an open question whether any chess program would ever be able to defeat the expertise of top humans. In 1968, International Master David Levy made a famous bet that no chess computer would be able to beat him within ten years. He won his bet in 1978 by beating Chess 4.7 (the strongest computer at the time). Cray Blitz (1981) In 1981, Cray Blitz scored 5–0 in the Mississippi State Championship. In round 4, it defeated Joe Sentef (2262) to become the first computer to beat a master in tournament play and the first computer to gain a master rating (2258).[5] HiTech (1988) In 1988, HiTech won the Pennsylvania State Chess Championship with a score of 4½–½. HiTech defeated International Master Ed Formanek (2485).[6] The Harvard Cup Man versus Computer Chess Challenge was organized by Harvard University. There were six challenges from 1989 until 1995. They played in Boston and New York City. In each challenge the humans scored higher and the highest scorer was a human''')"
   ]
  },
  {
   "cell_type": "code",
   "execution_count": 12,
   "id": "67bfbc8e",
   "metadata": {},
   "outputs": [
    {
     "data": {
      "text/plain": [
       "'This article documents the progress of significant human–computer chess matches. Chess computers were first able to beat strong chess players in the late 1980s. Their most famous success was the victory of Deep Blue over then World Chess Champion Garry Kasparov in 1997, but there was some controversy over whether the match conditions favored the computer. In 2002–2003, three human–computer matches were drawn, but, whereas Deep Blue was a specialized machine, these were chess programs running on commercially available computers. Chess programs running on commercially available desktop computers won decisive victories against human players in matches in 2005 and 2006. The second of these, against then world champion Vladimir Kramnik is (as of 2019) the last major human-computer match. Since that time, chess programs running on commercial hardware—more recently including mobile phones—have been able to defeat even the strongest human players. MANIAC (1956)In 1956 MANIAC, developed at Los Alamos Scientific Laboratory, became the first computer to defeat a human in a chess-like game. Playing with the simplified Los Alamos rules, it defeated a novice in 23 moves.[1] Mac Hack VI (1966–1968). In 1966 MIT student Richard Greenblatt wrote the chess program Mac Hack VI using MIDAS macro assembly language on a Digital Equipment Corporation PDP-6 computer with 16K of memory. Mac Hack VI evaluated 10 positions per second. In 1967, several MIT students and professors (organized by Seymour Papert) challenged Dr. Hubert Dreyfus to play a game of chess against Mac Hack VI. Dreyfus, a professor of philosophy at MIT, wrote the book What Computers Can’t Do, questioning the computer\\'s ability to serve as a model for the human brain. He also asserted that no computer program could defeat even a 10-year-old child at chess. Dreyfus accepted the challenge. Herbert A. Simon, an artificial intelligence pioneer, watched the game. He said, \"it was a wonderful game—a real cliffhanger between two woodpushers with bursts of insights and fiendish plans ... great moments of drama and disaster that go in such games.\" The computer was beating Dreyfus when he found a move which could have captured the enemy queen. The only way the computer could get out of this was to keep Dreyfus in checks with its own queen until it could fork the queen and king, and then exchange them. That is what the computer did. Soon, Dreyfus was losing. Finally, the computer checkmated Dreyfus in the middle of the board. In the spring of 1967, Mac Hack VI played in the Boston Amateur championship, winning two games and drawing two games. Mac Hack VI beat a 1510 United States Chess Federation player. This was the first time a computer won a game in a human tournament. At the end of 1968, Mac Hack VI achieved a rating of 1529. The average rating in the USCF was near 1500.[2] Chess x.x (1968–1978) In 1968, Northwestern University students Larry Atkin, David Slate and Keith Gorlen began work on Chess (Northwestern University). On 14 April 1970 an exhibition game was played against Australian Champion Fred Flatow, the program running on a Control Data Corporation 6600 model. Flatow won easily. On 25 July 1976, Chess 4.5 scored 5–0 in the Class B (1600–1799) section of the 4th Paul Masson chess tournament in Saratoga, California. This was the first time a computer won a human tournament. Chess 4.5 was rated 1722. Chess 4.5 running on a Control Data Corporation CDC Cyber 175 supercomputer (2.1 megaflops) looked at less than 1500 positions per second. On 20 February 1977, Chess 4.5 won the 84th Minnesota Open Championship with 5 wins and 1 loss. It defeated expert Charles Fenner rated 2016. On 30 April 1978, Chess 4.6 scored 5–0 at the Twin Cities Open in Minneapolis. Chess 4.6 was rated 2040.[3] International Master Edward Lasker stated that year, \"My contention that computers cannot play like a master, I retract. They play absolutely alarmingly. I know, because I have lost games to 4.7.\"[4] David Levy\\'s bet (1978) Main article: David Levy (chess player) § Computer chess bet For a long time in the 1970s and 1980s, it remained an open question whether any chess program would ever be able to defeat the expertise of top humans. In 1968, International Master David Levy made a famous bet that no chess computer would be able to beat him within ten years. He won his bet in 1978 by beating Chess 4.7 (the strongest computer at the time). Cray Blitz (1981) In 1981, Cray Blitz scored 5–0 in the Mississippi State Championship. In round 4, it defeated Joe Sentef (2262) to become the first computer to beat a master in tournament play and the first computer to gain a master rating (2258).[5] HiTech (1988) In 1988, HiTech won the Pennsylvania State Chess Championship with a score of 4½–½. HiTech defeated International Master Ed Formanek (2485).[6] The Harvard Cup Man versus Computer Chess Challenge was organized by Harvard University. There were six challenges from 1989 until 1995. They played in Boston and New York City. In each challenge the humans scored higher and the highest scorer was a human'"
      ]
     },
     "execution_count": 12,
     "metadata": {},
     "output_type": "execute_result"
    }
   ],
   "source": [
    "text_2"
   ]
  },
  {
   "cell_type": "code",
   "execution_count": 13,
   "id": "20c0be5e",
   "metadata": {},
   "outputs": [],
   "source": [
    "text_3 = ('''Surprised. Shocked. Stunned. 4th of April 2022 just left everybody nonplussed. The National Assembly was reeling. The opposition was fuming. The government was celebrating. The media was wondering. The people of Pakistan were enquiring. Nobody and nothing had prepared the political pundits for this move. This move’s unpredictability, its alacrity and its associated actions swept the National Assembly carpet from the feet of parliamentarians. The overflowing media gallery was caught shaking their heads. The breaking news went hoarse breaking loudly and repetitively. By the time people had gathered their wits, the National assembly was prorogued and the National assembly was dissolved. If politics is a game of chess, this was a checkmate. In the game of chess when a king is attacked, it is called check. A checkmate occurs when a king is placed in check and has no other moves to escape. When a checkmate happens, the game ends immediately, and the player who delivered the checkmate wins. They say in chess, checkmating your opponent should be your top priority since this will ensure your victory even if you have less material or if you have had a worse position throughout the game. It seems that the happening on 4th April was also a chess move. Whether it will lead to eventual victory despite the Supreme Court striking it down, remains to be seen.Let us see what are the moves and counter moves that government and opposition have played in this game of political chess: 1. The Super Powers discomfort- The super power becomes a super power by finding a “powerless” regional target that can be easily used as a base for its agenda in the region. In Central America where US has been involved in nearly 25 regime changes it targets weaker countries like Guatemala, Panama, Chile, Venezuela etc. In Middle East it used to be Iraq. Iraq rebelled and had to be tamed through a war. In South Asia it shifted between Afghanistan and Pakistan''')"
   ]
  },
  {
   "cell_type": "code",
   "execution_count": 14,
   "id": "ae1d695d",
   "metadata": {},
   "outputs": [
    {
     "data": {
      "text/plain": [
       "'Surprised. Shocked. Stunned. 4th of April 2022 just left everybody nonplussed. The National Assembly was reeling. The opposition was fuming. The government was celebrating. The media was wondering. The people of Pakistan were enquiring. Nobody and nothing had prepared the political pundits for this move. This move’s unpredictability, its alacrity and its associated actions swept the National Assembly carpet from the feet of parliamentarians. The overflowing media gallery was caught shaking their heads. The breaking news went hoarse breaking loudly and repetitively. By the time people had gathered their wits, the National assembly was prorogued and the National assembly was dissolved. If politics is a game of chess, this was a checkmate. In the game of chess when a king is attacked, it is called check. A checkmate occurs when a king is placed in check and has no other moves to escape. When a checkmate happens, the game ends immediately, and the player who delivered the checkmate wins. They say in chess, checkmating your opponent should be your top priority since this will ensure your victory even if you have less material or if you have had a worse position throughout the game. It seems that the happening on 4th April was also a chess move. Whether it will lead to eventual victory despite the Supreme Court striking it down, remains to be seen.Let us see what are the moves and counter moves that government and opposition have played in this game of political chess: 1. The Super Powers discomfort- The super power becomes a super power by finding a “powerless” regional target that can be easily used as a base for its agenda in the region. In Central America where US has been involved in nearly 25 regime changes it targets weaker countries like Guatemala, Panama, Chile, Venezuela etc. In Middle East it used to be Iraq. Iraq rebelled and had to be tamed through a war. In South Asia it shifted between Afghanistan and Pakistan'"
      ]
     },
     "execution_count": 14,
     "metadata": {},
     "output_type": "execute_result"
    }
   ],
   "source": [
    "text_3"
   ]
  },
  {
   "cell_type": "code",
   "execution_count": 15,
   "id": "84410351",
   "metadata": {},
   "outputs": [],
   "source": [
    "# Creating a list of texts\n",
    "\n",
    "texts = [text_1, text_2, text_3]"
   ]
  },
  {
   "cell_type": "code",
   "execution_count": 16,
   "id": "b66cde83",
   "metadata": {},
   "outputs": [
    {
     "name": "stdout",
     "output_type": "stream",
     "text": [
      "['Chess, one of the oldest and most popular board games, played by two opponents on a checkered board with specially designed pieces of contrasting colours, commonly white and black. White moves first, after which the players alternate turns in accordance with fixed rules, each player attempting to force the opponent’s principal piece, the King, into checkmate—a position where it is unable to avoid capture. Chess first appeared in India about the 6th century AD and by the 10th century had spread from Asia to the Middle East and Europe. Since at least the 15th century, chess has been known as the “royal game” because of its popularity among the nobility. Rules and set design slowly evolved until both reached today’s standard in the early 19th century. Once an intellectual diversion favoured by the upper classes, chess went through an explosive growth in interest during the 20th century as professional and state-sponsored players competed for an officially recognized world championship title and increasingly lucrative tournament prizes. Organized chess tournaments, postal correspondence games, and Internet chess now attract men, women, and children around the world. This article provides an in-depth review of the history and the theory of the game by noted author and international grandmaster Andrew Soltis. For a chronological list of world champions since the mid-19th century, featuring direct links to biographical articles, see the table of world chess champions. Chess is played on a board of 64 squares arranged in eight vertical rows called files and eight horizontal rows called ranks. These squares alternate between two colours: one light, such as white, beige, or yellow; and the other dark, such as black or green. The board is set between the two opponents so that each player has a light-coloured square at the right-hand corner. Individual moves and entire games can be recorded using one of several forms of notation. By far the most widely used form, algebraic (or coordinate) notation, identifies each square from the point of view of the player with the light-coloured pieces, called White. The eight ranks are numbered 1 through 8 beginning with the rank closest to White. The files are labeled a through h beginning with the file at White’s left hand. Each square has a name consisting of its letter and number, such as b3 or g8. Additionally, files a through d are referred to as the queenside, and files e through h as the kingside', 'This article documents the progress of significant human–computer chess matches. Chess computers were first able to beat strong chess players in the late 1980s. Their most famous success was the victory of Deep Blue over then World Chess Champion Garry Kasparov in 1997, but there was some controversy over whether the match conditions favored the computer. In 2002–2003, three human–computer matches were drawn, but, whereas Deep Blue was a specialized machine, these were chess programs running on commercially available computers. Chess programs running on commercially available desktop computers won decisive victories against human players in matches in 2005 and 2006. The second of these, against then world champion Vladimir Kramnik is (as of 2019) the last major human-computer match. Since that time, chess programs running on commercial hardware—more recently including mobile phones—have been able to defeat even the strongest human players. MANIAC (1956)In 1956 MANIAC, developed at Los Alamos Scientific Laboratory, became the first computer to defeat a human in a chess-like game. Playing with the simplified Los Alamos rules, it defeated a novice in 23 moves.[1] Mac Hack VI (1966–1968). In 1966 MIT student Richard Greenblatt wrote the chess program Mac Hack VI using MIDAS macro assembly language on a Digital Equipment Corporation PDP-6 computer with 16K of memory. Mac Hack VI evaluated 10 positions per second. In 1967, several MIT students and professors (organized by Seymour Papert) challenged Dr. Hubert Dreyfus to play a game of chess against Mac Hack VI. Dreyfus, a professor of philosophy at MIT, wrote the book What Computers Can’t Do, questioning the computer\\'s ability to serve as a model for the human brain. He also asserted that no computer program could defeat even a 10-year-old child at chess. Dreyfus accepted the challenge. Herbert A. Simon, an artificial intelligence pioneer, watched the game. He said, \"it was a wonderful game—a real cliffhanger between two woodpushers with bursts of insights and fiendish plans ... great moments of drama and disaster that go in such games.\" The computer was beating Dreyfus when he found a move which could have captured the enemy queen. The only way the computer could get out of this was to keep Dreyfus in checks with its own queen until it could fork the queen and king, and then exchange them. That is what the computer did. Soon, Dreyfus was losing. Finally, the computer checkmated Dreyfus in the middle of the board. In the spring of 1967, Mac Hack VI played in the Boston Amateur championship, winning two games and drawing two games. Mac Hack VI beat a 1510 United States Chess Federation player. This was the first time a computer won a game in a human tournament. At the end of 1968, Mac Hack VI achieved a rating of 1529. The average rating in the USCF was near 1500.[2] Chess x.x (1968–1978) In 1968, Northwestern University students Larry Atkin, David Slate and Keith Gorlen began work on Chess (Northwestern University). On 14 April 1970 an exhibition game was played against Australian Champion Fred Flatow, the program running on a Control Data Corporation 6600 model. Flatow won easily. On 25 July 1976, Chess 4.5 scored 5–0 in the Class B (1600–1799) section of the 4th Paul Masson chess tournament in Saratoga, California. This was the first time a computer won a human tournament. Chess 4.5 was rated 1722. Chess 4.5 running on a Control Data Corporation CDC Cyber 175 supercomputer (2.1 megaflops) looked at less than 1500 positions per second. On 20 February 1977, Chess 4.5 won the 84th Minnesota Open Championship with 5 wins and 1 loss. It defeated expert Charles Fenner rated 2016. On 30 April 1978, Chess 4.6 scored 5–0 at the Twin Cities Open in Minneapolis. Chess 4.6 was rated 2040.[3] International Master Edward Lasker stated that year, \"My contention that computers cannot play like a master, I retract. They play absolutely alarmingly. I know, because I have lost games to 4.7.\"[4] David Levy\\'s bet (1978) Main article: David Levy (chess player) § Computer chess bet For a long time in the 1970s and 1980s, it remained an open question whether any chess program would ever be able to defeat the expertise of top humans. In 1968, International Master David Levy made a famous bet that no chess computer would be able to beat him within ten years. He won his bet in 1978 by beating Chess 4.7 (the strongest computer at the time). Cray Blitz (1981) In 1981, Cray Blitz scored 5–0 in the Mississippi State Championship. In round 4, it defeated Joe Sentef (2262) to become the first computer to beat a master in tournament play and the first computer to gain a master rating (2258).[5] HiTech (1988) In 1988, HiTech won the Pennsylvania State Chess Championship with a score of 4½–½. HiTech defeated International Master Ed Formanek (2485).[6] The Harvard Cup Man versus Computer Chess Challenge was organized by Harvard University. There were six challenges from 1989 until 1995. They played in Boston and New York City. In each challenge the humans scored higher and the highest scorer was a human', 'Surprised. Shocked. Stunned. 4th of April 2022 just left everybody nonplussed. The National Assembly was reeling. The opposition was fuming. The government was celebrating. The media was wondering. The people of Pakistan were enquiring. Nobody and nothing had prepared the political pundits for this move. This move’s unpredictability, its alacrity and its associated actions swept the National Assembly carpet from the feet of parliamentarians. The overflowing media gallery was caught shaking their heads. The breaking news went hoarse breaking loudly and repetitively. By the time people had gathered their wits, the National assembly was prorogued and the National assembly was dissolved. If politics is a game of chess, this was a checkmate. In the game of chess when a king is attacked, it is called check. A checkmate occurs when a king is placed in check and has no other moves to escape. When a checkmate happens, the game ends immediately, and the player who delivered the checkmate wins. They say in chess, checkmating your opponent should be your top priority since this will ensure your victory even if you have less material or if you have had a worse position throughout the game. It seems that the happening on 4th April was also a chess move. Whether it will lead to eventual victory despite the Supreme Court striking it down, remains to be seen.Let us see what are the moves and counter moves that government and opposition have played in this game of political chess: 1. The Super Powers discomfort- The super power becomes a super power by finding a “powerless” regional target that can be easily used as a base for its agenda in the region. In Central America where US has been involved in nearly 25 regime changes it targets weaker countries like Guatemala, Panama, Chile, Venezuela etc. In Middle East it used to be Iraq. Iraq rebelled and had to be tamed through a war. In South Asia it shifted between Afghanistan and Pakistan']\n"
     ]
    }
   ],
   "source": [
    "print (texts)"
   ]
  },
  {
   "cell_type": "markdown",
   "id": "e43e74be",
   "metadata": {},
   "source": [
    "### Creating a word list"
   ]
  },
  {
   "cell_type": "code",
   "execution_count": 17,
   "id": "95311648",
   "metadata": {},
   "outputs": [],
   "source": [
    "words_list = []\n",
    "for text in texts:\n",
    "    doc = nlp(text)\n",
    "    text_words = []\n",
    "    for token in doc:\n",
    "        if token.is_stop == False and token.is_punct == False and token.like_num == False and token.text!= '\\n':\n",
    "            text_words.append(token.lemma_)\n",
    "    words_list.append(text_words)"
   ]
  },
  {
   "cell_type": "code",
   "execution_count": 18,
   "id": "9ec047f2",
   "metadata": {},
   "outputs": [
    {
     "name": "stdout",
     "output_type": "stream",
     "text": [
      "[['Chess', 'old', 'popular', 'board', 'game', 'play', 'opponent', 'checkered', 'board', 'specially', 'design', 'piece', 'contrast', 'colour', 'commonly', 'white', 'black', 'white', 'move', 'player', 'alternate', 'turn', 'accordance', 'fix', 'rule', 'player', 'attempt', 'force', 'opponent', 'principal', 'piece', 'King', 'checkmate', 'position', 'unable', 'avoid', 'capture', 'Chess', 'appear', 'India', 'century', 'ad', 'century', 'spread', 'Asia', 'Middle', 'East', 'Europe', 'century', 'chess', 'know', 'royal', 'game', 'popularity', 'nobility', 'rule', 'set', 'design', 'slowly', 'evolve', 'reach', 'today', 'standard', 'early', 'century', 'intellectual', 'diversion', 'favour', 'upper', 'class', 'chess', 'go', 'explosive', 'growth', 'interest', 'century', 'professional', 'state', 'sponsor', 'player', 'compete', 'officially', 'recognize', 'world', 'championship', 'title', 'increasingly', 'lucrative', 'tournament', 'prize', 'organized', 'chess', 'tournament', 'postal', 'correspondence', 'game', 'internet', 'chess', 'attract', 'man', 'woman', 'child', 'world', 'article', 'provide', 'depth', 'review', 'history', 'theory', 'game', 'note', 'author', 'international', 'grandmaster', 'Andrew', 'Soltis', 'chronological', 'list', 'world', 'champion', 'mid-19th', 'century', 'feature', 'direct', 'link', 'biographical', 'article', 'table', 'world', 'chess', 'champion', 'chess', 'play', 'board', 'square', 'arrange', 'vertical', 'row', 'call', 'file', 'horizontal', 'row', 'call', 'rank', 'square', 'alternate', 'colour', 'light', 'white', 'beige', 'yellow', 'dark', 'black', 'green', 'board', 'set', 'opponent', 'player', 'light', 'coloured', 'square', 'right', 'hand', 'corner', 'individual', 'move', 'entire', 'game', 'record', 'form', 'notation', 'far', 'widely', 'form', 'algebraic', 'coordinate', 'notation', 'identify', 'square', 'point', 'view', 'player', 'light', 'colour', 'piece', 'call', 'White', 'rank', 'number', 'beginning', 'rank', 'close', 'White', 'file', 'label', 'h', 'begin', 'file', 'White', 'leave', 'hand', 'square', 'consist', 'letter', 'number', 'b3', 'g8', 'additionally', 'file', 'd', 'refer', 'queenside', 'file', 'e', 'h', 'kingside'], ['article', 'document', 'progress', 'significant', 'human', 'computer', 'chess', 'match', 'chess', 'computer', 'able', 'beat', 'strong', 'chess', 'player', 'late', '1980', 'famous', 'success', 'victory', 'Deep', 'Blue', 'World', 'Chess', 'Champion', 'Garry', 'Kasparov', 'controversy', 'match', 'condition', 'favor', 'computer', '2002–2003', 'human', 'computer', 'match', 'draw', 'Deep', 'Blue', 'specialized', 'machine', 'chess', 'program', 'run', 'commercially', 'available', 'computer', 'chess', 'program', 'run', 'commercially', 'available', 'desktop', 'computer', 'win', 'decisive', 'victory', 'human', 'player', 'match', 'world', 'champion', 'Vladimir', 'Kramnik', 'major', 'human', 'computer', 'match', 'time', 'chess', 'program', 'run', 'commercial', 'hardware', 'recently', 'include', 'mobile', 'phone', 'able', 'defeat', 'strong', 'human', 'player', 'MANIAC', '1956)In', 'MANIAC', 'develop', 'Los', 'Alamos', 'Scientific', 'Laboratory', 'computer', 'defeat', 'human', 'chess', 'like', 'game', 'play', 'simplified', 'Los', 'Alamos', 'rule', 'defeat', 'novice', 'moves.[1', 'Mac', 'Hack', 'VI', '1966–1968', 'MIT', 'student', 'Richard', 'Greenblatt', 'write', 'chess', 'program', 'Mac', 'Hack', 'VI', 'MIDAS', 'macro', 'assembly', 'language', 'Digital', 'Equipment', 'Corporation', 'PDP-6', 'computer', 'k', 'memory', 'Mac', 'Hack', 'VI', 'evaluate', 'position', 'MIT', 'student', 'professor', 'organize', 'Seymour', 'Papert', 'challenge', 'Dr.', 'Hubert', 'Dreyfus', 'play', 'game', 'chess', 'Mac', 'Hack', 'VI', 'Dreyfus', 'professor', 'philosophy', 'MIT', 'write', 'book', 'computer', 'question', 'computer', 'ability', 'serve', 'model', 'human', 'brain', 'assert', 'computer', 'program', 'defeat', 'year', 'old', 'child', 'chess', 'Dreyfus', 'accept', 'challenge', 'Herbert', 'A.', 'Simon', 'artificial', 'intelligence', 'pioneer', 'watch', 'game', 'say', 'wonderful', 'game', 'real', 'cliffhanger', 'woodpusher', 'burst', 'insight', 'fiendish', 'plan', 'great', 'moment', 'drama', 'disaster', 'game', 'computer', 'beat', 'Dreyfus', 'find', 'capture', 'enemy', 'queen', 'way', 'computer', 'Dreyfus', 'check', 'queen', 'fork', 'queen', 'king', 'exchange', 'computer', 'soon', 'Dreyfus', 'lose', 'finally', 'computer', 'checkmate', 'Dreyfus', 'middle', 'board', 'spring', 'Mac', 'Hack', 'VI', 'play', 'Boston', 'Amateur', 'championship', 'win', 'game', 'draw', 'game', 'Mac', 'Hack', 'VI', 'beat', 'United', 'States', 'Chess', 'Federation', 'player', 'time', 'computer', 'win', 'game', 'human', 'tournament', 'end', 'Mac', 'Hack', 'VI', 'achieve', 'rating', 'average', 'rating', 'uscf', 'near', '1500.[2', 'Chess', 'x.x', '1968–1978', 'Northwestern', 'University', 'student', 'Larry', 'Atkin', 'David', 'Slate', 'Keith', 'Gorlen', 'begin', 'work', 'Chess', 'Northwestern', 'University', 'April', 'exhibition', 'game', 'play', 'Australian', 'Champion', 'Fred', 'Flatow', 'program', 'run', 'Control', 'Data', 'Corporation', 'model', 'flatow', 'win', 'easily', 'July', 'Chess', 'score', '5–0', 'Class', 'B', '1600–1799', 'section', 'Paul', 'Masson', 'chess', 'tournament', 'Saratoga', 'California', 'time', 'computer', 'win', 'human', 'tournament', 'chess', 'rate', 'chess', 'run', 'Control', 'Data', 'Corporation', 'CDC', 'Cyber', 'supercomputer', 'megaflop', 'look', 'position', 'February', 'Chess', 'win', 'Minnesota', 'Open', 'Championship', 'win', 'loss', 'defeat', 'expert', 'Charles', 'Fenner', 'rate', 'April', 'Chess', 'score', '5–0', 'Twin', 'Cities', 'Open', 'Minneapolis', 'Chess', 'rate', '2040.[3', 'International', 'Master', 'Edward', 'Lasker', 'state', 'year', 'contention', 'computer', 'play', 'like', 'master', 'retract', 'play', 'absolutely', 'alarmingly', 'know', 'lose', 'game', '4.7.\"[4', 'David', 'Levy', 'bet', 'main', 'article', 'David', 'Levy', 'chess', 'player', 'Computer', 'chess', 'bet', 'long', 'time', '1970', '1980', 'remain', 'open', 'question', 'chess', 'program', 'able', 'defeat', 'expertise', 'human', 'International', 'Master', 'David', 'Levy', 'famous', 'bet', 'chess', 'computer', 'able', 'beat', 'year', 'win', 'bet', 'beat', 'Chess', 'strong', 'computer', 'time', 'Cray', 'Blitz', 'Cray', 'Blitz', 'score', '5–0', 'Mississippi', 'State', 'Championship', 'round', 'defeat', 'Joe', 'Sentef', 'computer', 'beat', 'master', 'tournament', 'play', 'computer', 'gain', 'master', 'rating', '2258).[5', 'HiTech', 'HiTech', 'win', 'Pennsylvania', 'State', 'Chess', 'Championship', 'score', '4½–½.', 'HiTech', 'defeat', 'International', 'Master', 'Ed', 'Formanek', '2485).[6', 'Harvard', 'Cup', 'Man', 'versus', 'Computer', 'Chess', 'Challenge', 'organize', 'Harvard', 'University', 'challenge', 'play', 'Boston', 'New', 'York', 'City', 'challenge', 'human', 'score', 'higher', 'high', 'scorer', 'human'], ['surprised', 'shocked', 'stun', 'April', 'leave', 'everybody', 'nonplussed', 'National', 'Assembly', 'reel', 'opposition', 'fume', 'government', 'celebrate', 'medium', 'wonder', 'people', 'Pakistan', 'enquire', 'prepare', 'political', 'pundit', 'unpredictability', 'alacrity', 'associate', 'action', 'sweep', 'National', 'Assembly', 'carpet', 'foot', 'parliamentarian', 'overflow', 'medium', 'gallery', 'catch', 'shake', 'head', 'break', 'news', 'go', 'hoarse', 'break', 'loudly', 'repetitively', 'time', 'people', 'gather', 'wit', 'National', 'assembly', 'prorogue', 'National', 'assembly', 'dissolve', 'politic', 'game', 'chess', 'checkmate', 'game', 'chess', 'king', 'attack', 'call', 'check', 'checkmate', 'occur', 'king', 'place', 'check', 'move', 'escape', 'checkmate', 'happen', 'game', 'end', 'immediately', 'player', 'deliver', 'checkmate', 'win', 'chess', 'checkmate', 'opponent', 'priority', 'ensure', 'victory', 'material', 'bad', 'position', 'game', 'happen', 'April', 'chess', 'lead', 'eventual', 'victory', 'despite', 'Supreme', 'Court', 'strike', 'remain', 'see', 'let', 'move', 'counter', 'move', 'government', 'opposition', 'play', 'game', 'political', 'chess', 'Super', 'Powers', 'discomfort-', 'super', 'power', 'super', 'power', 'find', 'powerless', 'regional', 'target', 'easily', 'base', 'agenda', 'region', 'Central', 'America', 'involve', 'nearly', 'regime', 'change', 'target', 'weak', 'country', 'like', 'Guatemala', 'Panama', 'Chile', 'Venezuela', 'etc', 'Middle', 'East', 'Iraq', 'Iraq', 'rebel', 'tame', 'war', 'South', 'Asia', 'shift', 'Afghanistan', 'Pakistan']]\n"
     ]
    }
   ],
   "source": [
    "print(words_list)"
   ]
  },
  {
   "cell_type": "code",
   "execution_count": 21,
   "id": "3527ed3d",
   "metadata": {},
   "outputs": [
    {
     "name": "stdout",
     "output_type": "stream",
     "text": [
      "3\n"
     ]
    }
   ],
   "source": [
    "print (len(words_list))"
   ]
  },
  {
   "cell_type": "code",
   "execution_count": 22,
   "id": "eaa0b0b5",
   "metadata": {},
   "outputs": [
    {
     "name": "stdout",
     "output_type": "stream",
     "text": [
      "216\n"
     ]
    }
   ],
   "source": [
    "print (len(words_list[0]))"
   ]
  },
  {
   "cell_type": "code",
   "execution_count": 23,
   "id": "0d96c916",
   "metadata": {},
   "outputs": [
    {
     "name": "stdout",
     "output_type": "stream",
     "text": [
      "477\n"
     ]
    }
   ],
   "source": [
    "print (len(words_list[1]))"
   ]
  },
  {
   "cell_type": "code",
   "execution_count": 24,
   "id": "48a77808",
   "metadata": {},
   "outputs": [
    {
     "name": "stdout",
     "output_type": "stream",
     "text": [
      "155\n"
     ]
    }
   ],
   "source": [
    "print (len(words_list[2]))"
   ]
  },
  {
   "cell_type": "markdown",
   "id": "6c11e0a6",
   "metadata": {},
   "source": [
    "### Creating a corpus"
   ]
  },
  {
   "cell_type": "code",
   "execution_count": 25,
   "id": "32d29c63",
   "metadata": {},
   "outputs": [],
   "source": [
    "corpus = []\n",
    "from gensim.corpora import Dictionary"
   ]
  },
  {
   "cell_type": "code",
   "execution_count": 27,
   "id": "4254e9dc",
   "metadata": {},
   "outputs": [
    {
     "data": {
      "text/plain": [
       "gensim.corpora.dictionary.Dictionary"
      ]
     },
     "execution_count": 27,
     "metadata": {},
     "output_type": "execute_result"
    }
   ],
   "source": [
    "dict = Dictionary(words_list)\n",
    "type(dict)"
   ]
  },
  {
   "cell_type": "code",
   "execution_count": 28,
   "id": "a1513a91",
   "metadata": {},
   "outputs": [],
   "source": [
    "for word in words_list:\n",
    "    corpus.append(dict.doc2bow(word))"
   ]
  },
  {
   "cell_type": "code",
   "execution_count": 29,
   "id": "7e34292f",
   "metadata": {},
   "outputs": [
    {
     "name": "stdout",
     "output_type": "stream",
     "text": [
      "[[(0, 1), (1, 1), (2, 2), (3, 1), (4, 1), (5, 1), (6, 1), (7, 1), (8, 1), (9, 3), (10, 1), (11, 1), (12, 1), (13, 1), (14, 2), (15, 1), (16, 1), (17, 2), (18, 1), (19, 1), (20, 1), (21, 1), (22, 1), (23, 1), (24, 1), (25, 1), (26, 1), (27, 2), (28, 4), (29, 3), (30, 1), (31, 6), (32, 2), (33, 1), (34, 1), (35, 1), (36, 6), (37, 1), (38, 1), (39, 1), (40, 1), (41, 3), (42, 1), (43, 1), (44, 1), (45, 1), (46, 1), (47, 1), (48, 1), (49, 1), (50, 1), (51, 1), (52, 1), (53, 2), (54, 1), (55, 1), (56, 1), (57, 1), (58, 1), (59, 1), (60, 1), (61, 1), (62, 1), (63, 1), (64, 5), (65, 1), (66, 1), (67, 2), (68, 1), (69, 5), (70, 1), (71, 1), (72, 1), (73, 1), (74, 2), (75, 2), (76, 1), (77, 1), (78, 1), (79, 1), (80, 1), (81, 1), (82, 1), (83, 1), (84, 1), (85, 1), (86, 1), (87, 1), (88, 1), (89, 1), (90, 3), (91, 1), (92, 1), (93, 1), (94, 1), (95, 1), (96, 2), (97, 1), (98, 2), (99, 1), (100, 2), (101, 1), (102, 1), (103, 3), (104, 1), (105, 3), (106, 2), (107, 5), (108, 1), (109, 1), (110, 1), (111, 1), (112, 1), (113, 1), (114, 1), (115, 1), (116, 1), (117, 1), (118, 3), (119, 1), (120, 1), (121, 1), (122, 1), (123, 1), (124, 1), (125, 2), (126, 1), (127, 2), (128, 2), (129, 1), (130, 1), (131, 1), (132, 1), (133, 5), (134, 1), (135, 1), (136, 1), (137, 1), (138, 1), (139, 1), (140, 2), (141, 1), (142, 1), (143, 1), (144, 1), (145, 1), (146, 3), (147, 1), (148, 1), (149, 4), (150, 1)], [(2, 11), (17, 2), (23, 1), (28, 1), (30, 1), (32, 1), (33, 1), (35, 1), (36, 17), (37, 1), (69, 10), (86, 1), (102, 1), (106, 8), (107, 5), (111, 2), (127, 1), (135, 1), (140, 4), (149, 1), (151, 1), (152, 1), (153, 1), (154, 1), (155, 1), (156, 1), (157, 2), (158, 1), (159, 1), (160, 1), (161, 1), (162, 1), (163, 1), (164, 3), (165, 1), (166, 2), (167, 1), (168, 2), (169, 1), (170, 1), (171, 1), (172, 2), (173, 2), (174, 2), (175, 1), (176, 1), (177, 1), (178, 2), (179, 3), (180, 1), (181, 1), (182, 1), (183, 1), (184, 2), (185, 2), (186, 3), (187, 2), (188, 1), (189, 1), (190, 2), (191, 4), (192, 2), (193, 1), (194, 1), (195, 7), (196, 1), (197, 1), (198, 1), (199, 1), (200, 1), (201, 1), (202, 1), (203, 1), (204, 1), (205, 1), (206, 1), (207, 1), (208, 7), (209, 2), (210, 1), (211, 3), (212, 1), (213, 3), (214, 1), (215, 1), (216, 1), (217, 1), (218, 1), (219, 1), (220, 1), (221, 1), (222, 3), (223, 2), (224, 2), (225, 1), (226, 3), (227, 7), (228, 1), (229, 1), (230, 3), (231, 1), (232, 1), (233, 1), (234, 1), (235, 2), (236, 2), (237, 1), (238, 1), (239, 1), (240, 1), (241, 1), (242, 1), (243, 1), (244, 1), (245, 1), (246, 1), (247, 1), (248, 2), (249, 1), (250, 1), (251, 1), (252, 3), (253, 7), (254, 1), (255, 1), (256, 1), (257, 1), (258, 4), (259, 1), (260, 1), (261, 1), (262, 1), (263, 1), (264, 1), (265, 1), (266, 2), (267, 1), (268, 6), (269, 4), (270, 1), (271, 1), (272, 1), (273, 4), (274, 1), (275, 1), (276, 1), (277, 2), (278, 23), (279, 1), (280, 1), (281, 1), (282, 1), (283, 8), (284, 1), (285, 1), (286, 1), (287, 1), (288, 1), (289, 2), (290, 1), (291, 1), (292, 1), (293, 1), (294, 1), (295, 1), (296, 1), (297, 1), (298, 2), (299, 1), (300, 1), (301, 1), (302, 1), (303, 1), (304, 1), (305, 1), (306, 1), (307, 1), (308, 1), (309, 1), (310, 12), (311, 1), (312, 1), (313, 1), (314, 1), (315, 1), (316, 1), (317, 1), (318, 2), (319, 1), (320, 1), (321, 2), (322, 1), (323, 1), (324, 1), (325, 1), (326, 1), (327, 3), (328, 5), (329, 1), (330, 1), (331, 1), (332, 1), (333, 2), (334, 1), (335, 1), (336, 1), (337, 1), (338, 1), (339, 2), (340, 1), (341, 1), (342, 1), (343, 1), (344, 2), (345, 7), (346, 1), (347, 3), (348, 2), (349, 3), (350, 3), (351, 1), (352, 1), (353, 1), (354, 1), (355, 1), (356, 5), (357, 1), (358, 5), (359, 1), (360, 1), (361, 1), (362, 1), (363, 1), (364, 1), (365, 1), (366, 1), (367, 3), (368, 3), (369, 1), (370, 1), (371, 5), (372, 1), (373, 1), (374, 2), (375, 1), (376, 1), (377, 9), (378, 1), (379, 1), (380, 1), (381, 2), (382, 1), (383, 3)], [(1, 1), (3, 1), (7, 1), (29, 1), (35, 5), (36, 5), (69, 5), (70, 1), (88, 1), (96, 3), (103, 1), (106, 1), (107, 1), (111, 1), (168, 2), (264, 2), (274, 2), (290, 1), (291, 1), (302, 1), (315, 2), (318, 1), (353, 1), (371, 1), (374, 2), (377, 1), (384, 1), (385, 1), (386, 2), (387, 1), (388, 1), (389, 1), (390, 1), (391, 2), (392, 4), (393, 2), (394, 1), (395, 1), (396, 1), (397, 1), (398, 1), (399, 1), (400, 1), (401, 1), (402, 1), (403, 1), (404, 1), (405, 1), (406, 1), (407, 2), (408, 1), (409, 1), (410, 1), (411, 1), (412, 1), (413, 1), (414, 1), (415, 1), (416, 1), (417, 1), (418, 1), (419, 1), (420, 1), (421, 1), (422, 1), (423, 1), (424, 1), (425, 1), (426, 1), (427, 1), (428, 2), (429, 2), (430, 1), (431, 1), (432, 1), (433, 1), (434, 1), (435, 1), (436, 1), (437, 1), (438, 2), (439, 1), (440, 1), (441, 1), (442, 1), (443, 2), (444, 1), (445, 1), (446, 2), (447, 1), (448, 1), (449, 2), (450, 2), (451, 1), (452, 1), (453, 1), (454, 1), (455, 1), (456, 1), (457, 1), (458, 1), (459, 1), (460, 1), (461, 1), (462, 1), (463, 1), (464, 1), (465, 1), (466, 1), (467, 1), (468, 2), (469, 1), (470, 1), (471, 1), (472, 2), (473, 1), (474, 1), (475, 1), (476, 1), (477, 1)]]\n"
     ]
    }
   ],
   "source": [
    "print (corpus)"
   ]
  },
  {
   "cell_type": "code",
   "execution_count": 30,
   "id": "a3c264d2",
   "metadata": {},
   "outputs": [
    {
     "data": {
      "text/plain": [
       "3"
      ]
     },
     "execution_count": 30,
     "metadata": {},
     "output_type": "execute_result"
    }
   ],
   "source": [
    "len(corpus)"
   ]
  },
  {
   "cell_type": "code",
   "execution_count": 31,
   "id": "fd8cbfb4",
   "metadata": {},
   "outputs": [
    {
     "data": {
      "text/plain": [
       "151"
      ]
     },
     "execution_count": 31,
     "metadata": {},
     "output_type": "execute_result"
    }
   ],
   "source": [
    "len(corpus[0])"
   ]
  },
  {
   "cell_type": "code",
   "execution_count": 32,
   "id": "c31443ee",
   "metadata": {},
   "outputs": [
    {
     "data": {
      "text/plain": [
       "253"
      ]
     },
     "execution_count": 32,
     "metadata": {},
     "output_type": "execute_result"
    }
   ],
   "source": [
    "len(corpus[1])"
   ]
  },
  {
   "cell_type": "code",
   "execution_count": 33,
   "id": "165602ae",
   "metadata": {},
   "outputs": [
    {
     "data": {
      "text/plain": [
       "120"
      ]
     },
     "execution_count": 33,
     "metadata": {},
     "output_type": "execute_result"
    }
   ],
   "source": [
    "len(corpus[2])"
   ]
  },
  {
   "cell_type": "markdown",
   "id": "8e94c4fa",
   "metadata": {},
   "source": [
    "### Creating an LDA model"
   ]
  },
  {
   "cell_type": "code",
   "execution_count": 35,
   "id": "73e8f6d2",
   "metadata": {},
   "outputs": [],
   "source": [
    "lda = gensim.models.ldamodel.LdaModel(corpus = corpus, num_topics = 5, id2word = dict)"
   ]
  },
  {
   "cell_type": "markdown",
   "id": "7ad304b4",
   "metadata": {},
   "source": [
    "### Displaying the topics"
   ]
  },
  {
   "cell_type": "code",
   "execution_count": 36,
   "id": "71217359",
   "metadata": {},
   "outputs": [
    {
     "data": {
      "text/plain": [
       "[(0,\n",
       "  '0.029*\"chess\" + 0.021*\"game\" + 0.016*\"computer\" + 0.011*\"human\" + 0.011*\"player\" + 0.010*\"Chess\" + 0.010*\"win\" + 0.010*\"play\" + 0.009*\"checkmate\" + 0.007*\"Dreyfus\"'),\n",
       " (1,\n",
       "  '0.025*\"chess\" + 0.023*\"computer\" + 0.015*\"game\" + 0.012*\"human\" + 0.011*\"Chess\" + 0.010*\"win\" + 0.009*\"play\" + 0.009*\"Mac\" + 0.008*\"Hack\" + 0.008*\"VI\"'),\n",
       " (2,\n",
       "  '0.014*\"chess\" + 0.014*\"game\" + 0.009*\"computer\" + 0.009*\"Chess\" + 0.008*\"file\" + 0.007*\"century\" + 0.007*\"square\" + 0.006*\"play\" + 0.006*\"tournament\" + 0.006*\"player\"'),\n",
       " (3,\n",
       "  '0.026*\"computer\" + 0.021*\"chess\" + 0.015*\"game\" + 0.014*\"Chess\" + 0.011*\"player\" + 0.011*\"human\" + 0.011*\"play\" + 0.008*\"defeat\" + 0.008*\"program\" + 0.008*\"win\"'),\n",
       " (4,\n",
       "  '0.011*\"chess\" + 0.010*\"computer\" + 0.009*\"game\" + 0.008*\"Chess\" + 0.007*\"play\" + 0.005*\"player\" + 0.005*\"Hack\" + 0.005*\"defeat\" + 0.005*\"human\" + 0.005*\"win\"')]"
      ]
     },
     "execution_count": 36,
     "metadata": {},
     "output_type": "execute_result"
    }
   ],
   "source": [
    "lda.print_topics()"
   ]
  },
  {
   "cell_type": "markdown",
   "id": "f72d8c2a",
   "metadata": {},
   "source": [
    "### Getting topics for a word"
   ]
  },
  {
   "cell_type": "code",
   "execution_count": 38,
   "id": "c215289c",
   "metadata": {},
   "outputs": [
    {
     "data": {
      "text/plain": [
       "[(0, 0.019751012), (1, 0.013281167), (2, 0.011446461), (3, 0.013203524)]"
      ]
     },
     "execution_count": 38,
     "metadata": {},
     "output_type": "execute_result"
    }
   ],
   "source": [
    "lda.get_term_topics('game')"
   ]
  },
  {
   "cell_type": "code",
   "execution_count": 40,
   "id": "0a79624e",
   "metadata": {},
   "outputs": [
    {
     "data": {
      "text/plain": [
       "[]"
      ]
     },
     "execution_count": 40,
     "metadata": {},
     "output_type": "execute_result"
    }
   ],
   "source": [
    "lda.get_term_topics('move')"
   ]
  },
  {
   "cell_type": "markdown",
   "id": "941067c9",
   "metadata": {},
   "source": [
    "**The word move is available in the corpus, but it has very low probability to be assigned to a topic.**"
   ]
  },
  {
   "cell_type": "code",
   "execution_count": 42,
   "id": "3d69492b",
   "metadata": {},
   "outputs": [
    {
     "data": {
      "text/plain": [
       "[(1, 0.010753638)]"
      ]
     },
     "execution_count": 42,
     "metadata": {},
     "output_type": "execute_result"
    }
   ],
   "source": [
    "lda.get_term_topics('human')"
   ]
  },
  {
   "cell_type": "code",
   "execution_count": 43,
   "id": "91054bf3",
   "metadata": {},
   "outputs": [
    {
     "data": {
      "text/plain": [
       "[(0, 0.014984815), (1, 0.021099873), (3, 0.024760805)]"
      ]
     },
     "execution_count": 43,
     "metadata": {},
     "output_type": "execute_result"
    }
   ],
   "source": [
    "lda.get_term_topics('computer')"
   ]
  },
  {
   "cell_type": "code",
   "execution_count": 45,
   "id": "2ec18ec0",
   "metadata": {},
   "outputs": [
    {
     "data": {
      "text/plain": [
       "[]"
      ]
     },
     "execution_count": 45,
     "metadata": {},
     "output_type": "execute_result"
    }
   ],
   "source": [
    "lda.get_term_topics('checkmate')"
   ]
  },
  {
   "cell_type": "markdown",
   "id": "b857142a",
   "metadata": {},
   "source": [
    "### Visualization of the topics"
   ]
  },
  {
   "cell_type": "code",
   "execution_count": 46,
   "id": "767c3b54",
   "metadata": {},
   "outputs": [],
   "source": [
    "pyLDAvis.enable_notebook()"
   ]
  },
  {
   "cell_type": "code",
   "execution_count": 47,
   "id": "45cc1422",
   "metadata": {},
   "outputs": [
    {
     "name": "stderr",
     "output_type": "stream",
     "text": [
      "D:\\Coding\\lib\\site-packages\\pyLDAvis\\_prepare.py:246: FutureWarning: In a future version of pandas all arguments of DataFrame.drop except for the argument 'labels' will be keyword-only.\n",
      "  default_term_info = default_term_info.sort_values(\n"
     ]
    }
   ],
   "source": [
    "plot = pyLDAvis.gensim_models.prepare(lda, corpus = corpus, dictionary = lda.id2word)"
   ]
  },
  {
   "cell_type": "code",
   "execution_count": 49,
   "id": "79e69416",
   "metadata": {},
   "outputs": [
    {
     "data": {
      "text/html": [
       "\n",
       "<link rel=\"stylesheet\" type=\"text/css\" href=\"https://cdn.jsdelivr.net/gh/bmabey/pyLDAvis@3.3.1/pyLDAvis/js/ldavis.v1.0.0.css\">\n",
       "\n",
       "\n",
       "<div id=\"ldavis_el2090817342366718885279737733\"></div>\n",
       "<script type=\"text/javascript\">\n",
       "\n",
       "var ldavis_el2090817342366718885279737733_data = {\"mdsDat\": {\"x\": [-0.01938045278404637, 0.018274431123291187, -0.00519768529415392, 0.0025281617824771067, 0.0037755451724320026], \"y\": [-0.0004160387963414549, 0.0014132350874737497, 0.004861570043793511, -0.010822543147672238, 0.0049637768127464305], \"topics\": [1, 2, 3, 4, 5], \"cluster\": [1, 1, 1, 1, 1], \"Freq\": [52.89239943283, 24.22417342262641, 19.736917811431603, 3.075554316143507, 0.0709550169684834]}, \"tinfo\": {\"Term\": [\"computer\", \"chess\", \"game\", \"Chess\", \"play\", \"player\", \"human\", \"defeat\", \"win\", \"Hack\", \"program\", \"Mac\", \"Dreyfus\", \"VI\", \"checkmate\", \"run\", \"beat\", \"century\", \"tournament\", \"square\", \"score\", \"match\", \"world\", \"time\", \"able\", \"file\", \"board\", \"April\", \"opponent\", \"call\", \"able\", \"time\", \"run\", \"assembly\", \"David\", \"Mac\", \"Hack\", \"repetitively\", \"VI\", \"computer\", \"Los\", \"match\", \"super\", \"score\", \"check\", \"HiTech\", \"human\", \"head\", \"king\", \"political\", \"Alamos\", \"find\", \"5\\u20130\", \"artificial\", \"available\", \"medium\", \"Garry\", \"write\", \"escape\", \"State\", \"beat\", \"position\", \"Dreyfus\", \"win\", \"chess\", \"defeat\", \"program\", \"victory\", \"checkmate\", \"play\", \"Chess\", \"National\", \"game\", \"April\", \"player\", \"tournament\", \"challenge\", \"move\", \"design\", \"rank\", \"piece\", \"spread\", \"number\", \"file\", \"yellow\", \"set\", \"white\", \"international\", \"India\", \"colour\", \"popularity\", \"horizontal\", \"notation\", \"royal\", \"square\", \"prize\", \"contrast\", \"b3\", \"row\", \"popular\", \"feature\", \"h\", \"far\", \"correspondence\", \"intellectual\", \"corner\", \"officially\", \"White\", \"light\", \"call\", \"opponent\", \"hand\", \"century\", \"black\", \"form\", \"world\", \"alternate\", \"board\", \"champion\", \"game\", \"tournament\", \"rule\", \"Chess\", \"chess\", \"article\", \"computer\", \"play\", \"player\", \"win\", \"defeat\", \"human\", \"move\", \"Mac\", \"Assembly\", \"board\", \"century\", \"move\", \"immediately\", \"East\", \"checkmate\", \"America\", \"National\", \"despite\", \"target\", \"White\", \"player\", \"game\", \"Panama\", \"end\", \"gather\", \"opposition\", \"rebel\", \"let\", \"Iraq\", \"etc\", \"form\", \"break\", \"everybody\", \"foot\", \"professional\", \"chess\", \"government\", \"go\", \"world\", \"colour\", \"alternate\", \"Dreyfus\", \"play\", \"win\", \"file\", \"human\", \"victory\", \"program\", \"computer\", \"Chess\", \"article\", \"square\", \"defeat\", \"April\", \"VI\", \"tournament\", \"king\", \"beat\", \"Hack\", \"time\", \"Mac\", \"match\", \"turn\", \"square\", \"1980\", \"biographical\", \"rating\", \"row\", \"board\", \"bet\", \"article\", \"coloured\", \"computer\", \"attract\", \"world\", \"colour\", \"notation\", \"ad\", \"MIT\", \"White\", \"letter\", \"reach\", \"early\", \"consist\", \"player\", \"program\", \"5\\u20130\", \"officially\", \"favour\", \"Equipment\", \"standard\", \"round\", \"Chess\", \"Championship\", \"form\", \"file\", \"hand\", \"play\", \"challenge\", \"century\", \"Corporation\", \"beat\", \"white\", \"score\", \"human\", \"defeat\", \"chess\", \"Dreyfus\", \"game\", \"VI\", \"Mac\", \"run\", \"win\", \"tournament\", \"match\", \"Hack\", \"time\", \"able\", \"diversion\", \"consist\", \"mid-19th\", \"biographical\", \"recognize\", \"turn\", \"identify\", \"avoid\", \"corner\", \"dark\", \"attract\", \"standard\", \"row\", \"author\", \"table\", \"royal\", \"attempt\", \"reach\", \"India\", \"unable\", \"view\", \"professional\", \"man\", \"close\", \"arrange\", \"specially\", \"intellectual\", \"upper\", \"coordinate\", \"compete\", \"x.x\", \"link\", \"hand\", \"square\", \"century\", \"play\", \"Middle\", \"notation\", \"Chess\", \"board\", \"call\", \"game\", \"opponent\", \"computer\", \"chess\", \"Hack\", \"program\", \"world\", \"rank\", \"player\", \"defeat\", \"tournament\", \"run\", \"April\", \"Dreyfus\", \"file\", \"checkmate\", \"rule\", \"Mac\", \"win\", \"beat\", \"human\", \"score\", \"VI\", \"move\", \"match\", \"able\"], \"Freq\": [15.0, 19.0, 13.0, 8.0, 7.0, 7.0, 8.0, 5.0, 7.0, 5.0, 4.0, 5.0, 5.0, 5.0, 5.0, 4.0, 4.0, 3.0, 4.0, 3.0, 4.0, 4.0, 3.0, 5.0, 3.0, 3.0, 3.0, 3.0, 3.0, 3.0, 2.560313992581332, 3.5943753599641743, 2.8905837944952832, 2.1574523509502583, 2.4928440737046507, 3.847570309930883, 3.7770104878240303, 1.020325981001488, 3.675746710447841, 10.174374206612644, 1.3213567851461987, 2.641279733218237, 1.4496106395784423, 2.595315699558607, 1.8450815977735808, 1.6805424754406464, 5.532392992678268, 0.9270374915726072, 1.7752575962074808, 1.3846120793587169, 1.266198023224987, 1.27480282099626, 1.6150121527750632, 0.8680642322086197, 1.2850319379118513, 1.3621088784782844, 0.848413510771898, 1.3317138299871973, 0.9027981259902145, 1.2129713384857885, 2.813793830205601, 2.1121426816829576, 3.0856769092396883, 4.576672180472007, 11.085362226171972, 3.550873181744184, 2.877912559591401, 2.145329796307675, 3.2425397294624103, 4.174930456450788, 4.837967213382646, 2.157684396542304, 6.667677409363089, 2.112673190957301, 3.6082354369111913, 2.2358075264611723, 1.8148041385429092, 1.8503624625344062, 0.9030617693845417, 1.131330377678524, 1.0818599383579703, 0.543302061664142, 0.822963711378007, 1.5413544745390917, 0.5337180829470444, 0.8310144582055032, 1.0402206183003546, 0.5390648566991244, 0.5094406757972103, 0.9605605718870747, 0.5101241900666146, 0.5070813056404883, 0.7339363962857424, 0.4952948335984961, 1.3982630986518723, 0.5091808724586473, 0.4964005761213677, 0.5150331435386495, 0.6824190012796548, 0.5102437129942783, 0.4910400756465027, 0.7323956075243638, 0.5128132407116862, 0.5016506888743248, 0.48544832532959936, 0.48470115158971877, 0.47424693691070025, 0.9064308906612458, 0.9638518286874936, 1.246907374738699, 1.2543965216395738, 0.6906389168126918, 1.4843906794270534, 0.6859745094507588, 0.661849004989304, 1.1178109427561647, 0.6512930116828072, 1.0317264074531314, 0.887669091170916, 2.841444817086183, 1.2787579631167008, 0.8483371040770258, 1.862383205613389, 2.8813936936242532, 0.8637822977666718, 1.893593277365832, 1.3079317927233443, 1.265965901017034, 1.2269503459717326, 1.071372339523886, 1.1240287177230037, 0.9048784796223874, 0.8823338440397109, 0.5946588318955512, 0.9241861317466299, 1.093452530944798, 1.1130294441634274, 0.344333242596855, 0.4879878879616156, 1.5006258739744178, 0.33929163486763747, 0.9714821453140997, 0.33526110766450107, 0.5437619594314498, 0.5769899015921298, 1.847998476227162, 3.515604848541815, 0.33429254193276026, 0.5049872199963384, 0.33945054901183536, 0.5374029386387456, 0.33492449648804656, 0.3377440340038131, 0.532144236574725, 0.3307650609992293, 0.41866695074429694, 0.5306710658274817, 0.3228593745902388, 0.3188352966982512, 0.27444451270223486, 4.8281723945331585, 0.525754040864081, 0.47644116598049857, 0.8257822694579013, 0.5368044971202445, 0.4160384765068537, 1.1629256017616627, 1.6222348643688995, 1.6611442794495106, 0.7994958124629825, 1.8527038624663994, 0.8113517116927671, 1.0437739742737824, 2.718174764078816, 1.6858549222798695, 0.6551895333759862, 0.7145231180075344, 1.1139874493917161, 0.7656297197320756, 1.0168777358839618, 0.886347808909134, 0.6438875345006962, 0.8535934137519589, 0.9705664600369142, 0.8642323221226701, 0.8463192142744855, 0.740499228694363, 0.053936976545008564, 0.15487150358719198, 0.08181196280774784, 0.05022859140886658, 0.10458010852172912, 0.07423521551510817, 0.144916129663405, 0.13390587291471187, 0.12765129060784292, 0.0499151682197548, 0.6900681307699368, 0.04761261948192792, 0.14713834376502782, 0.09594962608521752, 0.07335115499271201, 0.04750348958929848, 0.10582120714873164, 0.09423343001674185, 0.048255870412077496, 0.047566366114531855, 0.04820885496018514, 0.046878820161608145, 0.2961176407776244, 0.20416818103244347, 0.10878762864100598, 0.04748467429996191, 0.047771263613463434, 0.04857147662410891, 0.047524472720588636, 0.048909213648464726, 0.35252474267242595, 0.10083277206286663, 0.06767577512017933, 0.136997762055291, 0.06902497437031233, 0.2818950916103255, 0.1256208667590542, 0.14625983947621016, 0.10130403782850587, 0.16832193667583203, 0.09198590013611492, 0.14944124773746054, 0.2878771695040047, 0.20523541509133725, 0.5386194128043724, 0.17709498052843362, 0.38870567267921485, 0.17467852292986116, 0.1777729867622843, 0.14039290617391392, 0.1972490974791321, 0.14359657580379684, 0.13123040374558512, 0.15040766803693337, 0.13832403197428475, 0.11537427332711696, 0.0012842705527061611, 0.0011948826834298285, 0.0012422028876511021, 0.0011466236401926747, 0.001238310239602868, 0.001124094095548001, 0.001190691075080186, 0.001151332334986787, 0.0011785946705698289, 0.0011805310479297473, 0.00109011362886192, 0.0011472088122540538, 0.001612344319942451, 0.001161692135984371, 0.0011445450675628738, 0.0011346738439088518, 0.0011023598637576362, 0.0011117848884613368, 0.0011473255104410608, 0.0011512664208247379, 0.0011186279132423074, 0.0010763620854195156, 0.0011509460261624508, 0.0011148382341826088, 0.0011214322421239575, 0.0011108988648314132, 0.0011232831622280844, 0.0011101093658723755, 0.0011307170328718429, 0.0010929211098554639, 0.001131907270322998, 0.001145219059132731, 0.001538965816834693, 0.0025811442294213643, 0.002754363565221238, 0.004288188777885417, 0.0015896507954323608, 0.0014757287083937338, 0.004667298458843568, 0.002195479276474695, 0.002160145643176007, 0.0054039273953188, 0.002138417085187051, 0.005805540633510232, 0.0065818343451202995, 0.0030646011423290822, 0.0027781041512555667, 0.002180529159996349, 0.0017971659492015725, 0.003293331550177053, 0.0029423868996014397, 0.002499284023629368, 0.002378169517718059, 0.0021643592462619763, 0.0025719308164961437, 0.0020886128766994835, 0.0026710169635539172, 0.001749778920208147, 0.0025406021865229766, 0.0028412707924839633, 0.0022532828444797957, 0.002930409434779881, 0.002043656476210948, 0.002237733266366152, 0.0019983208416381043, 0.001988894626136577, 0.0018991984102700854], \"Total\": [15.0, 19.0, 13.0, 8.0, 7.0, 7.0, 8.0, 5.0, 7.0, 5.0, 4.0, 5.0, 5.0, 5.0, 5.0, 4.0, 4.0, 3.0, 4.0, 3.0, 4.0, 4.0, 3.0, 5.0, 3.0, 3.0, 3.0, 3.0, 3.0, 3.0, 3.672144908397919, 5.2398059148713365, 4.214411076861054, 3.154087487551763, 3.673631213208407, 5.7565369571938865, 5.708217248928681, 1.5459021334831344, 5.579708345659818, 15.48201591946074, 2.0467206302344474, 4.098287461128443, 2.2650443480240767, 4.0873345291052035, 2.9172308117642305, 2.6597296160727852, 8.799933151806457, 1.4748440612006464, 2.8297960869045764, 2.2075411735496497, 2.024507994348473, 2.0465847517254807, 2.5955253999348664, 1.3961694350444072, 2.0672956876967574, 2.196225409154733, 1.3690393052043905, 2.1492147254394043, 1.4575326407560414, 1.972181225488621, 4.5772778219632, 3.445124215279456, 5.090737995164699, 7.664857174164867, 19.340129561478875, 5.944410772650725, 4.863190791952439, 3.5583879652720842, 5.602228208481615, 7.391280393931243, 8.743397382407172, 3.6420965817825413, 13.418836675065622, 3.5705300791940733, 7.021610786483189, 4.547009158314434, 3.164500051435707, 3.9428847086920786, 1.7918100525054819, 2.443580398226961, 2.3397663392165047, 1.190263242557314, 1.8051519651861825, 3.4218444955560505, 1.1854095312511905, 1.858066108776044, 2.3307619668018136, 1.2185733428214875, 1.1630771979377674, 2.1969363256414893, 1.167456485620704, 1.1606197305911115, 1.685298678498456, 1.1399980525694202, 3.2372965972164223, 1.1981607332609994, 1.1697245292975706, 1.2136336153636689, 1.6099379718377742, 1.2056565171926528, 1.1612886086211676, 1.7323342175639864, 1.217550930695365, 1.1935303804108606, 1.1564360105773952, 1.1579172411064804, 1.1339093491513694, 2.1759645527969655, 2.33321158821089, 3.1264790424956277, 3.1671943771229984, 1.6803036993560707, 3.8283170600345784, 1.6785238239860127, 1.6382839863417793, 3.3549386136861945, 1.6765436772297786, 3.1838689144904797, 2.588991041126455, 13.418836675065622, 4.547009158314434, 2.478280621173723, 8.743397382407172, 19.340129561478875, 2.8597415823395784, 15.48201591946074, 7.391280393931243, 7.021610786483189, 7.664857174164867, 5.944410772650725, 8.799933151806457, 3.9428847086920786, 5.7565369571938865, 1.950489970779602, 3.1838689144904797, 3.8283170600345784, 3.9428847086920786, 1.2639547465706087, 1.816422409181311, 5.602228208481615, 1.2700618757839521, 3.6420965817825413, 1.2618328876027731, 2.047842762104427, 2.1759645527969655, 7.021610786483189, 13.418836675065622, 1.277341751191311, 1.935865607640086, 1.3041241782323183, 2.066549345035498, 1.2941419394338962, 1.3104172309447208, 2.0671298042019726, 1.2942630933550248, 1.6382839863417793, 2.0867233748552194, 1.2816916850613629, 1.2661126486970884, 1.0924299115155731, 19.340129561478875, 2.115600847040716, 1.9198746316830861, 3.3549386136861945, 2.1969363256414893, 1.6765436772297786, 5.090737995164699, 7.391280393931243, 7.664857174164867, 3.4218444955560505, 8.799933151806457, 3.5583879652720842, 4.863190791952439, 15.48201591946074, 8.743397382407172, 2.8597415823395784, 3.2372965972164223, 5.944410772650725, 3.5705300791940733, 5.579708345659818, 4.547009158314434, 2.8297960869045764, 4.5772778219632, 5.708217248928681, 5.2398059148713365, 5.7565369571938865, 4.098287461128443, 1.0631436536924785, 3.2372965972164223, 1.737773216397255, 1.08191475226225, 2.2651077162537248, 1.6099379718377742, 3.1838689144904797, 2.9582791412871945, 2.8597415823395784, 1.1198529667844612, 15.48201591946074, 1.0850439544581896, 3.3549386136861945, 2.1969363256414893, 1.685298678498456, 1.0922612751507197, 2.4333208203857652, 2.1759645527969655, 1.1335939510344695, 1.1220539105762413, 1.1387289832946506, 1.1081449411812723, 7.021610786483189, 4.863190791952439, 2.5955253999348664, 1.1339093491513694, 1.1413514018946282, 1.1659647998085034, 1.1418876435566232, 1.177723451936757, 8.743397382407172, 2.454949682244353, 1.6382839863417793, 3.4218444955560505, 1.6803036993560707, 7.391280393931243, 3.164500051435707, 3.8283170600345784, 2.5824720426013963, 4.5772778219632, 2.3307619668018136, 4.0873345291052035, 8.799933151806457, 5.944410772650725, 19.340129561478875, 5.090737995164699, 13.418836675065622, 5.579708345659818, 5.7565369571938865, 4.214411076861054, 7.664857174164867, 4.547009158314434, 4.098287461128443, 5.708217248928681, 5.2398059148713365, 3.672144908397919, 1.1343429315307931, 1.1081449411812723, 1.1695086347373034, 1.08191475226225, 1.168865148737856, 1.0631436536924785, 1.1345948848456258, 1.1163120978024987, 1.1579172411064804, 1.1677969176170617, 1.0850439544581896, 1.1418876435566232, 1.6099379718377742, 1.1662898633347316, 1.1498483771294403, 1.1399980525694202, 1.109409854288178, 1.1220539105762413, 1.1630771979377674, 1.1676139648920412, 1.1348956928337246, 1.0924299115155731, 1.1684289212979069, 1.1393182781989433, 1.1479481684392308, 1.1381619567308932, 1.1564360105773952, 1.143711073081116, 1.166542492087409, 1.1292961595833626, 1.175087147137361, 1.191073016087588, 1.6803036993560707, 3.2372965972164223, 3.8283170600345784, 7.391280393931243, 1.8654562575773648, 1.685298678498456, 8.743397382407172, 3.1838689144904797, 3.1264790424956277, 13.418836675065622, 3.1671943771229984, 15.48201591946074, 19.340129561478875, 5.708217248928681, 4.863190791952439, 3.3549386136861945, 2.443580398226961, 7.021610786483189, 5.944410772650725, 4.547009158314434, 4.214411076861054, 3.5705300791940733, 5.090737995164699, 3.4218444955560505, 5.602228208481615, 2.478280621173723, 5.7565369571938865, 7.664857174164867, 4.5772778219632, 8.799933151806457, 4.0873345291052035, 5.579708345659818, 3.9428847086920786, 4.098287461128443, 3.672144908397919], \"Category\": [\"Default\", \"Default\", \"Default\", \"Default\", \"Default\", \"Default\", \"Default\", \"Default\", \"Default\", \"Default\", \"Default\", \"Default\", \"Default\", \"Default\", \"Default\", \"Default\", \"Default\", \"Default\", \"Default\", \"Default\", \"Default\", \"Default\", \"Default\", \"Default\", \"Default\", \"Default\", \"Default\", \"Default\", \"Default\", \"Default\", \"Topic1\", \"Topic1\", \"Topic1\", \"Topic1\", \"Topic1\", \"Topic1\", \"Topic1\", \"Topic1\", \"Topic1\", \"Topic1\", \"Topic1\", \"Topic1\", \"Topic1\", \"Topic1\", \"Topic1\", \"Topic1\", \"Topic1\", \"Topic1\", \"Topic1\", \"Topic1\", \"Topic1\", \"Topic1\", \"Topic1\", \"Topic1\", \"Topic1\", \"Topic1\", \"Topic1\", \"Topic1\", \"Topic1\", \"Topic1\", \"Topic1\", \"Topic1\", \"Topic1\", \"Topic1\", \"Topic1\", \"Topic1\", \"Topic1\", \"Topic1\", \"Topic1\", \"Topic1\", \"Topic1\", \"Topic1\", \"Topic1\", \"Topic1\", \"Topic1\", \"Topic1\", \"Topic1\", \"Topic1\", \"Topic2\", \"Topic2\", \"Topic2\", \"Topic2\", \"Topic2\", \"Topic2\", \"Topic2\", \"Topic2\", \"Topic2\", \"Topic2\", \"Topic2\", \"Topic2\", \"Topic2\", \"Topic2\", \"Topic2\", \"Topic2\", \"Topic2\", \"Topic2\", \"Topic2\", \"Topic2\", \"Topic2\", \"Topic2\", \"Topic2\", \"Topic2\", \"Topic2\", \"Topic2\", \"Topic2\", \"Topic2\", \"Topic2\", \"Topic2\", \"Topic2\", \"Topic2\", \"Topic2\", \"Topic2\", \"Topic2\", \"Topic2\", \"Topic2\", \"Topic2\", \"Topic2\", \"Topic2\", \"Topic2\", \"Topic2\", \"Topic2\", \"Topic2\", \"Topic2\", \"Topic2\", \"Topic2\", \"Topic2\", \"Topic2\", \"Topic2\", \"Topic2\", \"Topic2\", \"Topic2\", \"Topic2\", \"Topic2\", \"Topic3\", \"Topic3\", \"Topic3\", \"Topic3\", \"Topic3\", \"Topic3\", \"Topic3\", \"Topic3\", \"Topic3\", \"Topic3\", \"Topic3\", \"Topic3\", \"Topic3\", \"Topic3\", \"Topic3\", \"Topic3\", \"Topic3\", \"Topic3\", \"Topic3\", \"Topic3\", \"Topic3\", \"Topic3\", \"Topic3\", \"Topic3\", \"Topic3\", \"Topic3\", \"Topic3\", \"Topic3\", \"Topic3\", \"Topic3\", \"Topic3\", \"Topic3\", \"Topic3\", \"Topic3\", \"Topic3\", \"Topic3\", \"Topic3\", \"Topic3\", \"Topic3\", \"Topic3\", \"Topic3\", \"Topic3\", \"Topic3\", \"Topic3\", \"Topic3\", \"Topic3\", \"Topic3\", \"Topic3\", \"Topic3\", \"Topic3\", \"Topic3\", \"Topic3\", \"Topic3\", \"Topic3\", \"Topic4\", \"Topic4\", \"Topic4\", \"Topic4\", \"Topic4\", \"Topic4\", \"Topic4\", \"Topic4\", \"Topic4\", \"Topic4\", \"Topic4\", \"Topic4\", \"Topic4\", \"Topic4\", \"Topic4\", \"Topic4\", \"Topic4\", \"Topic4\", \"Topic4\", \"Topic4\", \"Topic4\", \"Topic4\", \"Topic4\", \"Topic4\", \"Topic4\", \"Topic4\", \"Topic4\", \"Topic4\", \"Topic4\", \"Topic4\", \"Topic4\", \"Topic4\", \"Topic4\", \"Topic4\", \"Topic4\", \"Topic4\", \"Topic4\", \"Topic4\", \"Topic4\", \"Topic4\", \"Topic4\", \"Topic4\", \"Topic4\", \"Topic4\", \"Topic4\", \"Topic4\", \"Topic4\", \"Topic4\", \"Topic4\", \"Topic4\", \"Topic4\", \"Topic4\", \"Topic4\", \"Topic4\", \"Topic4\", \"Topic4\", \"Topic5\", \"Topic5\", \"Topic5\", \"Topic5\", \"Topic5\", \"Topic5\", \"Topic5\", \"Topic5\", \"Topic5\", \"Topic5\", \"Topic5\", \"Topic5\", \"Topic5\", \"Topic5\", \"Topic5\", \"Topic5\", \"Topic5\", \"Topic5\", \"Topic5\", \"Topic5\", \"Topic5\", \"Topic5\", \"Topic5\", \"Topic5\", \"Topic5\", \"Topic5\", \"Topic5\", \"Topic5\", \"Topic5\", \"Topic5\", \"Topic5\", \"Topic5\", \"Topic5\", \"Topic5\", \"Topic5\", \"Topic5\", \"Topic5\", \"Topic5\", \"Topic5\", \"Topic5\", \"Topic5\", \"Topic5\", \"Topic5\", \"Topic5\", \"Topic5\", \"Topic5\", \"Topic5\", \"Topic5\", \"Topic5\", \"Topic5\", \"Topic5\", \"Topic5\", \"Topic5\", \"Topic5\", \"Topic5\", \"Topic5\", \"Topic5\", \"Topic5\", \"Topic5\", \"Topic5\", \"Topic5\", \"Topic5\", \"Topic5\", \"Topic5\", \"Topic5\", \"Topic5\", \"Topic5\"], \"logprob\": [30.0, 29.0, 28.0, 27.0, 26.0, 25.0, 24.0, 23.0, 22.0, 21.0, 20.0, 19.0, 18.0, 17.0, 16.0, 15.0, 14.0, 13.0, 12.0, 11.0, 10.0, 9.0, 8.0, 7.0, 6.0, 5.0, 4.0, 3.0, 2.0, 1.0, -5.1658, -4.8266, -5.0445, -5.337, -5.1925, -4.7585, -4.777, -6.0858, -4.8042, -3.7861, -5.8273, -5.1347, -5.7347, -5.1523, -5.4934, -5.5869, -4.3953, -6.1817, -5.532, -5.7806, -5.87, -5.8632, -5.6266, -6.2475, -5.8552, -5.7969, -6.2704, -5.8195, -6.2082, -5.9129, -5.0714, -5.3583, -4.9792, -4.585, -3.7003, -4.8388, -5.0489, -5.3427, -4.9296, -4.6769, -4.5295, -5.3369, -4.2087, -5.358, -4.8228, -5.3014, -5.51, -5.4906, -5.427, -5.2017, -5.2464, -5.9352, -5.5199, -4.8924, -5.9529, -5.5102, -5.2856, -5.943, -5.9995, -5.3653, -5.9982, -6.0041, -5.6344, -6.0277, -4.9898, -6.0, -6.0254, -5.9886, -5.7072, -5.9979, -6.0363, -5.6365, -5.9929, -6.0149, -6.0477, -6.0493, -6.0711, -5.4233, -5.3619, -5.1044, -5.0984, -5.6952, -4.9301, -5.702, -5.7378, -5.2137, -5.7539, -5.2938, -5.4442, -4.2807, -5.0792, -5.4895, -4.7032, -4.2668, -5.4715, -4.6866, -5.0566, -5.0892, -5.1205, -5.2561, -5.2081, -5.425, -5.4502, -5.64, -5.199, -5.0309, -5.0131, -6.1863, -5.8377, -4.7143, -6.2011, -5.1491, -6.213, -5.7294, -5.6701, -4.5061, -3.863, -6.2159, -5.8034, -6.2006, -5.7412, -6.2141, -6.2057, -5.751, -6.2265, -5.9909, -5.7538, -6.2507, -6.2633, -6.4132, -3.5457, -5.7631, -5.8616, -5.3116, -5.7423, -5.9972, -4.9693, -4.6364, -4.6127, -5.344, -4.5036, -5.3293, -5.0774, -4.1202, -4.5979, -5.543, -5.4563, -5.0123, -5.3873, -5.1035, -5.2408, -5.5604, -5.2785, -5.1501, -5.2661, -5.2871, -5.4206, -6.1811, -5.1264, -5.7645, -6.2524, -5.519, -5.8617, -5.1928, -5.2718, -5.3196, -6.2586, -3.6322, -6.3059, -5.1776, -5.6051, -5.8737, -6.3081, -5.5072, -5.6232, -6.2924, -6.3068, -6.2934, -6.3214, -4.4782, -4.85, -5.4796, -6.3085, -6.3025, -6.2859, -6.3077, -6.279, -4.3038, -5.5555, -5.9542, -5.249, -5.9345, -4.5274, -5.3357, -5.1836, -5.5508, -5.0431, -5.6473, -5.162, -4.5064, -4.8448, -3.8799, -4.9923, -4.2061, -5.006, -4.9884, -5.2245, -4.8845, -5.2019, -5.292, -5.1556, -5.2394, -5.4208, -6.1496, -6.2217, -6.1829, -6.2629, -6.186, -6.2828, -6.2252, -6.2588, -6.2354, -6.2338, -6.3135, -6.2624, -5.9221, -6.2499, -6.2647, -6.2734, -6.3023, -6.2938, -6.2623, -6.2589, -6.2877, -6.3262, -6.2592, -6.291, -6.2851, -6.2946, -6.2835, -6.2953, -6.2769, -6.3109, -6.2759, -6.2642, -5.9686, -5.4515, -5.3866, -4.9439, -5.9362, -6.0106, -4.8592, -5.6134, -5.6296, -4.7126, -5.6397, -4.6409, -4.5154, -5.2798, -5.378, -5.6202, -5.8135, -5.2079, -5.3205, -5.4838, -5.5334, -5.6276, -5.4551, -5.6633, -5.4173, -5.8403, -5.4674, -5.3555, -5.5874, -5.3246, -5.685, -5.5943, -5.7074, -5.7122, -5.7583], \"loglift\": [30.0, 29.0, 28.0, 27.0, 26.0, 25.0, 24.0, 23.0, 22.0, 21.0, 20.0, 19.0, 18.0, 17.0, 16.0, 15.0, 14.0, 13.0, 12.0, 11.0, 10.0, 9.0, 8.0, 7.0, 6.0, 5.0, 4.0, 3.0, 2.0, 1.0, 0.2763, 0.26, 0.2599, 0.2571, 0.2492, 0.234, 0.2239, 0.2214, 0.2195, 0.2171, 0.1993, 0.1976, 0.1906, 0.1827, 0.1788, 0.1778, 0.1728, 0.1726, 0.1707, 0.1705, 0.1676, 0.1635, 0.1625, 0.1617, 0.1615, 0.1592, 0.1584, 0.1583, 0.1579, 0.1508, 0.1503, 0.1477, 0.1363, 0.1212, 0.0804, 0.1217, 0.1123, 0.1309, 0.0901, 0.0657, 0.0451, 0.1134, -0.0625, 0.1122, -0.0289, -0.073, 0.0809, -0.1196, 0.7326, 0.6477, 0.6464, 0.6336, 0.6323, 0.6203, 0.6198, 0.6132, 0.6111, 0.6022, 0.5923, 0.5905, 0.5899, 0.5898, 0.5865, 0.5842, 0.5783, 0.5621, 0.5607, 0.5607, 0.5595, 0.5579, 0.5571, 0.5569, 0.5531, 0.5511, 0.5498, 0.547, 0.5461, 0.5421, 0.5338, 0.4986, 0.4916, 0.5287, 0.4704, 0.523, 0.5115, 0.3188, 0.4723, 0.291, 0.3474, -0.1345, 0.1492, 0.3458, -0.1286, -0.4861, 0.2207, -0.6834, -0.314, -0.2953, -0.4143, -0.2957, -0.64, -0.054, -0.4577, 0.4348, 0.3857, 0.3696, 0.3579, 0.3223, 0.3083, 0.3054, 0.3027, 0.3012, 0.2973, 0.2966, 0.2953, 0.2878, 0.2832, 0.2822, 0.2789, 0.2767, 0.2758, 0.271, 0.2669, 0.2657, 0.2584, 0.2584, 0.2535, 0.244, 0.2436, 0.2413, 0.235, 0.2304, 0.229, 0.2208, 0.2135, 0.229, 0.1462, 0.1062, 0.0935, 0.1687, 0.0646, 0.1443, 0.0838, -0.117, -0.0233, 0.1491, 0.1118, -0.0518, 0.0829, -0.0797, -0.0124, 0.1422, -0.0567, -0.1491, -0.1795, -0.2945, -0.0883, 0.5005, 0.4418, 0.4257, 0.4118, 0.4063, 0.405, 0.392, 0.3865, 0.3725, 0.3711, 0.371, 0.3554, 0.3549, 0.3507, 0.3472, 0.3465, 0.3464, 0.3422, 0.3251, 0.3209, 0.3196, 0.3188, 0.3157, 0.3112, 0.3095, 0.3087, 0.3081, 0.3034, 0.3025, 0.3003, 0.2708, 0.2893, 0.295, 0.2637, 0.2894, 0.2152, 0.2552, 0.2169, 0.2433, 0.1787, 0.2494, 0.1729, 0.0617, 0.1156, -0.0992, 0.1232, -0.0599, 0.0177, 0.0041, 0.0799, -0.1782, 0.0265, 0.0403, -0.1546, -0.1528, 0.0213, 0.4673, 0.4185, 0.4034, 0.4012, 0.4008, 0.3989, 0.3914, 0.374, 0.3608, 0.354, 0.3478, 0.3478, 0.3446, 0.3392, 0.3385, 0.3384, 0.3367, 0.3339, 0.3295, 0.329, 0.3287, 0.3283, 0.328, 0.3214, 0.3198, 0.3189, 0.314, 0.3133, 0.3119, 0.3104, 0.3057, 0.3039, 0.2553, 0.1166, 0.0139, -0.2013, 0.1831, 0.2103, -0.2846, -0.0286, -0.0266, -0.5664, -0.0497, -0.6377, -0.7347, -0.2789, -0.2168, -0.0877, 0.0359, -0.414, -0.3601, -0.2553, -0.2291, -0.1575, -0.3396, -0.1506, -0.3976, -0.005, -0.4748, -0.6493, -0.3656, -0.7565, -0.35, -0.5705, -0.3365, -0.3799, -0.3162]}, \"token.table\": {\"Topic\": [1, 1, 2, 1, 1, 1, 2, 3, 1, 3, 1, 2, 1, 2, 3, 1, 1, 3, 1, 2, 3, 1, 1, 1, 1, 2, 3, 1, 2, 1, 3, 1, 1, 2, 1, 2, 3, 1, 2, 1, 3, 1, 1, 1, 2, 3, 1, 2, 3, 1, 2, 1, 2, 1, 2, 3, 1, 1, 3, 1, 2, 1, 2, 3, 1, 2, 3, 1, 2, 1, 2, 3, 1, 3, 1, 2, 3, 1, 2, 3, 1, 2, 3, 1, 2, 1, 3, 1, 2, 3, 1, 2, 3, 4, 1, 2, 3, 1, 2, 3, 4, 2, 1, 2, 3, 1, 2, 1, 1, 3, 1, 1, 1, 2, 1, 2, 3, 1, 1, 2, 1, 2, 3, 1, 1, 2, 1, 3, 1, 2, 1, 2, 1, 2, 1, 2, 3, 1, 2, 1, 3, 1, 1, 2, 3, 1, 2, 3, 1, 1, 2, 3, 1, 2, 1, 2, 1, 2, 3, 1, 3, 1, 2, 1, 2, 3, 1, 2, 3, 1, 2, 2, 1, 2, 3, 2, 1, 2, 3, 1, 2, 1, 3, 1, 1, 1, 1, 2, 1, 2, 1, 2, 3, 1, 2, 3, 1, 2, 2, 1, 2, 3, 1, 1, 3, 1, 2, 3, 1, 2, 3, 1, 2, 3, 1, 2, 1, 2, 3, 1, 2, 3, 1, 1, 2], \"Freq\": [0.575449080791564, 0.7705568976709645, 0.38527844883548223, 0.4939471727410095, 0.7873632136093723, 0.5601409190344736, 0.2800704595172368, 0.2800704595172368, 0.5126916902834956, 0.5126916902834956, 0.40734032441992235, 0.40734032441992235, 0.5718600883977475, 0.228744035359099, 0.228744035359099, 0.7744517528194977, 0.5444204613705026, 0.2722102306852513, 0.5893055197202193, 0.1964351732400731, 0.1964351732400731, 0.5505327367386504, 0.8576588248326525, 0.730439218361744, 0.7007441773087246, 0.17518604432718116, 0.17518604432718116, 0.7519561341551301, 0.8597881566013702, 0.483762557129815, 0.483762557129815, 0.4885864661878413, 0.4109610173973958, 0.4109610173973958, 0.6948622113858298, 0.17371555284645745, 0.17371555284645745, 0.5360618861675601, 0.5360618861675601, 0.5491342569013218, 0.2745671284506609, 0.7828758427941085, 0.5070527936661822, 0.7168833480537391, 0.17922083701343478, 0.17922083701343478, 0.4595663098990325, 0.4595663098990325, 0.4595663098990325, 0.8169612242532222, 0.2723204080844074, 0.5964652240091596, 0.5964652240091596, 0.3496819454511312, 0.3496819454511312, 0.3496819454511312, 0.7162454462184911, 0.6340978200171682, 0.3170489100085841, 0.48372373915902334, 0.8239719033329075, 0.6554113856941496, 0.21847046189804986, 0.21847046189804986, 0.6760687225512356, 0.3380343612756178, 0.3380343612756178, 0.5957615767557513, 0.5957615767557513, 0.3140832825901791, 0.3140832825901791, 0.3140832825901791, 0.47922020333403403, 0.47922020333403403, 0.3198486176967228, 0.3198486176967228, 0.3198486176967228, 0.26121138461582066, 0.26121138461582066, 0.26121138461582066, 0.6320113659320741, 0.31600568296603704, 0.31600568296603704, 0.3862508537553323, 0.3862508537553323, 0.6855816796993434, 0.3427908398496717, 0.5355012127956666, 0.17850040426522223, 0.35700080853044447, 0.5687655796220461, 0.15511788535146712, 0.25852980891911187, 0.05170596178382237, 0.45517932783418624, 0.45517932783418624, 0.45517932783418624, 0.6459107167969063, 0.12918214335938125, 0.19377321503907188, 0.06459107167969062, 0.8378504782222304, 0.6729010078515022, 0.16822525196287555, 0.16822525196287555, 0.5580948709388607, 0.5580948709388607, 0.7924979684907384, 0.51656478427707, 0.51656478427707, 0.6860909814556789, 0.7726404354216516, 0.7802188401902003, 0.8213208784858653, 0.2922400481081767, 0.5844800962163534, 0.2922400481081767, 0.48861890481539916, 0.789819137364329, 0.6103947840160233, 0.5216547581212563, 0.22356632490910985, 0.29808843321214645, 0.7667981444492924, 0.5208673438865825, 0.5208673438865825, 0.47267895614562233, 0.47267895614562233, 0.5772558146465542, 0.5772558146465542, 0.5951305114564837, 0.5951305114564837, 0.6780377846766501, 0.8616086506565706, 0.6818233612113651, 0.11363722686856084, 0.22727445373712168, 0.7911675657006101, 0.8206317706610894, 0.7067647062116537, 0.35338235310582683, 0.7631157286287121, 0.42859379108724616, 0.42859379108724616, 0.42859379108724616, 0.7320130733762548, 0.24400435779208493, 0.24400435779208493, 0.4553266690347931, 0.5072428305070664, 0.2536214152535332, 0.2536214152535332, 0.593366631540331, 0.593366631540331, 0.5539699810796043, 0.5539699810796043, 0.3157368575869901, 0.3157368575869901, 0.3157368575869901, 0.48389843794551274, 0.48389843794551274, 0.4273931047041477, 0.4273931047041477, 0.5411782244500262, 0.13529455611250654, 0.2705891122250131, 0.5696698551990549, 0.14241746379976372, 0.28483492759952744, 0.4529926834352243, 0.8294236258337326, 0.8565629745663095, 0.5805305919391262, 0.2902652959695631, 0.2902652959695631, 0.8346125626052934, 0.6168789439567888, 0.20562631465226294, 0.20562631465226294, 0.4092355629982916, 0.4092355629982916, 0.441480108351715, 0.441480108351715, 0.7727127678417065, 0.6468714793392901, 0.8490957689222439, 0.6211419430392596, 0.6211419430392596, 0.4035055560118112, 0.4035055560118112, 0.7118432315421963, 0.2372810771807321, 0.2372810771807321, 0.7339746670201615, 0.2446582223400538, 0.2446582223400538, 0.5381939831294409, 0.5381939831294409, 0.840150282933607, 0.3088997161581816, 0.3088997161581816, 0.3088997161581816, 0.44149245946215365, 0.4883187413140885, 0.4883187413140885, 0.7633870538310235, 0.19084676345775586, 0.19084676345775586, 0.4398495649261889, 0.21992478246309444, 0.21992478246309444, 0.5620522606075851, 0.28102613030379253, 0.28102613030379253, 0.42904424142983744, 0.42904424142983744, 0.6523278759652531, 0.13046557519305063, 0.26093115038610126, 0.29806804688484695, 0.29806804688484695, 0.29806804688484695, 0.4652862220621307, 0.8510007129565733, 0.8435903151078158], \"Term\": [\"1980\", \"5\\u20130\", \"5\\u20130\", \"Alamos\", \"America\", \"April\", \"April\", \"April\", \"Assembly\", \"Assembly\", \"Championship\", \"Championship\", \"Chess\", \"Chess\", \"Chess\", \"Corporation\", \"David\", \"David\", \"Dreyfus\", \"Dreyfus\", \"Dreyfus\", \"East\", \"Equipment\", \"Garry\", \"Hack\", \"Hack\", \"Hack\", \"HiTech\", \"India\", \"Iraq\", \"Iraq\", \"Los\", \"MIT\", \"MIT\", \"Mac\", \"Mac\", \"Mac\", \"Middle\", \"Middle\", \"National\", \"National\", \"Panama\", \"State\", \"VI\", \"VI\", \"VI\", \"White\", \"White\", \"White\", \"able\", \"able\", \"alternate\", \"alternate\", \"article\", \"article\", \"article\", \"artificial\", \"assembly\", \"assembly\", \"available\", \"b3\", \"beat\", \"beat\", \"beat\", \"bet\", \"bet\", \"bet\", \"black\", \"black\", \"board\", \"board\", \"board\", \"break\", \"break\", \"call\", \"call\", \"call\", \"century\", \"century\", \"century\", \"challenge\", \"challenge\", \"challenge\", \"champion\", \"champion\", \"check\", \"check\", \"checkmate\", \"checkmate\", \"checkmate\", \"chess\", \"chess\", \"chess\", \"chess\", \"colour\", \"colour\", \"colour\", \"computer\", \"computer\", \"computer\", \"computer\", \"correspondence\", \"defeat\", \"defeat\", \"defeat\", \"design\", \"design\", \"despite\", \"end\", \"end\", \"escape\", \"etc\", \"everybody\", \"far\", \"file\", \"file\", \"file\", \"find\", \"foot\", \"form\", \"game\", \"game\", \"game\", \"gather\", \"go\", \"go\", \"government\", \"government\", \"h\", \"h\", \"hand\", \"hand\", \"head\", \"horizontal\", \"human\", \"human\", \"human\", \"immediately\", \"international\", \"king\", \"king\", \"let\", \"light\", \"light\", \"light\", \"match\", \"match\", \"match\", \"medium\", \"move\", \"move\", \"move\", \"notation\", \"notation\", \"number\", \"number\", \"opponent\", \"opponent\", \"opponent\", \"opposition\", \"opposition\", \"piece\", \"piece\", \"play\", \"play\", \"play\", \"player\", \"player\", \"player\", \"political\", \"popular\", \"popularity\", \"position\", \"position\", \"position\", \"prize\", \"program\", \"program\", \"program\", \"rank\", \"rank\", \"rating\", \"rating\", \"rebel\", \"repetitively\", \"round\", \"row\", \"row\", \"rule\", \"rule\", \"run\", \"run\", \"run\", \"score\", \"score\", \"score\", \"set\", \"set\", \"spread\", \"square\", \"square\", \"square\", \"super\", \"target\", \"target\", \"time\", \"time\", \"time\", \"tournament\", \"tournament\", \"tournament\", \"victory\", \"victory\", \"victory\", \"white\", \"white\", \"win\", \"win\", \"win\", \"world\", \"world\", \"world\", \"write\", \"x.x\", \"yellow\"]}, \"R\": 30, \"lambda.step\": 0.01, \"plot.opts\": {\"xlab\": \"PC1\", \"ylab\": \"PC2\"}, \"topic.order\": [2, 3, 1, 4, 5]};\n",
       "\n",
       "function LDAvis_load_lib(url, callback){\n",
       "  var s = document.createElement('script');\n",
       "  s.src = url;\n",
       "  s.async = true;\n",
       "  s.onreadystatechange = s.onload = callback;\n",
       "  s.onerror = function(){console.warn(\"failed to load library \" + url);};\n",
       "  document.getElementsByTagName(\"head\")[0].appendChild(s);\n",
       "}\n",
       "\n",
       "if(typeof(LDAvis) !== \"undefined\"){\n",
       "   // already loaded: just create the visualization\n",
       "   !function(LDAvis){\n",
       "       new LDAvis(\"#\" + \"ldavis_el2090817342366718885279737733\", ldavis_el2090817342366718885279737733_data);\n",
       "   }(LDAvis);\n",
       "}else if(typeof define === \"function\" && define.amd){\n",
       "   // require.js is available: use it to load d3/LDAvis\n",
       "   require.config({paths: {d3: \"https://d3js.org/d3.v5\"}});\n",
       "   require([\"d3\"], function(d3){\n",
       "      window.d3 = d3;\n",
       "      LDAvis_load_lib(\"https://cdn.jsdelivr.net/gh/bmabey/pyLDAvis@3.3.1/pyLDAvis/js/ldavis.v3.0.0.js\", function(){\n",
       "        new LDAvis(\"#\" + \"ldavis_el2090817342366718885279737733\", ldavis_el2090817342366718885279737733_data);\n",
       "      });\n",
       "    });\n",
       "}else{\n",
       "    // require.js not available: dynamically load d3 & LDAvis\n",
       "    LDAvis_load_lib(\"https://d3js.org/d3.v5.js\", function(){\n",
       "         LDAvis_load_lib(\"https://cdn.jsdelivr.net/gh/bmabey/pyLDAvis@3.3.1/pyLDAvis/js/ldavis.v3.0.0.js\", function(){\n",
       "                 new LDAvis(\"#\" + \"ldavis_el2090817342366718885279737733\", ldavis_el2090817342366718885279737733_data);\n",
       "            })\n",
       "         });\n",
       "}\n",
       "</script>"
      ],
      "text/plain": [
       "PreparedData(topic_coordinates=              x         y  topics  cluster       Freq\n",
       "topic                                                \n",
       "1     -0.019380 -0.000416       1        1  52.892399\n",
       "2      0.018274  0.001413       2        1  24.224173\n",
       "0     -0.005198  0.004862       3        1  19.736918\n",
       "3      0.002528 -0.010823       4        1   3.075554\n",
       "4      0.003776  0.004964       5        1   0.070955, topic_info=         Term       Freq      Total Category  logprob  loglift\n",
       "278  computer  15.000000  15.000000  Default  30.0000  30.0000\n",
       "36      chess  19.000000  19.000000  Default  29.0000  29.0000\n",
       "69       game  13.000000  13.000000  Default  28.0000  28.0000\n",
       "2       Chess   8.000000   8.000000  Default  27.0000  27.0000\n",
       "106      play   7.000000   7.000000  Default  26.0000  26.0000\n",
       "..        ...        ...        ...      ...      ...      ...\n",
       "358     score   0.002044   4.087335   Topic5  -5.6850  -0.3500\n",
       "253        VI   0.002238   5.579708   Topic5  -5.5943  -0.5705\n",
       "96       move   0.001998   3.942885   Topic5  -5.7074  -0.3365\n",
       "328     match   0.001989   4.098287   Topic5  -5.7122  -0.3799\n",
       "258      able   0.001899   3.672145   Topic5  -5.7583  -0.3162\n",
       "\n",
       "[310 rows x 6 columns], token_table=      Topic      Freq     Term\n",
       "term                          \n",
       "157       1  0.575449     1980\n",
       "164       1  0.770557      5–0\n",
       "164       2  0.385278      5–0\n",
       "166       1  0.493947   Alamos\n",
       "385       1  0.787363  America\n",
       "...     ...       ...      ...\n",
       "149       2  0.298068    world\n",
       "149       3  0.298068    world\n",
       "381       1  0.465286    write\n",
       "382       1  0.851001      x.x\n",
       "150       2  0.843590   yellow\n",
       "\n",
       "[225 rows x 3 columns], R=30, lambda_step=0.01, plot_opts={'xlab': 'PC1', 'ylab': 'PC2'}, topic_order=[2, 3, 1, 4, 5])"
      ]
     },
     "execution_count": 49,
     "metadata": {},
     "output_type": "execute_result"
    }
   ],
   "source": [
    "plot"
   ]
  },
  {
   "cell_type": "markdown",
   "id": "8c06207c",
   "metadata": {},
   "source": [
    "**The number of figures show the number of topics and the size of the figures show the intensity of the topics. The right hand side shows the top 30 words with their level of importance pertaining to each topic. Blue shows the overall frequency of the words in the corpus, while the red colour shows the frequency of the words appearing in the topic.**"
   ]
  },
  {
   "cell_type": "code",
   "execution_count": null,
   "id": "b33e4683",
   "metadata": {},
   "outputs": [],
   "source": []
  }
 ],
 "metadata": {
  "kernelspec": {
   "display_name": "Python 3 (ipykernel)",
   "language": "python",
   "name": "python3"
  },
  "language_info": {
   "codemirror_mode": {
    "name": "ipython",
    "version": 3
   },
   "file_extension": ".py",
   "mimetype": "text/x-python",
   "name": "python",
   "nbconvert_exporter": "python",
   "pygments_lexer": "ipython3",
   "version": "3.9.12"
  }
 },
 "nbformat": 4,
 "nbformat_minor": 5
}
