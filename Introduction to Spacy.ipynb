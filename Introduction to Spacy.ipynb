{
 "cells": [
  {
   "cell_type": "code",
   "execution_count": 1,
   "id": "ffae54cc",
   "metadata": {},
   "outputs": [
    {
     "name": "stdout",
     "output_type": "stream",
     "text": [
      "^C\n",
      "Note: you may need to restart the kernel to use updated packages.\n"
     ]
    }
   ],
   "source": [
    "pip install -U spacy"
   ]
  },
  {
   "cell_type": "code",
   "execution_count": 2,
   "id": "c1fcaeda",
   "metadata": {},
   "outputs": [
    {
     "name": "stdout",
     "output_type": "stream",
     "text": [
      "^C\n",
      "Note: you may need to restart the kernel to use updated packages.\n"
     ]
    }
   ],
   "source": [
    "pip install -U pip setuptools wheel"
   ]
  },
  {
   "cell_type": "markdown",
   "id": "e82bb43f",
   "metadata": {},
   "source": [
    "## Introduction to NLP with spacy"
   ]
  },
  {
   "cell_type": "code",
   "execution_count": 5,
   "id": "67df3268",
   "metadata": {},
   "outputs": [
    {
     "name": "stdout",
     "output_type": "stream",
     "text": [
      "Requirement already satisfied: pip in d:\\coding\\lib\\site-packages (22.3.1)\n",
      "Collecting pip\n",
      "  Downloading pip-23.0-py3-none-any.whl (2.1 MB)\n",
      "     ---------------------------------------- 2.1/2.1 MB 9.4 MB/s eta 0:00:00\n",
      "Requirement already satisfied: setuptools in d:\\coding\\lib\\site-packages (65.6.3)\n",
      "Collecting setuptools\n",
      "  Downloading setuptools-67.2.0-py3-none-any.whl (1.1 MB)\n",
      "     ---------------------------------------- 1.1/1.1 MB 11.5 MB/s eta 0:00:00\n",
      "Requirement already satisfied: wheel in d:\\coding\\lib\\site-packages (0.38.4)\n",
      "Installing collected packages: setuptools, pip\n",
      "  Attempting uninstall: setuptools\n",
      "    Found existing installation: setuptools 65.6.3\n",
      "    Uninstalling setuptools-65.6.3:\n",
      "      Successfully uninstalled setuptools-65.6.3\n",
      "  Attempting uninstall: pip\n",
      "    Found existing installation: pip 22.3.1\n",
      "    Uninstalling pip-22.3.1:\n",
      "      Successfully uninstalled pip-22.3.1\n",
      "Successfully installed pip-23.0 setuptools-67.2.0\n"
     ]
    },
    {
     "name": "stderr",
     "output_type": "stream",
     "text": [
      "WARNING: Ignoring invalid distribution -pacy (d:\\coding\\lib\\site-packages)\n",
      "WARNING: Ignoring invalid distribution -pacy (d:\\coding\\lib\\site-packages)\n",
      "WARNING: Ignoring invalid distribution -pacy (d:\\coding\\lib\\site-packages)\n",
      "    WARNING: Ignoring invalid distribution -pacy (d:\\coding\\lib\\site-packages)\n",
      "    WARNING: Ignoring invalid distribution -pacy (d:\\coding\\lib\\site-packages)\n",
      "ERROR: pip's dependency resolver does not currently take into account all the packages that are installed. This behaviour is the source of the following dependency conflicts.\n",
      "spyder 5.1.5 requires pyqt5<5.13, which is not installed.\n",
      "spyder 5.1.5 requires pyqtwebengine<5.13, which is not installed.\n",
      "conda-repo-cli 1.0.4 requires pathlib, which is not installed.\n",
      "anaconda-project 0.10.2 requires ruamel-yaml, which is not installed.\n",
      "en-core-web-sm 3.4.1 requires spacy<3.5.0,>=3.4.0, but you have spacy 3.5.0 which is incompatible.\n",
      "WARNING: Ignoring invalid distribution -pacy (d:\\coding\\lib\\site-packages)\n",
      "WARNING: Ignoring invalid distribution -pacy (d:\\coding\\lib\\site-packages)\n",
      "WARNING: Ignoring invalid distribution -pacy (d:\\coding\\lib\\site-packages)\n"
     ]
    }
   ],
   "source": [
    "import spacy"
   ]
  },
  {
   "cell_type": "code",
   "execution_count": 6,
   "id": "37707716",
   "metadata": {},
   "outputs": [],
   "source": [
    "nlp = spacy.blank(\"en\")"
   ]
  },
  {
   "cell_type": "code",
   "execution_count": 7,
   "id": "9d28775a",
   "metadata": {},
   "outputs": [],
   "source": [
    "doc_1 = nlp(\"Today is Tuesday and the date is 3rd January 2023. We are starting off with NLP Course. Yipee!!!\")"
   ]
  },
  {
   "cell_type": "code",
   "execution_count": 8,
   "id": "d6edbd9e",
   "metadata": {},
   "outputs": [
    {
     "data": {
      "text/plain": [
       "spacy.tokens.doc.Doc"
      ]
     },
     "execution_count": 8,
     "metadata": {},
     "output_type": "execute_result"
    }
   ],
   "source": [
    "type (doc_1) # doc_1 is an object of the tokens class"
   ]
  },
  {
   "cell_type": "code",
   "execution_count": 9,
   "id": "111c1fe3",
   "metadata": {},
   "outputs": [
    {
     "data": {
      "text/plain": [
       "Today"
      ]
     },
     "execution_count": 9,
     "metadata": {},
     "output_type": "execute_result"
    }
   ],
   "source": [
    "doc_1[0]"
   ]
  },
  {
   "cell_type": "code",
   "execution_count": 10,
   "id": "b398b792",
   "metadata": {},
   "outputs": [
    {
     "data": {
      "text/plain": [
       "Today is Tuesday and the date is 3rd January"
      ]
     },
     "execution_count": 10,
     "metadata": {},
     "output_type": "execute_result"
    }
   ],
   "source": [
    "doc_1[: 9]"
   ]
  },
  {
   "cell_type": "code",
   "execution_count": 11,
   "id": "979efa4f",
   "metadata": {},
   "outputs": [
    {
     "data": {
      "text/plain": [
       "Today is Tuesday and the date is 3rd January 2023. We are starting off with NLP Course. Yipee!!"
      ]
     },
     "execution_count": 11,
     "metadata": {},
     "output_type": "execute_result"
    }
   ],
   "source": [
    "doc_1[: -1]"
   ]
  },
  {
   "cell_type": "code",
   "execution_count": 12,
   "id": "44524db6",
   "metadata": {},
   "outputs": [
    {
     "data": {
      "text/plain": [
       "Today is Tuesday and the date is 3rd January 2023. We are starting off with NLP Course."
      ]
     },
     "execution_count": 12,
     "metadata": {},
     "output_type": "execute_result"
    }
   ],
   "source": [
    "doc_1[: -4]"
   ]
  },
  {
   "cell_type": "code",
   "execution_count": 13,
   "id": "ab77db26",
   "metadata": {},
   "outputs": [
    {
     "data": {
      "text/plain": [
       "Tuesday and the date is"
      ]
     },
     "execution_count": 13,
     "metadata": {},
     "output_type": "execute_result"
    }
   ],
   "source": [
    "doc_1[2 : 7]"
   ]
  },
  {
   "cell_type": "code",
   "execution_count": null,
   "id": "e4f1352f",
   "metadata": {},
   "outputs": [],
   "source": [
    "doc_1[-1:]"
   ]
  },
  {
   "cell_type": "code",
   "execution_count": 15,
   "id": "e3553ab9",
   "metadata": {},
   "outputs": [
    {
     "data": {
      "text/plain": [
       "starting off with NLP Course. Yipee!!!"
      ]
     },
     "execution_count": 15,
     "metadata": {},
     "output_type": "execute_result"
    }
   ],
   "source": [
    "doc_1[-10:]"
   ]
  },
  {
   "cell_type": "code",
   "execution_count": 16,
   "id": "dd51bb09",
   "metadata": {},
   "outputs": [
    {
     "data": {
      "text/plain": [
       "date is 3rd January 2023. We are starting off with NLP Course. Yipee!!!"
      ]
     },
     "execution_count": 16,
     "metadata": {},
     "output_type": "execute_result"
    }
   ],
   "source": [
    "doc_1[5:]"
   ]
  },
  {
   "cell_type": "code",
   "execution_count": 17,
   "id": "fcd9baf6",
   "metadata": {},
   "outputs": [
    {
     "data": {
      "text/plain": [
       "Today is Tuesday and the date is 3rd January 2023. We are starting off with NLP Course. Yipee!"
      ]
     },
     "execution_count": 17,
     "metadata": {},
     "output_type": "execute_result"
    }
   ],
   "source": [
    "doc_1[: -2]"
   ]
  },
  {
   "cell_type": "code",
   "execution_count": 18,
   "id": "4d3221b7",
   "metadata": {},
   "outputs": [
    {
     "data": {
      "text/plain": [
       "23"
      ]
     },
     "execution_count": 18,
     "metadata": {},
     "output_type": "execute_result"
    }
   ],
   "source": [
    "len(doc_1)"
   ]
  },
  {
   "cell_type": "code",
   "execution_count": 19,
   "id": "c451c97a",
   "metadata": {},
   "outputs": [
    {
     "ename": "TypeError",
     "evalue": "'spacy.tokens.doc.Doc' object does not support item assignment",
     "output_type": "error",
     "traceback": [
      "\u001b[1;31m---------------------------------------------------------------------------\u001b[0m",
      "\u001b[1;31mTypeError\u001b[0m                                 Traceback (most recent call last)",
      "Input \u001b[1;32mIn [19]\u001b[0m, in \u001b[0;36m<cell line: 1>\u001b[1;34m()\u001b[0m\n\u001b[1;32m----> 1\u001b[0m doc_1[\u001b[38;5;241m0\u001b[39m] \u001b[38;5;241m=\u001b[39m \u001b[38;5;124m\"\u001b[39m\u001b[38;5;124mYesterday\u001b[39m\u001b[38;5;124m\"\u001b[39m\n",
      "\u001b[1;31mTypeError\u001b[0m: 'spacy.tokens.doc.Doc' object does not support item assignment"
     ]
    }
   ],
   "source": [
    "doc_1[0] = \"Yesterday\""
   ]
  },
  {
   "cell_type": "markdown",
   "id": "9d729b4b",
   "metadata": {},
   "source": [
    "### Tokenization"
   ]
  },
  {
   "attachments": {
    "image.png": {
     "image/png": "[encoded data removed]"
    }
   },
   "cell_type": "markdown",
   "id": "3152866b",
   "metadata": {},
   "source": [
    "![image.png](attachment:image.png)"
   ]
  },
  {
   "cell_type": "code",
   "execution_count": 20,
   "id": "cbce5715",
   "metadata": {},
   "outputs": [
    {
     "name": "stdout",
     "output_type": "stream",
     "text": [
      "Today\n",
      "is\n",
      "Tuesday\n",
      "and\n",
      "the\n",
      "date\n",
      "is\n",
      "3rd\n",
      "January\n",
      "2023\n",
      ".\n",
      "We\n",
      "are\n",
      "starting\n",
      "off\n",
      "with\n",
      "NLP\n",
      "Course\n",
      ".\n",
      "Yipee\n",
      "!\n",
      "!\n",
      "!\n"
     ]
    }
   ],
   "source": [
    "for token in doc_1:\n",
    "    print (token)"
   ]
  },
  {
   "cell_type": "markdown",
   "id": "fb91af25",
   "metadata": {},
   "source": [
    "### Stop Words"
   ]
  },
  {
   "cell_type": "code",
   "execution_count": 21,
   "id": "3bc268ec",
   "metadata": {},
   "outputs": [],
   "source": [
    "from spacy.lang.en.stop_words import STOP_WORDS"
   ]
  },
  {
   "cell_type": "code",
   "execution_count": 22,
   "id": "bb2064b9",
   "metadata": {},
   "outputs": [
    {
     "name": "stdout",
     "output_type": "stream",
     "text": [
      "{'‘s', 'does', 'whole', 'may', 'his', 'make', 'thence', 'i', 'was', 'against', 'whoever', 'they', 'between', 'fifteen', 'yet', 'and', 'bottom', 'back', 'upon', 'wherever', 'than', 'nor', 'somehow', 'ten', 'part', 'nothing', 'hence', 'into', 'whereafter', 'keep', 'noone', 'ca', 'two', 'regarding', '’re', 'its', 'whither', 'without', 'among', 'much', 'anyone', 'have', 'during', 'seeming', 'get', 'anywhere', 'moreover', 'quite', 'whenever', 'nevertheless', 'same', 'eleven', 'meanwhile', 'myself', 'us', 'not', 'thus', 'other', 'again', 'move', 'hundred', 'done', 'nobody', 'where', 'itself', 'thereupon', 'therefore', 'besides', 'via', 'around', 'towards', 'amount', 'after', \"'m\", 'six', 'cannot', 'twenty', 'anyhow', 'thru', 'at', 'herself', 'were', 'became', 'whence', 'another', 'everywhere', 'our', 'five', '‘d', 'various', 'everything', 'or', 'whereupon', '‘ll', 'of', '‘m', \"'d\", 'their', 'being', \"'ll\", 'in', 'sixty', 'across', 'beyond', 'enough', 'few', 'whose', 'for', 'you', 'it', 'four', 'then', 'since', 'ours', 'third', 'hereupon', 'further', 'whatever', 'used', 'whom', '‘re', 'what', 'that', 'onto', 'almost', 'becomes', 'this', '’ll', 'others', 'are', 'put', 'made', 'whereby', 'somewhere', 're', 'never', 'under', 'had', 'rather', 'sometime', 'only', 'but', 'each', 'indeed', 'none', 'any', 'all', 'still', 'thereafter', 'out', 'name', 'would', 'she', 'throughout', 'should', 'once', 'there', 'behind', 'wherein', 'by', 'every', 'must', 'did', 'can', 'just', 'a', '’ve', 'with', 'own', 'last', 'until', 'is', 'here', 'these', '‘ve', 'either', 'forty', 'could', 'be', 'show', 'to', 'which', 'something', 'we', 'such', 'off', 'give', 'when', 'serious', 'amongst', '’m', 'am', 'less', 'next', 'down', 'nine', 'above', 'seem', 'over', 'beforehand', 'will', 'due', 'full', 'also', 'really', 'becoming', 'several', 'always', 'he', 'her', 'more', 'else', 'my', 'therein', 'themselves', 'hers', 'yourself', 'many', 'so', 'very', 'three', 'nowhere', 'hereby', 'namely', 'formerly', 'first', 'even', 'through', 'empty', \"'s\", 'latter', 'well', 'himself', \"'ve\", 'alone', 'why', 'afterwards', 'do', 'go', 'now', 'side', 'see', 'top', 'per', 'please', 'up', 'from', 'eight', 'perhaps', 'become', 'them', 'hereafter', 'yours', 'ourselves', 'n‘t', 'ever', 'mine', 'except', 'however', 'some', 'both', 'neither', 'front', 'while', 'anyway', 'elsewhere', 'might', 'been', 'if', 'latterly', 'take', '’d', 'as', 'most', 'the', 'beside', 'him', 'along', 'me', 'using', 'your', 'already', 'call', 'fifty', 'herein', 'thereby', 'doing', 'has', 'say', 'mostly', 'unless', 'seemed', 'seems', 'about', 'anything', 'below', 'too', 'on', 'often', 'toward', 'n’t', 'no', 'otherwise', 'former', 'twelve', '’s', 'whether', 'least', 'within', 'who', 'one', \"'re\", \"n't\", 'an', 'together', 'although', 'before', 'because', 'whereas', 'sometimes', 'everyone', 'someone', 'those', 'though', 'how', 'yourselves'}\n"
     ]
    }
   ],
   "source": [
    "print (STOP_WORDS)"
   ]
  },
  {
   "cell_type": "code",
   "execution_count": 23,
   "id": "5424ef7f",
   "metadata": {},
   "outputs": [
    {
     "data": {
      "text/plain": [
       "326"
      ]
     },
     "execution_count": 23,
     "metadata": {},
     "output_type": "execute_result"
    }
   ],
   "source": [
    "len(STOP_WORDS)"
   ]
  },
  {
   "cell_type": "code",
   "execution_count": 24,
   "id": "0e1fea3d",
   "metadata": {},
   "outputs": [
    {
     "name": "stdout",
     "output_type": "stream",
     "text": [
      "Today ===> False\n",
      "is ===> True\n",
      "Tuesday ===> False\n",
      "and ===> True\n",
      "the ===> True\n",
      "date ===> False\n",
      "is ===> True\n",
      "3rd ===> False\n",
      "January ===> False\n",
      "2023 ===> False\n",
      ". ===> False\n",
      "We ===> True\n",
      "are ===> True\n",
      "starting ===> False\n",
      "off ===> True\n",
      "with ===> True\n",
      "NLP ===> False\n",
      "Course ===> False\n",
      ". ===> False\n",
      "Yipee ===> False\n",
      "! ===> False\n",
      "! ===> False\n",
      "! ===> False\n"
     ]
    }
   ],
   "source": [
    "# Checking if the tokens are stop words\n",
    "\n",
    "for token in doc_1:\n",
    "    print (token, '===>', token.is_stop)"
   ]
  },
  {
   "cell_type": "code",
   "execution_count": 26,
   "id": "d19f6652",
   "metadata": {},
   "outputs": [
    {
     "name": "stdout",
     "output_type": "stream",
     "text": [
      "15\n"
     ]
    }
   ],
   "source": [
    "# To find the number of non-stop words in the tokens\n",
    "\n",
    "count = 0\n",
    "for token in doc_1:\n",
    "    if token.is_stop != True:\n",
    "        count = count + 1\n",
    "print (count)"
   ]
  }
 ],
 "metadata": {
  "kernelspec": {
   "display_name": "Python 3 (ipykernel)",
   "language": "python",
   "name": "python3"
  },
  "language_info": {
   "codemirror_mode": {
    "name": "ipython",
    "version": 3
   },
   "file_extension": ".py",
   "mimetype": "text/x-python",
   "name": "python",
   "nbconvert_exporter": "python",
   "pygments_lexer": "ipython3",
   "version": "3.9.12"
  }
 },
 "nbformat": 4,
 "nbformat_minor": 5
}
