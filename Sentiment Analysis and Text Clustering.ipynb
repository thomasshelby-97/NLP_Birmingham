{
 "cells": [
  {
   "cell_type": "markdown",
   "id": "909f431e",
   "metadata": {},
   "source": [
    "## Sentiment Analysis and Text Classification"
   ]
  },
  {
   "cell_type": "code",
   "execution_count": 1,
   "id": "e2752106",
   "metadata": {},
   "outputs": [
    {
     "name": "stdout",
     "output_type": "stream",
     "text": [
      "Collecting textblob\n",
      "  Downloading textblob-0.17.1-py2.py3-none-any.whl (636 kB)\n",
      "     -------------------------------------- 636.8/636.8 kB 2.0 MB/s eta 0:00:00\n",
      "Requirement already satisfied: nltk>=3.1 in d:\\coding\\lib\\site-packages (from textblob) (3.7)\n",
      "Requirement already satisfied: click in d:\\coding\\lib\\site-packages (from nltk>=3.1->textblob) (8.0.4)\n",
      "Requirement already satisfied: joblib in d:\\coding\\lib\\site-packages (from nltk>=3.1->textblob) (1.1.0)\n",
      "Requirement already satisfied: tqdm in d:\\coding\\lib\\site-packages (from nltk>=3.1->textblob) (4.64.0)\n",
      "Requirement already satisfied: regex>=2021.8.3 in d:\\coding\\lib\\site-packages (from nltk>=3.1->textblob) (2022.3.15)\n",
      "Requirement already satisfied: colorama in d:\\coding\\lib\\site-packages (from click->nltk>=3.1->textblob) (0.4.4)\n",
      "Installing collected packages: textblob\n",
      "Successfully installed textblob-0.17.1\n"
     ]
    },
    {
     "name": "stderr",
     "output_type": "stream",
     "text": [
      "\n",
      "[notice] A new release of pip is available: 23.0 -> 23.0.1\n",
      "[notice] To update, run: python.exe -m pip install --upgrade pip\n"
     ]
    }
   ],
   "source": [
    "!pip install textblob"
   ]
  },
  {
   "cell_type": "code",
   "execution_count": 4,
   "id": "5ec07158",
   "metadata": {},
   "outputs": [],
   "source": [
    "from textblob import TextBlob"
   ]
  },
  {
   "cell_type": "code",
   "execution_count": 5,
   "id": "2bbb8300",
   "metadata": {},
   "outputs": [],
   "source": [
    "text1 = 'Anuj looks bit sad today even with someone'"
   ]
  },
  {
   "cell_type": "code",
   "execution_count": 6,
   "id": "fa1a61e8",
   "metadata": {},
   "outputs": [],
   "source": [
    "blob1 = TextBlob(text1)"
   ]
  },
  {
   "cell_type": "code",
   "execution_count": 7,
   "id": "857603db",
   "metadata": {},
   "outputs": [
    {
     "data": {
      "text/plain": [
       "textblob.blob.TextBlob"
      ]
     },
     "execution_count": 7,
     "metadata": {},
     "output_type": "execute_result"
    }
   ],
   "source": [
    "type(blob1)"
   ]
  },
  {
   "cell_type": "code",
   "execution_count": 8,
   "id": "d31ffeb3",
   "metadata": {},
   "outputs": [
    {
     "data": {
      "text/plain": [
       "Sentiment(polarity=-0.5, subjectivity=1.0)"
      ]
     },
     "execution_count": 8,
     "metadata": {},
     "output_type": "execute_result"
    }
   ],
   "source": [
    "# We want to have sentiments\n",
    "\n",
    "blob1.sentiment"
   ]
  },
  {
   "cell_type": "code",
   "execution_count": 9,
   "id": "a618900c",
   "metadata": {},
   "outputs": [],
   "source": [
    "text2 = 'I watched Ant Man and it was fantastic. I felt very happy'"
   ]
  },
  {
   "cell_type": "code",
   "execution_count": 10,
   "id": "9e550e0d",
   "metadata": {},
   "outputs": [],
   "source": [
    "blob2 = TextBlob(text2)"
   ]
  },
  {
   "cell_type": "code",
   "execution_count": 11,
   "id": "8e16c433",
   "metadata": {},
   "outputs": [
    {
     "data": {
      "text/plain": [
       "Sentiment(polarity=0.7, subjectivity=0.95)"
      ]
     },
     "execution_count": 11,
     "metadata": {},
     "output_type": "execute_result"
    }
   ],
   "source": [
    "blob2.sentiment"
   ]
  },
  {
   "cell_type": "markdown",
   "id": "70453b4e",
   "metadata": {},
   "source": [
    "**The sentiment is positive as the polarity is 0.7 i.e. lies within (0 and 1).**"
   ]
  },
  {
   "cell_type": "code",
   "execution_count": 12,
   "id": "161aa135",
   "metadata": {},
   "outputs": [],
   "source": [
    "text3 = 'I recently got placed in a firm dealing with Analytics. I was hoping for this internship and I am very happy with the same.'"
   ]
  },
  {
   "cell_type": "code",
   "execution_count": 13,
   "id": "6510537d",
   "metadata": {},
   "outputs": [],
   "source": [
    "blob3 = TextBlob(text3)"
   ]
  },
  {
   "cell_type": "code",
   "execution_count": 14,
   "id": "8d74dfc2",
   "metadata": {},
   "outputs": [
    {
     "data": {
      "text/plain": [
       "Sentiment(polarity=0.2, subjectivity=0.44375)"
      ]
     },
     "execution_count": 14,
     "metadata": {},
     "output_type": "execute_result"
    }
   ],
   "source": [
    "blob3.sentiment"
   ]
  },
  {
   "cell_type": "code",
   "execution_count": 15,
   "id": "7264cac3",
   "metadata": {},
   "outputs": [],
   "source": [
    "text4 = 'The Sun is going to set at 6 PM.'"
   ]
  },
  {
   "cell_type": "code",
   "execution_count": 16,
   "id": "38aad4e5",
   "metadata": {},
   "outputs": [],
   "source": [
    "blob4 = TextBlob(text4)"
   ]
  },
  {
   "cell_type": "code",
   "execution_count": 17,
   "id": "4b11ec3b",
   "metadata": {},
   "outputs": [
    {
     "data": {
      "text/plain": [
       "Sentiment(polarity=0.0, subjectivity=0.0)"
      ]
     },
     "execution_count": 17,
     "metadata": {},
     "output_type": "execute_result"
    }
   ],
   "source": [
    "blob4.sentiment"
   ]
  },
  {
   "cell_type": "markdown",
   "id": "d7809ab3",
   "metadata": {},
   "source": [
    "**Since the polarity is 0, the statement is neutral as there is no sentiment associated with the same.**"
   ]
  },
  {
   "cell_type": "code",
   "execution_count": 18,
   "id": "35290f3a",
   "metadata": {},
   "outputs": [],
   "source": [
    "text5 = 'Yipee! I am extremely happy with the India - Australia test match result which India won.'"
   ]
  },
  {
   "cell_type": "code",
   "execution_count": 19,
   "id": "5e45727f",
   "metadata": {},
   "outputs": [],
   "source": [
    "blob5 = TextBlob(text5)"
   ]
  },
  {
   "cell_type": "code",
   "execution_count": 20,
   "id": "48c2519b",
   "metadata": {},
   "outputs": [
    {
     "data": {
      "text/plain": [
       "Sentiment(polarity=0.8, subjectivity=1.0)"
      ]
     },
     "execution_count": 20,
     "metadata": {},
     "output_type": "execute_result"
    }
   ],
   "source": [
    "blob5.sentiment"
   ]
  },
  {
   "cell_type": "code",
   "execution_count": 21,
   "id": "8d099f10",
   "metadata": {},
   "outputs": [],
   "source": [
    "text6 = 'The Finance Minister Nirmala Sitharaman has presented the Union Budget of 2023, by delivering the budget speech. The budget proposed minor changes to tax policies, allocation of government spending, income tax, GST and Customs Duty changes and initiatives aimed at boosting the economy and addressing social issues. This union budget is also one of the major milestones to the central government, being the last full budget before the elections. Income Tax Changes The changes made to the Income Tax Regime of India and the direct tax system has far reaching implications in the lives of the middle-income earners. The finance bill of 2023 had proposed a major rework on the new income tax regime along with the tax structure. The structural and rate revisions in tax slabs, along with the increase in rebate limits under Section 87A from Rs. 5 Lakhs to Rs. 7 Lakhs help ease the tax payment and compliance burden on the middle class. A new standard deduction Rs. 52,500/- for taxpayers having taxable income of up to Rs. 5 Lakhs was also proposed in the union budget of 2023. Pensioners also benefit from not having to pay tax, as per the latest proposed changes, if the pension draws does not exceed Rs. 7.5 Lakhs in a financial year. The reduction of the TDS rate from 30 per cent to 20 per cent on the taxable portion of EPF withdrawals in non-PAN cases also favour the middle income earners. The conversion of Gold to electronic gold, to promote the dematerialisation of assets is no longer taxed as capital gains. This clarification will also contribute towards higher traceability of capital investments, while ensuring peace of mind of investors. Various amendments in terms of taxation of capital gains were also proposed, such as, when the aggregate premium for life insurance policies (other than ULIP) issued on or after 1st April, 2023 is above Rs. 5 lakhs, income from those policies with aggregate premium up to Rs. 5 Lakh shall be exempt, as per the proposals laid down in the budget. This is a favorable motion towards those who are in the lower taxpaying slabs, expecting to invest in life insurance policies. In a major tax relief to the brave soldiers, a deduction in the computation of total income was also proposed to be allowed to the agniveer on the contribution made by him or the Central Government to his Seva Nidhi account. Extending benefits of standard deduction as proposed, to the new tax regime for salaried class and pensioners Increasing tax exemption limit to Rs. 25 lakhs on leave encashment on retirement for non-government salaried employees are also favorable to the middle-income earners. Extension of the date of incorporation by one year for income tax benefits to start-ups and the  tax benefit of carry forward of losses on change of shareholding of start-ups from seven years of incorporation to ten years also paves the way for increased ease of doing business. From the perspective of procedural changes, implementation of a common Income Tax Returns (ITR) form for easy and smooth return filing and the decision to make the New Regime default foreshadow steps to abolish the old regime in the coming years. Simpler tax slabs in the new regime, easier return filing and implementation of 16 day processing of Income Tax Returns also aid easier adherence to the tax laws by the common-men. For the business establishments required to have a Permanent Account Number (PAN), the PAN will be used as the common identifier for all digital systems of specified government agencies. This will bring ease of doing business; and it will be facilitated through a legal mandate. The implementation of PAN as a conclusive proof of identity was also hinted at in the budget. From the significantly more attractive new income tax regime slowly making way for the demise of the old one, easier and faster filing and processing of ITRs, higher income tax slabs, introduction of standard deduction to the new income tax regime, some tweaks in the capital gains taxation and minor benefits to pensioners on leave encashment as the cherry on top, it is obvious that there has been a major attempt from the central government to please the middle class of the country. Customs Duty Changes Even though not many customs duty changes were brought about in the budget, the changes proposed will have far reaching effects on the price of many day-to-day items. Duty exemptions to compressed biogas and to import of capital goods and machinery required for manufacture of lithium-ion cells for batteries used in E-Vehicles point towards more affordable electric vehicles, is a welcome step in popularization of green transport and green energy. Import duties on compounded rubber have been hiked, in a move to support Indian Rubber plantations The relief in customs duty on import of certain parts and inputs like camera lens and continued concession on lithium ion batteries can result in significantly lower ‘Made in India’ mobile phone prices, bridging the digital divideRead More: https://www.taxscan.in/budget-2023-effects-of-income-tax-customs-and-gst-changes-on-the-life-of-working-class-read-finance-bill/251260/'"
   ]
  },
  {
   "cell_type": "code",
   "execution_count": 22,
   "id": "6976fc65",
   "metadata": {},
   "outputs": [],
   "source": [
    "blob6 = TextBlob(text6)"
   ]
  },
  {
   "cell_type": "code",
   "execution_count": 23,
   "id": "7207220a",
   "metadata": {},
   "outputs": [
    {
     "data": {
      "text/plain": [
       "Sentiment(polarity=0.12190384571336951, subjectivity=0.40648892553654453)"
      ]
     },
     "execution_count": 23,
     "metadata": {},
     "output_type": "execute_result"
    }
   ],
   "source": [
    "blob6.sentiment"
   ]
  },
  {
   "cell_type": "markdown",
   "id": "1951d004",
   "metadata": {},
   "source": [
    "### Text Classification"
   ]
  },
  {
   "cell_type": "markdown",
   "id": "21b42b20",
   "metadata": {},
   "source": [
    "**For text classification, we make use of Conditional probability. We therefore use Naive Bayes classifier for doing so.**\n",
    "\n",
    "**We find P(Y/X), where, Y is the target and the X is the feature.**\n",
    "\n",
    "**P(Y / X) = [P(X/Y) * P(Y)] / P(X)**"
   ]
  },
  {
   "cell_type": "markdown",
   "id": "37c22b44",
   "metadata": {},
   "source": [
    "**When we have more than 1 feature, P(Y / x1,x2,x3...) = [ P(x1,x2,x3.../Y) * P(Y) ] / P(x1,x2,x3...)**\n",
    "\n",
    "**Assuming independent events, P(Y / x1, x2, x3 ...) = [ P(x1 / Y1) * P(x2 / Y2) * .... ] / [P(x1) * P(x2) * P(x3) ... ]**"
   ]
  },
  {
   "cell_type": "markdown",
   "id": "44df4d67",
   "metadata": {},
   "source": [
    "**Therefore the Naive Bayes is named so, because of its b=naive assumption of considering all the features as independent and then applying Bayes Theorem. We are using Multinomial Distribution Naive Bayes for Text Classification**"
   ]
  },
  {
   "cell_type": "code",
   "execution_count": 27,
   "id": "049bbfc4",
   "metadata": {},
   "outputs": [],
   "source": [
    "from sklearn.datasets import fetch_20newsgroups"
   ]
  },
  {
   "cell_type": "code",
   "execution_count": 28,
   "id": "a71b76df",
   "metadata": {},
   "outputs": [],
   "source": [
    "train = fetch_20newsgroups(subset = 'train')\n",
    "test = fetch_20newsgroups(subset = 'test')"
   ]
  },
  {
   "cell_type": "code",
   "execution_count": 29,
   "id": "5360b31e",
   "metadata": {},
   "outputs": [
    {
     "data": {
      "text/plain": [
       "sklearn.utils.Bunch"
      ]
     },
     "execution_count": 29,
     "metadata": {},
     "output_type": "execute_result"
    }
   ],
   "source": [
    "type(train)"
   ]
  },
  {
   "cell_type": "code",
   "execution_count": 30,
   "id": "4143aafa",
   "metadata": {},
   "outputs": [
    {
     "data": {
      "text/plain": [
       "dict_keys(['data', 'filenames', 'target_names', 'target', 'DESCR'])"
      ]
     },
     "execution_count": 30,
     "metadata": {},
     "output_type": "execute_result"
    }
   ],
   "source": [
    "train.keys()"
   ]
  },
  {
   "cell_type": "code",
   "execution_count": 37,
   "id": "af1313fd",
   "metadata": {},
   "outputs": [
    {
     "data": {
      "text/plain": [
       "['alt.atheism',\n",
       " 'comp.graphics',\n",
       " 'comp.os.ms-windows.misc',\n",
       " 'comp.sys.ibm.pc.hardware',\n",
       " 'comp.sys.mac.hardware',\n",
       " 'comp.windows.x',\n",
       " 'misc.forsale',\n",
       " 'rec.autos',\n",
       " 'rec.motorcycles',\n",
       " 'rec.sport.baseball',\n",
       " 'rec.sport.hockey',\n",
       " 'sci.crypt',\n",
       " 'sci.electronics',\n",
       " 'sci.med',\n",
       " 'sci.space',\n",
       " 'soc.religion.christian',\n",
       " 'talk.politics.guns',\n",
       " 'talk.politics.mideast',\n",
       " 'talk.politics.misc',\n",
       " 'talk.religion.misc']"
      ]
     },
     "execution_count": 37,
     "metadata": {},
     "output_type": "execute_result"
    }
   ],
   "source": [
    "train['target_names']"
   ]
  },
  {
   "cell_type": "code",
   "execution_count": 31,
   "id": "d1314764",
   "metadata": {},
   "outputs": [
    {
     "data": {
      "text/plain": [
       "array([7, 4, 4, ..., 3, 1, 8])"
      ]
     },
     "execution_count": 31,
     "metadata": {},
     "output_type": "execute_result"
    }
   ],
   "source": [
    "train['target']"
   ]
  },
  {
   "cell_type": "code",
   "execution_count": 32,
   "id": "3b2c8f60",
   "metadata": {},
   "outputs": [
    {
     "data": {
      "text/plain": [
       "array([ 0,  1,  2,  3,  4,  5,  6,  7,  8,  9, 10, 11, 12, 13, 14, 15, 16,\n",
       "       17, 18, 19])"
      ]
     },
     "execution_count": 32,
     "metadata": {},
     "output_type": "execute_result"
    }
   ],
   "source": [
    "import numpy as np\n",
    "\n",
    "np.unique(train['target'])"
   ]
  },
  {
   "cell_type": "code",
   "execution_count": 35,
   "id": "5354006b",
   "metadata": {},
   "outputs": [
    {
     "name": "stdout",
     "output_type": "stream",
     "text": [
      "From: guykuo@carson.u.washington.edu (Guy Kuo)\n",
      "Subject: SI Clock Poll - Final Call\n",
      "Summary: Final call for SI clock reports\n",
      "Keywords: SI,acceleration,clock,upgrade\n",
      "Article-I.D.: shelley.1qvfo9INNc3s\n",
      "Organization: University of Washington\n",
      "Lines: 11\n",
      "NNTP-Posting-Host: carson.u.washington.edu\n",
      "\n",
      "A fair number of brave souls who upgraded their SI clock oscillator have\n",
      "shared their experiences for this poll. Please send a brief message detailing\n",
      "your experiences with the procedure. Top speed attained, CPU rated speed,\n",
      "add on cards and adapters, heat sinks, hour of usage per day, floppy disk\n",
      "functionality with 800 and 1.4 m floppies are especially requested.\n",
      "\n",
      "I will be summarizing in the next two days, so please add to the network\n",
      "knowledge base if you have done the clock upgrade and haven't answered this\n",
      "poll. Thanks.\n",
      "\n",
      "Guy Kuo <guykuo@u.washington.edu>\n",
      "\n"
     ]
    }
   ],
   "source": [
    "print(train['data'][1])"
   ]
  },
  {
   "cell_type": "code",
   "execution_count": 36,
   "id": "caf929c5",
   "metadata": {},
   "outputs": [
    {
     "name": "stdout",
     "output_type": "stream",
     "text": [
      "comp.graphics\n"
     ]
    }
   ],
   "source": [
    "print(train['target_names'][1])"
   ]
  },
  {
   "cell_type": "code",
   "execution_count": 38,
   "id": "42506e30",
   "metadata": {},
   "outputs": [
    {
     "name": "stdout",
     "output_type": "stream",
     "text": [
      "From: irwin@cmptrc.lonestar.org (Irwin Arnstein)\n",
      "Subject: Re: Recommendation on Duc\n",
      "Summary: What's it worth?\n",
      "Distribution: usa\n",
      "Expires: Sat, 1 May 1993 05:00:00 GMT\n",
      "Organization: CompuTrac Inc., Richardson TX\n",
      "Keywords: Ducati, GTS, How much? \n",
      "Lines: 13\n",
      "\n",
      "I have a line on a Ducati 900GTS 1978 model with 17k on the clock.  Runs\n",
      "very well, paint is the bronze/brown/orange faded out, leaks a bit of oil\n",
      "and pops out of 1st with hard accel.  The shop will fix trans and oil \n",
      "leak.  They sold the bike to the 1 and only owner.  They want $3495, and\n",
      "I am thinking more like $3K.  Any opinions out there?  Please email me.\n",
      "Thanks.  It would be a nice stable mate to the Beemer.  Then I'll get\n",
      "a jap bike and call myself Axis Motors!\n",
      "\n",
      "-- \n",
      "-----------------------------------------------------------------------\n",
      "\"Tuba\" (Irwin)      \"I honk therefore I am\"     CompuTrac-Richardson,Tx\n",
      "irwin@cmptrc.lonestar.org    DoD #0826          (R75/6)\n",
      "-----------------------------------------------------------------------\n",
      "\n",
      "\n",
      "rec.sport.hockey\n"
     ]
    }
   ],
   "source": [
    "print(train['data'][10])\n",
    "print()\n",
    "print(train['target_names'][10])"
   ]
  },
  {
   "cell_type": "code",
   "execution_count": 42,
   "id": "ad8e8c51",
   "metadata": {},
   "outputs": [
    {
     "name": "stdout",
     "output_type": "stream",
     "text": [
      "From: mathew <mathew@mantis.co.uk>\n",
      "Subject: Re: <Political Atheists?\n",
      "Organization: Mantis Consultants, Cambridge. UK.\n",
      "X-Newsreader: rusnews v1.01\n",
      "Lines: 22\n",
      "\n",
      "kmr4@po.CWRU.edu (Keith M. Ryan) writes:\n",
      "> ( I am almost sure that Zyklon-B is immediate and painless method of \n",
      "> death. If not, insert soem other form. )\n",
      "> \n",
      ">         And, ethnic and minority groups have been killed, mutilated and \n",
      "> exterminated through out history, so I guess it was not unusual.\n",
      "> \n",
      ">         So, you would agree that the holocost would be allowed under the US \n",
      "> Constitution?  [ in so far, the punishment. I doubt they recieved what would \n",
      "> be considered a \"fair\" trial by US standards.\n",
      "\n",
      "Don't be so sure.  Look what happened to Japanese citizens in the US during\n",
      "World War II.  If you're prepared to say \"Let's round these people up and\n",
      "stick them in a concentration camp without trial\", it's only a short step to\n",
      "gassing them without trial.  After all, it seems that the Nazis originally\n",
      "only intended to imprison the Jews; the Final Solution was dreamt up partly\n",
      "because they couldn't afford to run the camps because of the devastation\n",
      "caused by Goering's Total War.  Those who weren't gassed generally died of\n",
      "malnutrition or disease.\n",
      "\n",
      "\n",
      "mathew\n",
      "\n",
      "\n",
      "soc.religion.christian\n"
     ]
    }
   ],
   "source": [
    "print(train['data'][15])\n",
    "print()\n",
    "print(train['target_names'][15])"
   ]
  },
  {
   "cell_type": "markdown",
   "id": "0168d8bb",
   "metadata": {},
   "source": [
    "### Building the Model"
   ]
  },
  {
   "cell_type": "code",
   "execution_count": 46,
   "id": "e6425e08",
   "metadata": {},
   "outputs": [],
   "source": [
    "from sklearn.feature_extraction.text import TfidfVectorizer\n",
    "from sklearn.naive_bayes import MultinomialNB"
   ]
  },
  {
   "cell_type": "code",
   "execution_count": 47,
   "id": "f39e9aff",
   "metadata": {},
   "outputs": [],
   "source": [
    "from sklearn.pipeline import make_pipeline"
   ]
  },
  {
   "cell_type": "code",
   "execution_count": 48,
   "id": "b655ce27",
   "metadata": {},
   "outputs": [],
   "source": [
    "mnb = make_pipeline(TfidfVectorizer(), MultinomialNB())"
   ]
  },
  {
   "cell_type": "code",
   "execution_count": 49,
   "id": "2a946a60",
   "metadata": {},
   "outputs": [
    {
     "data": {
      "text/plain": [
       "sklearn.pipeline.Pipeline"
      ]
     },
     "execution_count": 49,
     "metadata": {},
     "output_type": "execute_result"
    }
   ],
   "source": [
    "type(mnb)"
   ]
  },
  {
   "cell_type": "code",
   "execution_count": 50,
   "id": "99ac9791",
   "metadata": {},
   "outputs": [
    {
     "data": {
      "text/plain": [
       "Pipeline(steps=[('tfidfvectorizer', TfidfVectorizer()),\n",
       "                ('multinomialnb', MultinomialNB())])"
      ]
     },
     "execution_count": 50,
     "metadata": {},
     "output_type": "execute_result"
    }
   ],
   "source": [
    "# Training the model\n",
    "\n",
    "mnb.fit(train['data'], train['target'])"
   ]
  },
  {
   "cell_type": "code",
   "execution_count": 51,
   "id": "efdf6073",
   "metadata": {},
   "outputs": [
    {
     "data": {
      "text/plain": [
       "array([ 7, 11,  0, ...,  9,  3, 15])"
      ]
     },
     "execution_count": 51,
     "metadata": {},
     "output_type": "execute_result"
    }
   ],
   "source": [
    "# Prediction\n",
    "\n",
    "y_pred = mnb.predict(test['data'])\n",
    "y_pred"
   ]
  },
  {
   "cell_type": "markdown",
   "id": "e1540ebf",
   "metadata": {},
   "source": [
    "### Performance of the model"
   ]
  },
  {
   "cell_type": "code",
   "execution_count": 52,
   "id": "a210c957",
   "metadata": {},
   "outputs": [],
   "source": [
    "from sklearn.metrics import classification_report, confusion_matrix"
   ]
  },
  {
   "cell_type": "code",
   "execution_count": 53,
   "id": "b718c688",
   "metadata": {},
   "outputs": [
    {
     "name": "stdout",
     "output_type": "stream",
     "text": [
      "Classification Report: \n",
      "               precision    recall  f1-score   support\n",
      "\n",
      "           0       0.80      0.52      0.63       319\n",
      "           1       0.81      0.65      0.72       389\n",
      "           2       0.82      0.65      0.73       394\n",
      "           3       0.67      0.78      0.72       392\n",
      "           4       0.86      0.77      0.81       385\n",
      "           5       0.89      0.75      0.82       395\n",
      "           6       0.93      0.69      0.80       390\n",
      "           7       0.85      0.92      0.88       396\n",
      "           8       0.94      0.93      0.93       398\n",
      "           9       0.92      0.90      0.91       397\n",
      "          10       0.89      0.97      0.93       399\n",
      "          11       0.59      0.97      0.74       396\n",
      "          12       0.84      0.60      0.70       393\n",
      "          13       0.92      0.74      0.82       396\n",
      "          14       0.84      0.89      0.87       394\n",
      "          15       0.44      0.98      0.61       398\n",
      "          16       0.64      0.94      0.76       364\n",
      "          17       0.93      0.91      0.92       376\n",
      "          18       0.96      0.42      0.58       310\n",
      "          19       0.97      0.14      0.24       251\n",
      "\n",
      "    accuracy                           0.77      7532\n",
      "   macro avg       0.83      0.76      0.76      7532\n",
      "weighted avg       0.82      0.77      0.77      7532\n",
      "\n"
     ]
    }
   ],
   "source": [
    "report = classification_report(test['target'], y_pred)\n",
    "print ('Classification Report: \\n', report)"
   ]
  },
  {
   "cell_type": "code",
   "execution_count": 54,
   "id": "58f087e8",
   "metadata": {},
   "outputs": [
    {
     "name": "stdout",
     "output_type": "stream",
     "text": [
      "Confusion Matrix: \n",
      " [[166   0   0   1   0   1   0   0   1   1   1   3   0   6   3 123   4   8\n",
      "    0   1]\n",
      " [  1 252  15  12   9  18   1   2   1   5   2  41   4   0   6  15   4   1\n",
      "    0   0]\n",
      " [  0  14 258  45   3   9   0   2   1   3   2  25   1   0   6  23   2   0\n",
      "    0   0]\n",
      " [  0   5  11 305  17   1   3   6   1   0   2  19  13   0   5   3   1   0\n",
      "    0   0]\n",
      " [  0   3   8  23 298   0   3   8   1   3   1  16   8   0   2   8   3   0\n",
      "    0   0]\n",
      " [  1  21  17  13   2 298   1   0   1   1   0  23   0   1   4  10   2   0\n",
      "    0   0]\n",
      " [  0   1   3  31  12   1 271  19   4   4   6   5  12   6   3   9   3   0\n",
      "    0   0]\n",
      " [  0   1   0   3   0   0   4 364   3   2   2   4   1   1   3   3   4   0\n",
      "    1   0]\n",
      " [  0   0   0   1   0   0   2  10 371   0   0   4   0   0   0   8   2   0\n",
      "    0   0]\n",
      " [  0   0   0   0   1   0   0   4   0 357  22   0   0   0   2   9   1   1\n",
      "    0   0]\n",
      " [  0   0   0   0   0   0   0   1   0   4 387   1   0   0   1   5   0   0\n",
      "    0   0]\n",
      " [  0   2   1   0   0   1   1   3   0   0   0 383   1   0   0   3   1   0\n",
      "    0   0]\n",
      " [  0   4   2  17   5   0   2   8   7   1   2  78 235   3  11  15   2   1\n",
      "    0   0]\n",
      " [  2   3   0   1   1   3   1   0   2   3   4  11   5 292   6  52   6   4\n",
      "    0   0]\n",
      " [  0   2   0   1   0   3   0   2   1   0   1   6   1   2 351  19   4   0\n",
      "    1   0]\n",
      " [  2   0   0   0   0   0   0   0   1   0   0   0   0   1   2 392   0   0\n",
      "    0   0]\n",
      " [  0   0   0   1   0   0   2   0   1   1   0  10   0   0   1   6 341   1\n",
      "    0   0]\n",
      " [  0   1   0   0   0   0   0   0   0   1   0   2   0   0   0  24   3 344\n",
      "    1   0]\n",
      " [  2   0   0   0   0   0   0   1   0   0   1  11   0   1   7  35 118   5\n",
      "  129   0]\n",
      " [ 33   2   0   0   0   0   0   0   0   1   1   3   0   4   4 131  29   5\n",
      "    3  35]]\n"
     ]
    }
   ],
   "source": [
    "# Confusion Matrix\n",
    "\n",
    "cm = confusion_matrix(test['target'], y_pred)\n",
    "print ('Confusion Matrix: \\n', cm)"
   ]
  },
  {
   "cell_type": "markdown",
   "id": "91f9d99c",
   "metadata": {},
   "source": [
    "**The diagonal elements show the correct classification of the classes.**"
   ]
  },
  {
   "cell_type": "markdown",
   "id": "98d1bef4",
   "metadata": {},
   "source": [
    "### Testing with our own data"
   ]
  },
  {
   "cell_type": "code",
   "execution_count": 55,
   "id": "3d8c0653",
   "metadata": {},
   "outputs": [],
   "source": [
    "def news_group_prediction(doc):\n",
    "    group_pred = mnb.predict([doc])\n",
    "    return test['target_names'][group_pred[0]]"
   ]
  },
  {
   "cell_type": "code",
   "execution_count": 56,
   "id": "fd0aeb90",
   "metadata": {},
   "outputs": [
    {
     "data": {
      "text/plain": [
       "'sci.crypt'"
      ]
     },
     "execution_count": 56,
     "metadata": {},
     "output_type": "execute_result"
    }
   ],
   "source": [
    "news_group_prediction('Computer technology is becoming more user friendly')"
   ]
  },
  {
   "cell_type": "code",
   "execution_count": 57,
   "id": "a0802f75",
   "metadata": {},
   "outputs": [
    {
     "data": {
      "text/plain": [
       "'rec.sport.hockey'"
      ]
     },
     "execution_count": 57,
     "metadata": {},
     "output_type": "execute_result"
    }
   ],
   "source": [
    "news_group_prediction('Football is the most followed sport in Europe. It is quite a big business which involves lot of money')"
   ]
  },
  {
   "cell_type": "code",
   "execution_count": null,
   "id": "30d247df",
   "metadata": {},
   "outputs": [],
   "source": []
  }
 ],
 "metadata": {
  "kernelspec": {
   "display_name": "Python 3 (ipykernel)",
   "language": "python",
   "name": "python3"
  },
  "language_info": {
   "codemirror_mode": {
    "name": "ipython",
    "version": 3
   },
   "file_extension": ".py",
   "mimetype": "text/x-python",
   "name": "python",
   "nbconvert_exporter": "python",
   "pygments_lexer": "ipython3",
   "version": "3.9.12"
  }
 },
 "nbformat": 4,
 "nbformat_minor": 5
}
